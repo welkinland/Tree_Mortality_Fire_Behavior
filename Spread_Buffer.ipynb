{
 "cells": [
  {
   "cell_type": "code",
   "execution_count": 1,
   "metadata": {},
   "outputs": [],
   "source": [
    "import shapely\n",
    "import geopandas as gpd\n",
    "import pandas as pd\n",
    "import numpy as np"
   ]
  },
  {
   "cell_type": "code",
   "execution_count": 2,
   "metadata": {},
   "outputs": [],
   "source": [
    "import matplotlib.pyplot as plt"
   ]
  },
  {
   "cell_type": "code",
   "execution_count": 26,
   "metadata": {},
   "outputs": [],
   "source": [
    "fire=gpd.read_file(r'full_progression_1219_fireline_spread.shp')"
   ]
  },
  {
   "cell_type": "code",
   "execution_count": 27,
   "metadata": {},
   "outputs": [],
   "source": [
    "def create_buffer_clip(row):\n",
    "    '''\n",
    "    geopandas only allows scale and resolution parameters when creating buffer;\n",
    "    use this function with pandas.apply to create a flat buffer, and clip the buffer by half with fire line\n",
    "    '''\n",
    "    #create flat buffer (150m, 5 pixels)\n",
    "    buf=row.geometry.buffer(150,resolution=1,cap_style=2)\n",
    "    #split buffer by half with the fire line\n",
    "    pol_buffer=shapely.geometry.MultiPolygon(shapely.ops.split(buf,row.geometry))\n",
    "    return pol_buffer\n"
   ]
  },
  {
   "cell_type": "code",
   "execution_count": 28,
   "metadata": {},
   "outputs": [],
   "source": [
    "#fire_buf=test.geometry.buffer(5,resolution=1)\n",
    "fire_buf=fire.apply(create_buffer_clip,axis=1)"
   ]
  },
  {
   "cell_type": "code",
   "execution_count": 29,
   "metadata": {},
   "outputs": [
    {
     "data": {
      "text/plain": [
       "0        MULTIPOLYGON (((121035.297 -55531.009, 121034....\n",
       "1        MULTIPOLYGON (((120572.416 -54782.783, 120706....\n",
       "2        MULTIPOLYGON (((120847.958 -54619.945, 120779....\n",
       "3        MULTIPOLYGON (((121009.889 -54607.529, 121007....\n",
       "4        MULTIPOLYGON (((121184.669 -54678.293, 121117....\n",
       "                               ...                        \n",
       "32238    MULTIPOLYGON (((124862.361 -195545.849, 124717...\n",
       "32239    MULTIPOLYGON (((124423.274 -195583.022, 124500...\n",
       "32240    MULTIPOLYGON (((124458.013 -195976.937, 124318...\n",
       "32241    MULTIPOLYGON (((124872.013 -195914.557, 124722...\n",
       "32242    MULTIPOLYGON (((124320.370 -196072.649, 124318...\n",
       "Length: 32243, dtype: geometry"
      ]
     },
     "execution_count": 29,
     "metadata": {},
     "output_type": "execute_result"
    }
   ],
   "source": [
    "#convert to geo series\n",
    "fire_buf=gpd.GeoSeries(fire_buf)\n",
    "fire_buf"
   ]
  },
  {
   "cell_type": "code",
   "execution_count": 30,
   "metadata": {},
   "outputs": [],
   "source": [
    "fire_buffer=fire.copy()\n",
    "fire_buffer['geometry']=fire_buf"
   ]
  },
  {
   "cell_type": "code",
   "execution_count": 128,
   "metadata": {},
   "outputs": [],
   "source": [
    "fire_buffer=fire_buffer.explode()"
   ]
  },
  {
   "cell_type": "code",
   "execution_count": 133,
   "metadata": {},
   "outputs": [],
   "source": [
    "fire_buffer=fire_buffer.rename_axis(['line_num','buffer_num']).reset_index()"
   ]
  },
  {
   "cell_type": "code",
   "execution_count": 172,
   "metadata": {},
   "outputs": [],
   "source": [
    "fire_perimeter=gpd.read_file(r'./../progression/Full_progression_1219_052720.shp')"
   ]
  },
  {
   "cell_type": "code",
   "execution_count": 66,
   "metadata": {},
   "outputs": [],
   "source": [
    "def middle_angle(p1,p2):\n",
    "    '''\n",
    "    takes two centroid and calculate the slope of the line connecting their mid-points\n",
    "    the direction is based on centroid 1\n",
    "    p1: the centroid of the fireline\n",
    "    p2: the centroid of the buffer polygon\n",
    "    return angle value in degrees (ranges from -180(0)-180, 0 degree indicates east, 180 indicates west, 90 is north,-90 is south)\n",
    "    '''\n",
    "    \n",
    "    #p1=line1.centroid\n",
    "    #p2=line2.centroid\n",
    "    \n",
    "    import math\n",
    "    \n",
    "    #use math package\n",
    "    dy=p2.coords[0][1]-p1.coords[0][1]\n",
    "    dx=p2.coords[0][0]-p1.coords[0][0]\n",
    "    angle_mid=math.degrees(math.atan2(dy, dx)) #get radiance and convert to degree\n",
    "\n",
    "    #use numpy\n",
    "    #connecting=shapely.geometry.LineString([p1,p2])\n",
    "    #seg = np.array(connecting)\n",
    "    #seg = seg[1] - seg[0]\n",
    "    #angle_mid = np.angle(complex(*(seg)), deg=True)\n",
    "    \n",
    "    return angle_mid"
   ]
  },
  {
   "cell_type": "code",
   "execution_count": 253,
   "metadata": {},
   "outputs": [],
   "source": [
    "#check if the buffer is in the burned side or the unburned side\n",
    "def check_burn(row_buffer,fire,fire_perimeter):\n",
    "    '''\n",
    "    check which buffer is the burned side which is the unburned side\n",
    "    \n",
    "    arguments:\n",
    "    row_buffer: one row from the clipped buffer dataset\n",
    "    fire: the fireline dataset\n",
    "    fire_perimeter: the daily burned area dataset\n",
    "    return:\n",
    "    1: non-burned buffer\n",
    "    0: others\n",
    "    -1: burned area buffer\n",
    "    '''\n",
    "\n",
    "    #get the corresponding fire line from the fireline dataset\n",
    "    row_fire=fire.iloc[row_buffer.line_num,:].copy()\n",
    "    \n",
    "    ##label 0 if the fire has only been burned for one day\n",
    "    #if (row_fire.mid_dir_pr==-999)&(row_fire.mid_dir==-999):\n",
    "    #    return 0\n",
    "    #elif row_fire.mid_dir_pr==-999:\n",
    "    #    #for the first day fireline, compare it with future direction (to be updated with the first day boundary centroid)         \n",
    "    #    p1=row_fire.geometry.centroid\n",
    "    #    p2=row_buffer.geometry.centroid\n",
    "    #    ang=middle_angle(p1,p2)\n",
    "    #    #compare future, if same direction, return -1\n",
    "    #    if np.sign(row_fire.mid_dir)==np.sign(ang):\n",
    "    #        return -1\n",
    "    #    else:\n",
    "    #        return 1\n",
    "     \n",
    "    p1=row_fire.geometry.centroid\n",
    "    p2=row_buffer.geometry.centroid\n",
    "    ang=middle_angle(p1,p2)\n",
    "    \n",
    "    #for one day fire and the first day fireline, calculate the direction from line to first day centroid\n",
    "    if row_fire.mid_dir_pr==-999:         \n",
    "        first=fire_perimeter.loc[(fire_perimeter.gridcode==row_fire.gridcode)&(fire_perimeter.Name==row_fire.Name),'geometry']\n",
    "        #get the centroid coordinates of the first day polygon, calculate sepeate centroid for multi-polygons\n",
    "        #this returns a geoseries, use iloc to get the point geometry\n",
    "        \n",
    "        #for multipolygons:\n",
    "        if first.iloc[0].geom_type == 'MultiPolygon': \n",
    "            pol_centroid=[]\n",
    "            for element in first.geometry.iloc[0]:\n",
    "                pol_centroid.append(element.centroid)\n",
    "            pol_centroid=shapely.geometry.MultiPoint(pol_centroid)\n",
    "        \n",
    "            #among all these points centroids, find the one nearest to the fire line\n",
    "            #In the returned tuple, the first item (at index 0) is the geometry of our origin shape \n",
    "            #and the second item (at index 1) is the actual nearest geometry from the destination points. \n",
    "            p0=shapely.ops.nearest_points(row_fire.geometry, pol_centroid)[1]\n",
    "            \n",
    "            #angle from line to the first day burns\n",
    "            ang0=middle_angle(p1,p0)\n",
    "            #compare the two angles, if the same sign, then the burned buffer\n",
    "            if np.sign(ang0)==np.sign(ang):\n",
    "                return -1\n",
    "            else:\n",
    "                return 1\n",
    "        \n",
    "        else:\n",
    "            p0=first.centroid.iloc[0]\n",
    "            #angle from line to the first day burns\n",
    "            ang0=middle_angle(p1,p0)\n",
    "            #compare the two angles, if the same sign, then the burned buffer\n",
    "            if np.sign(ang0)==np.sign(ang):\n",
    "                return -1\n",
    "            else:\n",
    "                return 1\n",
    "        \n",
    "    else:\n",
    "        #if not equal, the buffer is the burned buffer, return -1; else return 1 for unburned buffer\n",
    "        if np.sign(row_fire.mid_dir_pr)!=np.sign(ang):\n",
    "            return -1\n",
    "        else:\n",
    "            return 1\n",
    "    \n",
    "    \n",
    "    "
   ]
  },
  {
   "cell_type": "code",
   "execution_count": 246,
   "metadata": {},
   "outputs": [],
   "source": [
    "#first=fire_perimeter.iloc[0]\n",
    "first=fire_perimeter.loc[(fire_perimeter.gridcode==292)&(fire_perimeter.Name=='Alder'),:]\n",
    "#row_fire"
   ]
  },
  {
   "cell_type": "code",
   "execution_count": 247,
   "metadata": {},
   "outputs": [
    {
     "data": {
      "text/html": [
       "<div>\n",
       "<style scoped>\n",
       "    .dataframe tbody tr th:only-of-type {\n",
       "        vertical-align: middle;\n",
       "    }\n",
       "\n",
       "    .dataframe tbody tr th {\n",
       "        vertical-align: top;\n",
       "    }\n",
       "\n",
       "    .dataframe thead th {\n",
       "        text-align: right;\n",
       "    }\n",
       "</style>\n",
       "<table border=\"1\" class=\"dataframe\">\n",
       "  <thead>\n",
       "    <tr style=\"text-align: right;\">\n",
       "      <th></th>\n",
       "      <th>Name</th>\n",
       "      <th>gridcode</th>\n",
       "      <th>BurnedArea</th>\n",
       "      <th>Year</th>\n",
       "      <th>time_perce</th>\n",
       "      <th>Elev</th>\n",
       "      <th>Slope</th>\n",
       "      <th>Aspect</th>\n",
       "      <th>TD</th>\n",
       "      <th>mTPI</th>\n",
       "      <th>...</th>\n",
       "      <th>dtree_AllM</th>\n",
       "      <th>area_mean</th>\n",
       "      <th>TPA_mean</th>\n",
       "      <th>dtree_mean</th>\n",
       "      <th>mortality_</th>\n",
       "      <th>TPha_weigh</th>\n",
       "      <th>TPha_MWeig</th>\n",
       "      <th>TPA_Class</th>\n",
       "      <th>TPA_MeanCl</th>\n",
       "      <th>geometry</th>\n",
       "    </tr>\n",
       "  </thead>\n",
       "  <tbody>\n",
       "    <tr>\n",
       "      <th>0</th>\n",
       "      <td>Alder</td>\n",
       "      <td>292</td>\n",
       "      <td>2.245113</td>\n",
       "      <td>2018</td>\n",
       "      <td>0.033333</td>\n",
       "      <td>1749.304816</td>\n",
       "      <td>29.162424</td>\n",
       "      <td>278.756958</td>\n",
       "      <td>0.950941</td>\n",
       "      <td>-97.216518</td>\n",
       "      <td>...</td>\n",
       "      <td>88.357566</td>\n",
       "      <td>3801.702728</td>\n",
       "      <td>5.714286</td>\n",
       "      <td>25.245019</td>\n",
       "      <td>0.169332</td>\n",
       "      <td>78.711005</td>\n",
       "      <td>11.244429</td>\n",
       "      <td>3</td>\n",
       "      <td>1</td>\n",
       "      <td>POLYGON ((123689.514 -200011.157, 123687.093 -...</td>\n",
       "    </tr>\n",
       "  </tbody>\n",
       "</table>\n",
       "<p>1 rows × 65 columns</p>\n",
       "</div>"
      ],
      "text/plain": [
       "    Name  gridcode  BurnedArea  Year  time_perce         Elev      Slope  \\\n",
       "0  Alder       292    2.245113  2018    0.033333  1749.304816  29.162424   \n",
       "\n",
       "       Aspect        TD       mTPI  ... dtree_AllM    area_mean  TPA_mean  \\\n",
       "0  278.756958  0.950941 -97.216518  ...  88.357566  3801.702728  5.714286   \n",
       "\n",
       "  dtree_mean mortality_ TPha_weigh TPha_MWeig TPA_Class TPA_MeanCl  \\\n",
       "0  25.245019   0.169332  78.711005  11.244429         3          1   \n",
       "\n",
       "                                            geometry  \n",
       "0  POLYGON ((123689.514 -200011.157, 123687.093 -...  \n",
       "\n",
       "[1 rows x 65 columns]"
      ]
     },
     "execution_count": 247,
     "metadata": {},
     "output_type": "execute_result"
    }
   ],
   "source": [
    "first"
   ]
  },
  {
   "cell_type": "code",
   "execution_count": 242,
   "metadata": {},
   "outputs": [],
   "source": [
    "first=fire_perimeter.loc[(fire_perimeter.gridcode==row_fire.gridcode)&(fire_perimeter.Name==row_fire.Name),:]"
   ]
  },
  {
   "cell_type": "code",
   "execution_count": 248,
   "metadata": {},
   "outputs": [],
   "source": [
    "first=first['geometry']"
   ]
  },
  {
   "cell_type": "code",
   "execution_count": 249,
   "metadata": {},
   "outputs": [
    {
     "data": {
      "text/plain": [
       "0    POLYGON ((123689.514 -200011.157, 123687.093 -...\n",
       "Name: geometry, dtype: geometry"
      ]
     },
     "execution_count": 249,
     "metadata": {},
     "output_type": "execute_result"
    }
   ],
   "source": [
    "first"
   ]
  },
  {
   "cell_type": "code",
   "execution_count": 252,
   "metadata": {},
   "outputs": [
    {
     "data": {
      "text/plain": [
       "'Polygon'"
      ]
     },
     "execution_count": 252,
     "metadata": {},
     "output_type": "execute_result"
    }
   ],
   "source": [
    "first.iloc[0].geom_type"
   ]
  },
  {
   "cell_type": "code",
   "execution_count": null,
   "metadata": {},
   "outputs": [],
   "source": [
    "fig=first.plot()\n",
    "p0.plot(ax=fig,color='red')"
   ]
  },
  {
   "cell_type": "code",
   "execution_count": 207,
   "metadata": {},
   "outputs": [
    {
     "name": "stdout",
     "output_type": "stream",
     "text": [
      "POINT (-138769.1045738247 242983.498183377)\n",
      "POINT (-140417.6463076437 240313.8164427667)\n",
      "POINT (-136688.2062803992 243160.3415340369)\n"
     ]
    }
   ],
   "source": [
    "pol_centroid=[]\n",
    "for element in first.geometry.iloc[0]:\n",
    "    print(element.centroid)\n",
    "    pol_centroid.append(element.centroid)\n",
    "pol_centroid=shapely.geometry.MultiPoint(pol_centroid)\n"
   ]
  },
  {
   "cell_type": "code",
   "execution_count": 211,
   "metadata": {},
   "outputs": [
    {
     "data": {
      "text/plain": [
       "'POINT (-136688.2062803992 243160.3415340369)'"
      ]
     },
     "execution_count": 211,
     "metadata": {},
     "output_type": "execute_result"
    }
   ],
   "source": []
  },
  {
   "cell_type": "code",
   "execution_count": null,
   "metadata": {},
   "outputs": [],
   "source": []
  },
  {
   "cell_type": "code",
   "execution_count": 193,
   "metadata": {},
   "outputs": [
    {
     "data": {
      "text/plain": [
       "<shapely.coords.CoordinateSequence at 0x23438fe7708>"
      ]
     },
     "execution_count": 193,
     "metadata": {},
     "output_type": "execute_result"
    }
   ],
   "source": [
    "row_buffer=fire_buffer.iloc[0,:].copy()\n",
    "first=fire_perimeter.loc[(fire_perimeter.gridcode==row_fire.gridcode)&(fire_perimeter.Name==row_fire.Name),:]\n",
    "#get the centroid coordinates of the first day polygon\n",
    "p0=first.geometry.centroid.iloc[0]\n",
    "p0.coords\n",
    "#angle from line to the first day burns\n",
    "#ang0=middle_angle(p1,p0)"
   ]
  },
  {
   "cell_type": "code",
   "execution_count": 254,
   "metadata": {},
   "outputs": [],
   "source": [
    "#apply to the geopandas with the first argument omitted\n",
    "burn_check=fire_buffer.apply(check_burn,fire=fire,fire_perimeter=fire_perimeter,axis=1)"
   ]
  },
  {
   "cell_type": "code",
   "execution_count": 256,
   "metadata": {},
   "outputs": [],
   "source": [
    "fire_buffer['buffer_type']=burn_check"
   ]
  },
  {
   "cell_type": "code",
   "execution_count": 260,
   "metadata": {},
   "outputs": [],
   "source": [
    "fire_buffer.to_file(r\"./full_progression_1219_fireline_buffer.shp\")"
   ]
  },
  {
   "cell_type": "code",
   "execution_count": 255,
   "metadata": {},
   "outputs": [
    {
     "data": {
      "text/plain": [
       "0        1\n",
       "1       -1\n",
       "2       -1\n",
       "3        1\n",
       "4        1\n",
       "        ..\n",
       "64125   -1\n",
       "64126   -1\n",
       "64127    1\n",
       "64128    1\n",
       "64129   -1\n",
       "Length: 64130, dtype: int64"
      ]
     },
     "execution_count": 255,
     "metadata": {},
     "output_type": "execute_result"
    }
   ],
   "source": [
    "burn_check"
   ]
  },
  {
   "cell_type": "markdown",
   "metadata": {},
   "source": [
    "### Update type 0 and first day buffer \n",
    "(compare line->buffer centroid with the angle of line->centroid of the whole first day perimeter)"
   ]
  },
  {
   "cell_type": "code",
   "execution_count": null,
   "metadata": {},
   "outputs": [],
   "source": []
  },
  {
   "cell_type": "code",
   "execution_count": null,
   "metadata": {},
   "outputs": [],
   "source": []
  },
  {
   "cell_type": "code",
   "execution_count": null,
   "metadata": {},
   "outputs": [],
   "source": []
  },
  {
   "cell_type": "markdown",
   "metadata": {},
   "source": [
    "Example Maps"
   ]
  },
  {
   "cell_type": "code",
   "execution_count": 50,
   "metadata": {},
   "outputs": [
    {
     "data": {
      "text/plain": [
       "<matplotlib.axes._subplots.AxesSubplot at 0x23429dfd488>"
      ]
     },
     "execution_count": 50,
     "metadata": {},
     "output_type": "execute_result"
    },
    {
     "data": {
      "image/png": "[encoded data removed]",
      "text/plain": [
       "<Figure size 432x288 with 1 Axes>"
      ]
     },
     "metadata": {
      "needs_background": "light"
     },
     "output_type": "display_data"
    }
   ],
   "source": [
    "fire_buffer.iloc[33:125,:].plot(column='gridcode')"
   ]
  },
  {
   "cell_type": "code",
   "execution_count": 49,
   "metadata": {
    "scrolled": true
   },
   "outputs": [
    {
     "data": {
      "text/plain": [
       "<matplotlib.axes._subplots.AxesSubplot at 0x2342a44ce48>"
      ]
     },
     "execution_count": 49,
     "metadata": {},
     "output_type": "execute_result"
    },
    {
     "data": {
      "image/png": "[encoded data removed]",
      "text/plain": [
       "<Figure size 432x288 with 1 Axes>"
      ]
     },
     "metadata": {
      "needs_background": "light"
     },
     "output_type": "display_data"
    }
   ],
   "source": [
    "fire.iloc[33:125,:].plot(column='gridcode')"
   ]
  },
  {
   "cell_type": "code",
   "execution_count": 51,
   "metadata": {},
   "outputs": [
    {
     "data": {
      "text/html": [
       "<div>\n",
       "<style scoped>\n",
       "    .dataframe tbody tr th:only-of-type {\n",
       "        vertical-align: middle;\n",
       "    }\n",
       "\n",
       "    .dataframe tbody tr th {\n",
       "        vertical-align: top;\n",
       "    }\n",
       "\n",
       "    .dataframe thead th {\n",
       "        text-align: right;\n",
       "    }\n",
       "</style>\n",
       "<table border=\"1\" class=\"dataframe\">\n",
       "  <thead>\n",
       "    <tr style=\"text-align: right;\">\n",
       "      <th></th>\n",
       "      <th>old_id</th>\n",
       "      <th>new_id</th>\n",
       "      <th>FID_Full_p</th>\n",
       "      <th>Name</th>\n",
       "      <th>gridcode</th>\n",
       "      <th>BurnedArea</th>\n",
       "      <th>Year</th>\n",
       "      <th>time_perce</th>\n",
       "      <th>front_len</th>\n",
       "      <th>hd_dist</th>\n",
       "      <th>mid_dist</th>\n",
       "      <th>mid_dir</th>\n",
       "      <th>hd_dist_pr</th>\n",
       "      <th>mid_dist_p</th>\n",
       "      <th>mid_dir_pr</th>\n",
       "      <th>geometry</th>\n",
       "    </tr>\n",
       "  </thead>\n",
       "  <tbody>\n",
       "    <tr>\n",
       "      <th>33</th>\n",
       "      <td>9</td>\n",
       "      <td>0</td>\n",
       "      <td>542</td>\n",
       "      <td>Panther</td>\n",
       "      <td>121</td>\n",
       "      <td>1530.487514</td>\n",
       "      <td>2013</td>\n",
       "      <td>0.333333</td>\n",
       "      <td>3513.780793</td>\n",
       "      <td>784.155575</td>\n",
       "      <td>714.239868</td>\n",
       "      <td>-66.120154</td>\n",
       "      <td>0.000000</td>\n",
       "      <td>0.000000</td>\n",
       "      <td>-999.000000</td>\n",
       "      <td>LINESTRING (-138633.377 239731.801, -139137.72...</td>\n",
       "    </tr>\n",
       "    <tr>\n",
       "      <th>34</th>\n",
       "      <td>9</td>\n",
       "      <td>1</td>\n",
       "      <td>542</td>\n",
       "      <td>Panther</td>\n",
       "      <td>121</td>\n",
       "      <td>1530.487514</td>\n",
       "      <td>2013</td>\n",
       "      <td>0.333333</td>\n",
       "      <td>3513.780793</td>\n",
       "      <td>1679.005102</td>\n",
       "      <td>1552.771745</td>\n",
       "      <td>-63.924263</td>\n",
       "      <td>0.000000</td>\n",
       "      <td>0.000000</td>\n",
       "      <td>-999.000000</td>\n",
       "      <td>LINESTRING (-139137.727 240257.335, -139420.16...</td>\n",
       "    </tr>\n",
       "    <tr>\n",
       "      <th>35</th>\n",
       "      <td>9</td>\n",
       "      <td>2</td>\n",
       "      <td>542</td>\n",
       "      <td>Panther</td>\n",
       "      <td>121</td>\n",
       "      <td>1530.487514</td>\n",
       "      <td>2013</td>\n",
       "      <td>0.333333</td>\n",
       "      <td>3513.780793</td>\n",
       "      <td>1667.053875</td>\n",
       "      <td>1257.722994</td>\n",
       "      <td>140.772245</td>\n",
       "      <td>0.000000</td>\n",
       "      <td>0.000000</td>\n",
       "      <td>-999.000000</td>\n",
       "      <td>LINESTRING (-139420.169 241215.046, -138894.47...</td>\n",
       "    </tr>\n",
       "    <tr>\n",
       "      <th>36</th>\n",
       "      <td>9</td>\n",
       "      <td>3</td>\n",
       "      <td>542</td>\n",
       "      <td>Panther</td>\n",
       "      <td>121</td>\n",
       "      <td>1530.487514</td>\n",
       "      <td>2013</td>\n",
       "      <td>0.333333</td>\n",
       "      <td>3513.780793</td>\n",
       "      <td>266.507373</td>\n",
       "      <td>215.425488</td>\n",
       "      <td>81.596053</td>\n",
       "      <td>0.000000</td>\n",
       "      <td>0.000000</td>\n",
       "      <td>-999.000000</td>\n",
       "      <td>LINESTRING (-138894.478 242641.663, -138834.37...</td>\n",
       "    </tr>\n",
       "    <tr>\n",
       "      <th>37</th>\n",
       "      <td>10</td>\n",
       "      <td>0</td>\n",
       "      <td>542</td>\n",
       "      <td>Panther</td>\n",
       "      <td>121</td>\n",
       "      <td>1530.487514</td>\n",
       "      <td>2013</td>\n",
       "      <td>0.333333</td>\n",
       "      <td>1973.721575</td>\n",
       "      <td>344.752764</td>\n",
       "      <td>235.603436</td>\n",
       "      <td>172.194357</td>\n",
       "      <td>0.000000</td>\n",
       "      <td>0.000000</td>\n",
       "      <td>-999.000000</td>\n",
       "      <td>LINESTRING (-138703.836 243065.692, -138364.66...</td>\n",
       "    </tr>\n",
       "    <tr>\n",
       "      <th>...</th>\n",
       "      <td>...</td>\n",
       "      <td>...</td>\n",
       "      <td>...</td>\n",
       "      <td>...</td>\n",
       "      <td>...</td>\n",
       "      <td>...</td>\n",
       "      <td>...</td>\n",
       "      <td>...</td>\n",
       "      <td>...</td>\n",
       "      <td>...</td>\n",
       "      <td>...</td>\n",
       "      <td>...</td>\n",
       "      <td>...</td>\n",
       "      <td>...</td>\n",
       "      <td>...</td>\n",
       "      <td>...</td>\n",
       "    </tr>\n",
       "    <tr>\n",
       "      <th>120</th>\n",
       "      <td>31</td>\n",
       "      <td>1</td>\n",
       "      <td>544</td>\n",
       "      <td>Panther</td>\n",
       "      <td>123</td>\n",
       "      <td>28.084417</td>\n",
       "      <td>2013</td>\n",
       "      <td>1.000000</td>\n",
       "      <td>1699.411290</td>\n",
       "      <td>0.000000</td>\n",
       "      <td>0.000000</td>\n",
       "      <td>-999.000000</td>\n",
       "      <td>714.936901</td>\n",
       "      <td>660.396959</td>\n",
       "      <td>57.964596</td>\n",
       "      <td>LINESTRING (-136411.326 244265.617, -136086.69...</td>\n",
       "    </tr>\n",
       "    <tr>\n",
       "      <th>121</th>\n",
       "      <td>31</td>\n",
       "      <td>2</td>\n",
       "      <td>544</td>\n",
       "      <td>Panther</td>\n",
       "      <td>123</td>\n",
       "      <td>28.084417</td>\n",
       "      <td>2013</td>\n",
       "      <td>1.000000</td>\n",
       "      <td>1699.411290</td>\n",
       "      <td>0.000000</td>\n",
       "      <td>0.000000</td>\n",
       "      <td>-999.000000</td>\n",
       "      <td>664.256981</td>\n",
       "      <td>413.774867</td>\n",
       "      <td>51.128489</td>\n",
       "      <td>LINESTRING (-136086.691 244049.538, -136592.58...</td>\n",
       "    </tr>\n",
       "    <tr>\n",
       "      <th>122</th>\n",
       "      <td>31</td>\n",
       "      <td>3</td>\n",
       "      <td>544</td>\n",
       "      <td>Panther</td>\n",
       "      <td>123</td>\n",
       "      <td>28.084417</td>\n",
       "      <td>2013</td>\n",
       "      <td>1.000000</td>\n",
       "      <td>1699.411290</td>\n",
       "      <td>0.000000</td>\n",
       "      <td>0.000000</td>\n",
       "      <td>-999.000000</td>\n",
       "      <td>223.010256</td>\n",
       "      <td>147.593451</td>\n",
       "      <td>98.522193</td>\n",
       "      <td>LINESTRING (-136592.582 243790.246, -136649.78...</td>\n",
       "    </tr>\n",
       "    <tr>\n",
       "      <th>123</th>\n",
       "      <td>32</td>\n",
       "      <td>0</td>\n",
       "      <td>544</td>\n",
       "      <td>Panther</td>\n",
       "      <td>123</td>\n",
       "      <td>28.084417</td>\n",
       "      <td>2013</td>\n",
       "      <td>1.000000</td>\n",
       "      <td>294.296288</td>\n",
       "      <td>0.000000</td>\n",
       "      <td>0.000000</td>\n",
       "      <td>-999.000000</td>\n",
       "      <td>127.688803</td>\n",
       "      <td>127.688803</td>\n",
       "      <td>-0.965688</td>\n",
       "      <td>LINESTRING (-136019.896 243186.637, -135892.22...</td>\n",
       "    </tr>\n",
       "    <tr>\n",
       "      <th>124</th>\n",
       "      <td>32</td>\n",
       "      <td>1</td>\n",
       "      <td>544</td>\n",
       "      <td>Panther</td>\n",
       "      <td>123</td>\n",
       "      <td>28.084417</td>\n",
       "      <td>2013</td>\n",
       "      <td>1.000000</td>\n",
       "      <td>294.296288</td>\n",
       "      <td>0.000000</td>\n",
       "      <td>0.000000</td>\n",
       "      <td>-999.000000</td>\n",
       "      <td>127.691438</td>\n",
       "      <td>127.690121</td>\n",
       "      <td>-0.965234</td>\n",
       "      <td>LINESTRING (-135892.226 243184.486, -135895.03...</td>\n",
       "    </tr>\n",
       "  </tbody>\n",
       "</table>\n",
       "<p>92 rows × 16 columns</p>\n",
       "</div>"
      ],
      "text/plain": [
       "     old_id  new_id  FID_Full_p     Name  gridcode   BurnedArea  Year  \\\n",
       "33        9       0         542  Panther       121  1530.487514  2013   \n",
       "34        9       1         542  Panther       121  1530.487514  2013   \n",
       "35        9       2         542  Panther       121  1530.487514  2013   \n",
       "36        9       3         542  Panther       121  1530.487514  2013   \n",
       "37       10       0         542  Panther       121  1530.487514  2013   \n",
       "..      ...     ...         ...      ...       ...          ...   ...   \n",
       "120      31       1         544  Panther       123    28.084417  2013   \n",
       "121      31       2         544  Panther       123    28.084417  2013   \n",
       "122      31       3         544  Panther       123    28.084417  2013   \n",
       "123      32       0         544  Panther       123    28.084417  2013   \n",
       "124      32       1         544  Panther       123    28.084417  2013   \n",
       "\n",
       "     time_perce    front_len      hd_dist     mid_dist     mid_dir  \\\n",
       "33     0.333333  3513.780793   784.155575   714.239868  -66.120154   \n",
       "34     0.333333  3513.780793  1679.005102  1552.771745  -63.924263   \n",
       "35     0.333333  3513.780793  1667.053875  1257.722994  140.772245   \n",
       "36     0.333333  3513.780793   266.507373   215.425488   81.596053   \n",
       "37     0.333333  1973.721575   344.752764   235.603436  172.194357   \n",
       "..          ...          ...          ...          ...         ...   \n",
       "120    1.000000  1699.411290     0.000000     0.000000 -999.000000   \n",
       "121    1.000000  1699.411290     0.000000     0.000000 -999.000000   \n",
       "122    1.000000  1699.411290     0.000000     0.000000 -999.000000   \n",
       "123    1.000000   294.296288     0.000000     0.000000 -999.000000   \n",
       "124    1.000000   294.296288     0.000000     0.000000 -999.000000   \n",
       "\n",
       "     hd_dist_pr  mid_dist_p  mid_dir_pr  \\\n",
       "33     0.000000    0.000000 -999.000000   \n",
       "34     0.000000    0.000000 -999.000000   \n",
       "35     0.000000    0.000000 -999.000000   \n",
       "36     0.000000    0.000000 -999.000000   \n",
       "37     0.000000    0.000000 -999.000000   \n",
       "..          ...         ...         ...   \n",
       "120  714.936901  660.396959   57.964596   \n",
       "121  664.256981  413.774867   51.128489   \n",
       "122  223.010256  147.593451   98.522193   \n",
       "123  127.688803  127.688803   -0.965688   \n",
       "124  127.691438  127.690121   -0.965234   \n",
       "\n",
       "                                              geometry  \n",
       "33   LINESTRING (-138633.377 239731.801, -139137.72...  \n",
       "34   LINESTRING (-139137.727 240257.335, -139420.16...  \n",
       "35   LINESTRING (-139420.169 241215.046, -138894.47...  \n",
       "36   LINESTRING (-138894.478 242641.663, -138834.37...  \n",
       "37   LINESTRING (-138703.836 243065.692, -138364.66...  \n",
       "..                                                 ...  \n",
       "120  LINESTRING (-136411.326 244265.617, -136086.69...  \n",
       "121  LINESTRING (-136086.691 244049.538, -136592.58...  \n",
       "122  LINESTRING (-136592.582 243790.246, -136649.78...  \n",
       "123  LINESTRING (-136019.896 243186.637, -135892.22...  \n",
       "124  LINESTRING (-135892.226 243184.486, -135895.03...  \n",
       "\n",
       "[92 rows x 16 columns]"
      ]
     },
     "execution_count": 51,
     "metadata": {},
     "output_type": "execute_result"
    }
   ],
   "source": [
    "fire.iloc[33:125,:]"
   ]
  },
  {
   "cell_type": "code",
   "execution_count": null,
   "metadata": {},
   "outputs": [],
   "source": [
    "#shapely.ops.split(test.iloc[5,:].geometry.buffer(5,resolution=1,cap_style=2),test.iloc[5,:].geometry).wkt\n",
    "#shapely.geometry.MultiPolygon(shapely.ops.split(fire_buf[5],test.iloc[5,:].geometry)).wkt"
   ]
  },
  {
   "cell_type": "code",
   "execution_count": 96,
   "metadata": {},
   "outputs": [
    {
     "data": {
      "image/png": "[encoded data removed]",
      "text/plain": [
       "<Figure size 432x288 with 1 Axes>"
      ]
     },
     "metadata": {
      "needs_background": "light"
     },
     "output_type": "display_data"
    }
   ],
   "source": [
    "\n",
    "f, ax = plt.subplots(1)\n",
    "#gpd.GeoSeries(test.iloc[5,:].geometry.buffer(30,resolution=1,cap_style=2)).plot(ax=ax)\n",
    "#gpd.GeoSeries(test.iloc[5,:].geometry).plot(ax=ax,color='red')\n",
    "#gpd.GeoSeries(row_buffer.geometry[0]).plot(ax=ax)\n",
    "#gpd.GeoSeries(row_buffer.geometry[1]).plot(ax=ax,color='green')\n",
    "gpd.GeoSeries(shapely.geometry.LineString([p1,p2])).plot(ax=ax,color='red')\n",
    "ax.set_axis_off()\n",
    "plt.show()"
   ]
  },
  {
   "cell_type": "code",
   "execution_count": 257,
   "metadata": {},
   "outputs": [
    {
     "data": {
      "text/plain": [
       "<matplotlib.axes._subplots.AxesSubplot at 0x23439e73388>"
      ]
     },
     "execution_count": 257,
     "metadata": {},
     "output_type": "execute_result"
    },
    {
     "data": {
      "image/png": "[encoded data removed]",
      "text/plain": [
       "<Figure size 432x288 with 2 Axes>"
      ]
     },
     "metadata": {
      "needs_background": "light"
     },
     "output_type": "display_data"
    }
   ],
   "source": [
    "fire_buffer.iloc[66:250,:].plot(column='buffer_type',legend=True)"
   ]
  },
  {
   "cell_type": "code",
   "execution_count": 170,
   "metadata": {},
   "outputs": [
    {
     "data": {
      "text/html": [
       "<div>\n",
       "<style scoped>\n",
       "    .dataframe tbody tr th:only-of-type {\n",
       "        vertical-align: middle;\n",
       "    }\n",
       "\n",
       "    .dataframe tbody tr th {\n",
       "        vertical-align: top;\n",
       "    }\n",
       "\n",
       "    .dataframe thead th {\n",
       "        text-align: right;\n",
       "    }\n",
       "</style>\n",
       "<table border=\"1\" class=\"dataframe\">\n",
       "  <thead>\n",
       "    <tr style=\"text-align: right;\">\n",
       "      <th></th>\n",
       "      <th>line_num</th>\n",
       "      <th>buffer_num</th>\n",
       "      <th>old_id</th>\n",
       "      <th>new_id</th>\n",
       "      <th>FID_Full_p</th>\n",
       "      <th>Name</th>\n",
       "      <th>gridcode</th>\n",
       "      <th>BurnedArea</th>\n",
       "      <th>Year</th>\n",
       "      <th>time_perce</th>\n",
       "      <th>front_len</th>\n",
       "      <th>hd_dist</th>\n",
       "      <th>mid_dist</th>\n",
       "      <th>mid_dir</th>\n",
       "      <th>hd_dist_pr</th>\n",
       "      <th>mid_dist_p</th>\n",
       "      <th>mid_dir_pr</th>\n",
       "      <th>geometry</th>\n",
       "      <th>buffer_type</th>\n",
       "    </tr>\n",
       "  </thead>\n",
       "  <tbody>\n",
       "    <tr>\n",
       "      <th>66</th>\n",
       "      <td>33</td>\n",
       "      <td>0</td>\n",
       "      <td>9</td>\n",
       "      <td>0</td>\n",
       "      <td>542</td>\n",
       "      <td>Panther</td>\n",
       "      <td>121</td>\n",
       "      <td>1530.487514</td>\n",
       "      <td>2013</td>\n",
       "      <td>0.333333</td>\n",
       "      <td>3513.780793</td>\n",
       "      <td>784.155575</td>\n",
       "      <td>714.239868</td>\n",
       "      <td>-66.120154</td>\n",
       "      <td>0.0</td>\n",
       "      <td>0.0</td>\n",
       "      <td>-999.0</td>\n",
       "      <td>POLYGON ((-139245.952 240153.472, -139137.727 ...</td>\n",
       "      <td>-1</td>\n",
       "    </tr>\n",
       "  </tbody>\n",
       "</table>\n",
       "</div>"
      ],
      "text/plain": [
       "    line_num  buffer_num  old_id  new_id  FID_Full_p     Name  gridcode  \\\n",
       "66        33           0       9       0         542  Panther       121   \n",
       "\n",
       "     BurnedArea  Year  time_perce    front_len     hd_dist    mid_dist  \\\n",
       "66  1530.487514  2013    0.333333  3513.780793  784.155575  714.239868   \n",
       "\n",
       "      mid_dir  hd_dist_pr  mid_dist_p  mid_dir_pr  \\\n",
       "66 -66.120154         0.0         0.0      -999.0   \n",
       "\n",
       "                                             geometry  buffer_type  \n",
       "66  POLYGON ((-139245.952 240153.472, -139137.727 ...           -1  "
      ]
     },
     "execution_count": 170,
     "metadata": {},
     "output_type": "execute_result"
    }
   ],
   "source": [
    "fire_buffer.iloc[66:67,:]"
   ]
  },
  {
   "cell_type": "code",
   "execution_count": 261,
   "metadata": {},
   "outputs": [],
   "source": [
    "pier=fire_perimeter.loc[fire_perimeter['Name']=='Pier',:]\n",
    "lion=fire_perimeter.loc[fire_perimeter['Name']=='Lion',:]"
   ]
  },
  {
   "cell_type": "code",
   "execution_count": 263,
   "metadata": {},
   "outputs": [
    {
     "data": {
      "text/plain": [
       "<matplotlib.axes._subplots.AxesSubplot at 0x23437209748>"
      ]
     },
     "execution_count": 263,
     "metadata": {},
     "output_type": "execute_result"
    },
    {
     "data": {
      "image/png": "[encoded data removed]",
      "text/plain": [
       "<Figure size 432x288 with 2 Axes>"
      ]
     },
     "metadata": {
      "needs_background": "light"
     },
     "output_type": "display_data"
    }
   ],
   "source": [
    "lion.plot(column='gridcode',legend=True)"
   ]
  },
  {
   "cell_type": "code",
   "execution_count": 264,
   "metadata": {},
   "outputs": [
    {
     "data": {
      "text/plain": [
       "<matplotlib.axes._subplots.AxesSubplot at 0x2342d451cc8>"
      ]
     },
     "execution_count": 264,
     "metadata": {},
     "output_type": "execute_result"
    },
    {
     "data": {
      "image/png": "[encoded data removed]",
      "text/plain": [
       "<Figure size 432x288 with 2 Axes>"
      ]
     },
     "metadata": {
      "needs_background": "light"
     },
     "output_type": "display_data"
    }
   ],
   "source": [
    "pier.plot(column='gridcode',legend=True)"
   ]
  },
  {
   "cell_type": "code",
   "execution_count": 265,
   "metadata": {},
   "outputs": [
    {
     "data": {
      "text/plain": [
       "<matplotlib.axes._subplots.AxesSubplot at 0x234386cdbc8>"
      ]
     },
     "execution_count": 265,
     "metadata": {},
     "output_type": "execute_result"
    },
    {
     "data": {
      "image/png": "[encoded data removed]",
      "text/plain": [
       "<Figure size 432x288 with 2 Axes>"
      ]
     },
     "metadata": {
      "needs_background": "light"
     },
     "output_type": "display_data"
    }
   ],
   "source": [
    "Panther=fire_perimeter.loc[fire_perimeter['Name']=='Panther',:]\n",
    "Panther.plot(column='gridcode',legend=True)"
   ]
  },
  {
   "cell_type": "code",
   "execution_count": null,
   "metadata": {},
   "outputs": [],
   "source": []
  }
 ],
 "metadata": {
  "kernelspec": {
   "display_name": "Python 3",
   "language": "python",
   "name": "python3"
  },
  "language_info": {
   "codemirror_mode": {
    "name": "ipython",
    "version": 3
   },
   "file_extension": ".py",
   "mimetype": "text/x-python",
   "name": "python",
   "nbconvert_exporter": "python",
   "pygments_lexer": "ipython3",
   "version": "3.7.6"
  }
 },
 "nbformat": 4,
 "nbformat_minor": 4
}
