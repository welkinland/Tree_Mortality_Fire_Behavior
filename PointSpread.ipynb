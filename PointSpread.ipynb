{
 "cells": [
  {
   "cell_type": "code",
   "execution_count": 1,
   "metadata": {},
   "outputs": [],
   "source": [
    "import geopandas as gpd\n",
    "import pandas as pd\n",
    "import numpy as np\n",
    "import shapely"
   ]
  },
  {
   "cell_type": "code",
   "execution_count": 42,
   "metadata": {},
   "outputs": [],
   "source": [
    "all_front=gpd.read_file(r\"E:\\Mortality\\SierraNevada\\FrontLine\\full_progression_1219_frontline.shp\")"
   ]
  },
  {
   "cell_type": "code",
   "execution_count": 8,
   "metadata": {},
   "outputs": [],
   "source": [
    "Rough=all_front.query(\"Name=='Rough'\")"
   ]
  },
  {
   "cell_type": "markdown",
   "metadata": {},
   "source": [
    "Generate Equidistance points"
   ]
  },
  {
   "cell_type": "markdown",
   "metadata": {},
   "source": [
    "Strategy 1: return points for all firelines\n",
    "return only mid-point for low quality lines (<60m)\n",
    "return all vertices for lines over 60m and lower than 160m (those that can only generate one point through interpolation)\n",
    "return interpolated points with an interval of 80m"
   ]
  },
  {
   "cell_type": "code",
   "execution_count": 43,
   "metadata": {},
   "outputs": [],
   "source": [
    "def equiDistancePoints(line,dist=80,limit=60):\n",
    "    \n",
    "    '''\n",
    "    takes a line and generate equidistance points on it\n",
    "    dist: specify the distance between points, default 80\n",
    "    limit: the min value below which lines were low quality, default 60m, 2 landsat pixels\n",
    "    '''\n",
    "    \n",
    "    #generate a series of points along the line that have an interval of around 80m (60-90m)\n",
    "    #return the centroid point for lines that are lower than 60m\n",
    "    if line.length<limit: #return the middle point for lines that are lower than 60m (low confidential observations)\n",
    "        #convert to multipoint as geopandas and Fiona do not allow writing shapefiles with multiple geom types\n",
    "        return shapely.geometry.MultiPoint([line.interpolate(0.5, normalized = True)])\n",
    "    elif line.length<(2*dist): # return all vertex for lines that are lower than 160m (otherwise only one interpolated point)\n",
    "        return shapely.geometry.MultiPoint(line.coords)\n",
    "        #if len(line.geometry.coords)>2:\n",
    "            #return shapely.geometry.MultiPoint(line.coords[1:-1]) #exclude start and end point if not line segment\n",
    "    else:\n",
    "        #get num of points +1 \n",
    "        num_points=int(line.length/80)\n",
    "        #use normalized=True to indicate the given distance value is a fraction to the total length\n",
    "        new_points = [line.interpolate(i/float(num_points), normalized=True) for i in range(1,num_points)]\n",
    "        return shapely.geometry.MultiPoint(new_points)\n",
    "    \n",
    "    \n"
   ]
  },
  {
   "cell_type": "code",
   "execution_count": 44,
   "metadata": {},
   "outputs": [],
   "source": [
    "rand_points=all_front.geometry.apply(equiDistancePoints)"
   ]
  },
  {
   "cell_type": "code",
   "execution_count": 45,
   "metadata": {},
   "outputs": [],
   "source": [
    "#assign new geometry\n",
    "all_front_point=all_front.copy()\n",
    "all_front_point['geometry']=rand_points"
   ]
  },
  {
   "cell_type": "code",
   "execution_count": 7,
   "metadata": {},
   "outputs": [
    {
     "data": {
      "text/html": [
       "<div>\n",
       "<style scoped>\n",
       "    .dataframe tbody tr th:only-of-type {\n",
       "        vertical-align: middle;\n",
       "    }\n",
       "\n",
       "    .dataframe tbody tr th {\n",
       "        vertical-align: top;\n",
       "    }\n",
       "\n",
       "    .dataframe thead th {\n",
       "        text-align: right;\n",
       "    }\n",
       "</style>\n",
       "<table border=\"1\" class=\"dataframe\">\n",
       "  <thead>\n",
       "    <tr style=\"text-align: right;\">\n",
       "      <th></th>\n",
       "      <th>FID_Full_p</th>\n",
       "      <th>Name</th>\n",
       "      <th>gridcode</th>\n",
       "      <th>BurnedArea</th>\n",
       "      <th>Year</th>\n",
       "      <th>time_perce</th>\n",
       "      <th>Elev</th>\n",
       "      <th>Slope</th>\n",
       "      <th>Aspect</th>\n",
       "      <th>TD</th>\n",
       "      <th>...</th>\n",
       "      <th>area_mean</th>\n",
       "      <th>TPA_mean</th>\n",
       "      <th>dtree_mean</th>\n",
       "      <th>mortality_</th>\n",
       "      <th>TPha_weigh</th>\n",
       "      <th>TPha_MWeig</th>\n",
       "      <th>TPA_Class</th>\n",
       "      <th>TPA_MeanCl</th>\n",
       "      <th>front_len</th>\n",
       "      <th>geometry</th>\n",
       "    </tr>\n",
       "  </thead>\n",
       "  <tbody>\n",
       "    <tr>\n",
       "      <th>0</th>\n",
       "      <td>681</td>\n",
       "      <td>Round</td>\n",
       "      <td>39</td>\n",
       "      <td>24.899443</td>\n",
       "      <td>2015</td>\n",
       "      <td>1.000000</td>\n",
       "      <td>1939.240039</td>\n",
       "      <td>13.756932</td>\n",
       "      <td>144.598907</td>\n",
       "      <td>0.576196</td>\n",
       "      <td>...</td>\n",
       "      <td>0.000000</td>\n",
       "      <td>0.000000</td>\n",
       "      <td>0.000000</td>\n",
       "      <td>0.000000</td>\n",
       "      <td>0.000000</td>\n",
       "      <td>0.000000</td>\n",
       "      <td>0</td>\n",
       "      <td>0</td>\n",
       "      <td>2146.217325</td>\n",
       "      <td>MULTIPOINT (121255.911 -55379.956, 121173.365 ...</td>\n",
       "    </tr>\n",
       "    <tr>\n",
       "      <th>1</th>\n",
       "      <td>681</td>\n",
       "      <td>Round</td>\n",
       "      <td>39</td>\n",
       "      <td>24.899443</td>\n",
       "      <td>2015</td>\n",
       "      <td>1.000000</td>\n",
       "      <td>1939.240039</td>\n",
       "      <td>13.756932</td>\n",
       "      <td>144.598907</td>\n",
       "      <td>0.576196</td>\n",
       "      <td>...</td>\n",
       "      <td>0.000000</td>\n",
       "      <td>0.000000</td>\n",
       "      <td>0.000000</td>\n",
       "      <td>0.000000</td>\n",
       "      <td>0.000000</td>\n",
       "      <td>0.000000</td>\n",
       "      <td>0</td>\n",
       "      <td>0</td>\n",
       "      <td>20.403568</td>\n",
       "      <td>MULTIPOINT (120401.287 -54100.153)</td>\n",
       "    </tr>\n",
       "    <tr>\n",
       "      <th>2</th>\n",
       "      <td>681</td>\n",
       "      <td>Round</td>\n",
       "      <td>39</td>\n",
       "      <td>24.899443</td>\n",
       "      <td>2015</td>\n",
       "      <td>1.000000</td>\n",
       "      <td>1939.240039</td>\n",
       "      <td>13.756932</td>\n",
       "      <td>144.598907</td>\n",
       "      <td>0.576196</td>\n",
       "      <td>...</td>\n",
       "      <td>0.000000</td>\n",
       "      <td>0.000000</td>\n",
       "      <td>0.000000</td>\n",
       "      <td>0.000000</td>\n",
       "      <td>0.000000</td>\n",
       "      <td>0.000000</td>\n",
       "      <td>0</td>\n",
       "      <td>0</td>\n",
       "      <td>20.403556</td>\n",
       "      <td>MULTIPOINT (120396.344 -54088.205)</td>\n",
       "    </tr>\n",
       "    <tr>\n",
       "      <th>3</th>\n",
       "      <td>681</td>\n",
       "      <td>Round</td>\n",
       "      <td>39</td>\n",
       "      <td>24.899443</td>\n",
       "      <td>2015</td>\n",
       "      <td>1.000000</td>\n",
       "      <td>1939.240039</td>\n",
       "      <td>13.756932</td>\n",
       "      <td>144.598907</td>\n",
       "      <td>0.576196</td>\n",
       "      <td>...</td>\n",
       "      <td>0.000000</td>\n",
       "      <td>0.000000</td>\n",
       "      <td>0.000000</td>\n",
       "      <td>0.000000</td>\n",
       "      <td>0.000000</td>\n",
       "      <td>0.000000</td>\n",
       "      <td>0</td>\n",
       "      <td>0</td>\n",
       "      <td>20.403538</td>\n",
       "      <td>MULTIPOINT (120386.544 -54070.317)</td>\n",
       "    </tr>\n",
       "    <tr>\n",
       "      <th>4</th>\n",
       "      <td>681</td>\n",
       "      <td>Round</td>\n",
       "      <td>39</td>\n",
       "      <td>24.899443</td>\n",
       "      <td>2015</td>\n",
       "      <td>1.000000</td>\n",
       "      <td>1939.240039</td>\n",
       "      <td>13.756932</td>\n",
       "      <td>144.598907</td>\n",
       "      <td>0.576196</td>\n",
       "      <td>...</td>\n",
       "      <td>0.000000</td>\n",
       "      <td>0.000000</td>\n",
       "      <td>0.000000</td>\n",
       "      <td>0.000000</td>\n",
       "      <td>0.000000</td>\n",
       "      <td>0.000000</td>\n",
       "      <td>0</td>\n",
       "      <td>0</td>\n",
       "      <td>20.403526</td>\n",
       "      <td>MULTIPOINT (120381.601 -54058.369)</td>\n",
       "    </tr>\n",
       "    <tr>\n",
       "      <th>...</th>\n",
       "      <td>...</td>\n",
       "      <td>...</td>\n",
       "      <td>...</td>\n",
       "      <td>...</td>\n",
       "      <td>...</td>\n",
       "      <td>...</td>\n",
       "      <td>...</td>\n",
       "      <td>...</td>\n",
       "      <td>...</td>\n",
       "      <td>...</td>\n",
       "      <td>...</td>\n",
       "      <td>...</td>\n",
       "      <td>...</td>\n",
       "      <td>...</td>\n",
       "      <td>...</td>\n",
       "      <td>...</td>\n",
       "      <td>...</td>\n",
       "      <td>...</td>\n",
       "      <td>...</td>\n",
       "      <td>...</td>\n",
       "      <td>...</td>\n",
       "    </tr>\n",
       "    <tr>\n",
       "      <th>17773</th>\n",
       "      <td>404</td>\n",
       "      <td>Hidden</td>\n",
       "      <td>324</td>\n",
       "      <td>370.258161</td>\n",
       "      <td>2016</td>\n",
       "      <td>0.857143</td>\n",
       "      <td>2399.935042</td>\n",
       "      <td>27.785185</td>\n",
       "      <td>224.493652</td>\n",
       "      <td>0.958186</td>\n",
       "      <td>...</td>\n",
       "      <td>918094.717857</td>\n",
       "      <td>66.064934</td>\n",
       "      <td>5398.954887</td>\n",
       "      <td>0.247961</td>\n",
       "      <td>72.908095</td>\n",
       "      <td>14.581619</td>\n",
       "      <td>3</td>\n",
       "      <td>2</td>\n",
       "      <td>2133.375545</td>\n",
       "      <td>MULTIPOINT (123853.593 -195891.296, 123771.726...</td>\n",
       "    </tr>\n",
       "    <tr>\n",
       "      <th>17774</th>\n",
       "      <td>275</td>\n",
       "      <td>Eden</td>\n",
       "      <td>324</td>\n",
       "      <td>24.271539</td>\n",
       "      <td>2018</td>\n",
       "      <td>1.000000</td>\n",
       "      <td>1722.103235</td>\n",
       "      <td>21.102518</td>\n",
       "      <td>278.772461</td>\n",
       "      <td>0.950802</td>\n",
       "      <td>...</td>\n",
       "      <td>107446.682730</td>\n",
       "      <td>29.285730</td>\n",
       "      <td>634.738721</td>\n",
       "      <td>0.442688</td>\n",
       "      <td>183.061740</td>\n",
       "      <td>26.151677</td>\n",
       "      <td>4</td>\n",
       "      <td>2</td>\n",
       "      <td>1736.598687</td>\n",
       "      <td>MULTIPOINT (111869.321 -178719.315, 111817.255...</td>\n",
       "    </tr>\n",
       "    <tr>\n",
       "      <th>17775</th>\n",
       "      <td>404</td>\n",
       "      <td>Hidden</td>\n",
       "      <td>324</td>\n",
       "      <td>370.258161</td>\n",
       "      <td>2016</td>\n",
       "      <td>0.857143</td>\n",
       "      <td>2399.935042</td>\n",
       "      <td>27.785185</td>\n",
       "      <td>224.493652</td>\n",
       "      <td>0.958186</td>\n",
       "      <td>...</td>\n",
       "      <td>918094.717857</td>\n",
       "      <td>66.064934</td>\n",
       "      <td>5398.954887</td>\n",
       "      <td>0.247961</td>\n",
       "      <td>72.908095</td>\n",
       "      <td>14.581619</td>\n",
       "      <td>3</td>\n",
       "      <td>2</td>\n",
       "      <td>3237.108415</td>\n",
       "      <td>MULTIPOINT (122341.629 -193989.883, 122413.102...</td>\n",
       "    </tr>\n",
       "    <tr>\n",
       "      <th>17776</th>\n",
       "      <td>404</td>\n",
       "      <td>Hidden</td>\n",
       "      <td>324</td>\n",
       "      <td>370.258161</td>\n",
       "      <td>2016</td>\n",
       "      <td>0.857143</td>\n",
       "      <td>2399.935042</td>\n",
       "      <td>27.785185</td>\n",
       "      <td>224.493652</td>\n",
       "      <td>0.958186</td>\n",
       "      <td>...</td>\n",
       "      <td>918094.717857</td>\n",
       "      <td>66.064934</td>\n",
       "      <td>5398.954887</td>\n",
       "      <td>0.247961</td>\n",
       "      <td>72.908095</td>\n",
       "      <td>14.581619</td>\n",
       "      <td>3</td>\n",
       "      <td>2</td>\n",
       "      <td>755.280180</td>\n",
       "      <td>MULTIPOINT (124645.037 -195540.490, 124572.931...</td>\n",
       "    </tr>\n",
       "    <tr>\n",
       "      <th>17777</th>\n",
       "      <td>405</td>\n",
       "      <td>Hidden</td>\n",
       "      <td>325</td>\n",
       "      <td>12.994239</td>\n",
       "      <td>2016</td>\n",
       "      <td>1.000000</td>\n",
       "      <td>2388.717040</td>\n",
       "      <td>29.638420</td>\n",
       "      <td>257.758026</td>\n",
       "      <td>0.989632</td>\n",
       "      <td>...</td>\n",
       "      <td>25988.560329</td>\n",
       "      <td>22.000000</td>\n",
       "      <td>384.434964</td>\n",
       "      <td>0.200000</td>\n",
       "      <td>147.924687</td>\n",
       "      <td>29.584937</td>\n",
       "      <td>4</td>\n",
       "      <td>2</td>\n",
       "      <td>737.264329</td>\n",
       "      <td>MULTIPOINT (124718.344 -195665.333, 124719.544...</td>\n",
       "    </tr>\n",
       "  </tbody>\n",
       "</table>\n",
       "<p>17778 rows × 67 columns</p>\n",
       "</div>"
      ],
      "text/plain": [
       "       FID_Full_p    Name  gridcode  BurnedArea  Year  time_perce  \\\n",
       "0             681   Round        39   24.899443  2015    1.000000   \n",
       "1             681   Round        39   24.899443  2015    1.000000   \n",
       "2             681   Round        39   24.899443  2015    1.000000   \n",
       "3             681   Round        39   24.899443  2015    1.000000   \n",
       "4             681   Round        39   24.899443  2015    1.000000   \n",
       "...           ...     ...       ...         ...   ...         ...   \n",
       "17773         404  Hidden       324  370.258161  2016    0.857143   \n",
       "17774         275    Eden       324   24.271539  2018    1.000000   \n",
       "17775         404  Hidden       324  370.258161  2016    0.857143   \n",
       "17776         404  Hidden       324  370.258161  2016    0.857143   \n",
       "17777         405  Hidden       325   12.994239  2016    1.000000   \n",
       "\n",
       "              Elev      Slope      Aspect        TD  ...      area_mean  \\\n",
       "0      1939.240039  13.756932  144.598907  0.576196  ...       0.000000   \n",
       "1      1939.240039  13.756932  144.598907  0.576196  ...       0.000000   \n",
       "2      1939.240039  13.756932  144.598907  0.576196  ...       0.000000   \n",
       "3      1939.240039  13.756932  144.598907  0.576196  ...       0.000000   \n",
       "4      1939.240039  13.756932  144.598907  0.576196  ...       0.000000   \n",
       "...            ...        ...         ...       ...  ...            ...   \n",
       "17773  2399.935042  27.785185  224.493652  0.958186  ...  918094.717857   \n",
       "17774  1722.103235  21.102518  278.772461  0.950802  ...  107446.682730   \n",
       "17775  2399.935042  27.785185  224.493652  0.958186  ...  918094.717857   \n",
       "17776  2399.935042  27.785185  224.493652  0.958186  ...  918094.717857   \n",
       "17777  2388.717040  29.638420  257.758026  0.989632  ...   25988.560329   \n",
       "\n",
       "        TPA_mean   dtree_mean mortality_  TPha_weigh TPha_MWeig TPA_Class  \\\n",
       "0       0.000000     0.000000   0.000000    0.000000   0.000000         0   \n",
       "1       0.000000     0.000000   0.000000    0.000000   0.000000         0   \n",
       "2       0.000000     0.000000   0.000000    0.000000   0.000000         0   \n",
       "3       0.000000     0.000000   0.000000    0.000000   0.000000         0   \n",
       "4       0.000000     0.000000   0.000000    0.000000   0.000000         0   \n",
       "...          ...          ...        ...         ...        ...       ...   \n",
       "17773  66.064934  5398.954887   0.247961   72.908095  14.581619         3   \n",
       "17774  29.285730   634.738721   0.442688  183.061740  26.151677         4   \n",
       "17775  66.064934  5398.954887   0.247961   72.908095  14.581619         3   \n",
       "17776  66.064934  5398.954887   0.247961   72.908095  14.581619         3   \n",
       "17777  22.000000   384.434964   0.200000  147.924687  29.584937         4   \n",
       "\n",
       "      TPA_MeanCl    front_len  \\\n",
       "0              0  2146.217325   \n",
       "1              0    20.403568   \n",
       "2              0    20.403556   \n",
       "3              0    20.403538   \n",
       "4              0    20.403526   \n",
       "...          ...          ...   \n",
       "17773          2  2133.375545   \n",
       "17774          2  1736.598687   \n",
       "17775          2  3237.108415   \n",
       "17776          2   755.280180   \n",
       "17777          2   737.264329   \n",
       "\n",
       "                                                geometry  \n",
       "0      MULTIPOINT (121255.911 -55379.956, 121173.365 ...  \n",
       "1                     MULTIPOINT (120401.287 -54100.153)  \n",
       "2                     MULTIPOINT (120396.344 -54088.205)  \n",
       "3                     MULTIPOINT (120386.544 -54070.317)  \n",
       "4                     MULTIPOINT (120381.601 -54058.369)  \n",
       "...                                                  ...  \n",
       "17773  MULTIPOINT (123853.593 -195891.296, 123771.726...  \n",
       "17774  MULTIPOINT (111869.321 -178719.315, 111817.255...  \n",
       "17775  MULTIPOINT (122341.629 -193989.883, 122413.102...  \n",
       "17776  MULTIPOINT (124645.037 -195540.490, 124572.931...  \n",
       "17777  MULTIPOINT (124718.344 -195665.333, 124719.544...  \n",
       "\n",
       "[17778 rows x 67 columns]"
      ]
     },
     "execution_count": 7,
     "metadata": {},
     "output_type": "execute_result"
    }
   ],
   "source": [
    "all_front_point"
   ]
  },
  {
   "cell_type": "code",
   "execution_count": 150,
   "metadata": {},
   "outputs": [],
   "source": [
    "#reorganize data\n",
    "all_front_p=all_front[['FID_Full_p', 'Name', 'gridcode', 'BurnedArea', 'Year', 'time_perce','front_len']].copy()\n",
    "all_front_p=gpd.GeoDataFrame(all_front_p, geometry=rand_points)"
   ]
  },
  {
   "cell_type": "code",
   "execution_count": 151,
   "metadata": {},
   "outputs": [
    {
     "data": {
      "text/html": [
       "<div>\n",
       "<style scoped>\n",
       "    .dataframe tbody tr th:only-of-type {\n",
       "        vertical-align: middle;\n",
       "    }\n",
       "\n",
       "    .dataframe tbody tr th {\n",
       "        vertical-align: top;\n",
       "    }\n",
       "\n",
       "    .dataframe thead th {\n",
       "        text-align: right;\n",
       "    }\n",
       "</style>\n",
       "<table border=\"1\" class=\"dataframe\">\n",
       "  <thead>\n",
       "    <tr style=\"text-align: right;\">\n",
       "      <th></th>\n",
       "      <th>FID_Full_p</th>\n",
       "      <th>Name</th>\n",
       "      <th>gridcode</th>\n",
       "      <th>BurnedArea</th>\n",
       "      <th>Year</th>\n",
       "      <th>time_perce</th>\n",
       "      <th>front_len</th>\n",
       "      <th>geometry</th>\n",
       "    </tr>\n",
       "  </thead>\n",
       "  <tbody>\n",
       "    <tr>\n",
       "      <th>0</th>\n",
       "      <td>681</td>\n",
       "      <td>Round</td>\n",
       "      <td>39</td>\n",
       "      <td>24.899443</td>\n",
       "      <td>2015</td>\n",
       "      <td>1.000000</td>\n",
       "      <td>2146.217325</td>\n",
       "      <td>MULTIPOINT (121338.457 -55379.563, 121252.610 ...</td>\n",
       "    </tr>\n",
       "    <tr>\n",
       "      <th>1</th>\n",
       "      <td>681</td>\n",
       "      <td>Round</td>\n",
       "      <td>39</td>\n",
       "      <td>24.899443</td>\n",
       "      <td>2015</td>\n",
       "      <td>1.000000</td>\n",
       "      <td>20.403568</td>\n",
       "      <td>POINT (120401.287 -54100.153)</td>\n",
       "    </tr>\n",
       "    <tr>\n",
       "      <th>2</th>\n",
       "      <td>681</td>\n",
       "      <td>Round</td>\n",
       "      <td>39</td>\n",
       "      <td>24.899443</td>\n",
       "      <td>2015</td>\n",
       "      <td>1.000000</td>\n",
       "      <td>20.403556</td>\n",
       "      <td>POINT (120396.344 -54088.205)</td>\n",
       "    </tr>\n",
       "    <tr>\n",
       "      <th>3</th>\n",
       "      <td>681</td>\n",
       "      <td>Round</td>\n",
       "      <td>39</td>\n",
       "      <td>24.899443</td>\n",
       "      <td>2015</td>\n",
       "      <td>1.000000</td>\n",
       "      <td>20.403538</td>\n",
       "      <td>POINT (120386.544 -54070.317)</td>\n",
       "    </tr>\n",
       "    <tr>\n",
       "      <th>4</th>\n",
       "      <td>681</td>\n",
       "      <td>Round</td>\n",
       "      <td>39</td>\n",
       "      <td>24.899443</td>\n",
       "      <td>2015</td>\n",
       "      <td>1.000000</td>\n",
       "      <td>20.403526</td>\n",
       "      <td>POINT (120381.601 -54058.369)</td>\n",
       "    </tr>\n",
       "    <tr>\n",
       "      <th>...</th>\n",
       "      <td>...</td>\n",
       "      <td>...</td>\n",
       "      <td>...</td>\n",
       "      <td>...</td>\n",
       "      <td>...</td>\n",
       "      <td>...</td>\n",
       "      <td>...</td>\n",
       "      <td>...</td>\n",
       "    </tr>\n",
       "    <tr>\n",
       "      <th>17773</th>\n",
       "      <td>404</td>\n",
       "      <td>Hidden</td>\n",
       "      <td>324</td>\n",
       "      <td>370.258161</td>\n",
       "      <td>2016</td>\n",
       "      <td>0.857143</td>\n",
       "      <td>2133.375545</td>\n",
       "      <td>MULTIPOINT (123935.459 -195896.824, 123850.318...</td>\n",
       "    </tr>\n",
       "    <tr>\n",
       "      <th>17774</th>\n",
       "      <td>275</td>\n",
       "      <td>Eden</td>\n",
       "      <td>324</td>\n",
       "      <td>24.271539</td>\n",
       "      <td>2018</td>\n",
       "      <td>1.000000</td>\n",
       "      <td>1736.598687</td>\n",
       "      <td>MULTIPOINT (111952.009 -178718.226, 111865.187...</td>\n",
       "    </tr>\n",
       "    <tr>\n",
       "      <th>17775</th>\n",
       "      <td>404</td>\n",
       "      <td>Hidden</td>\n",
       "      <td>324</td>\n",
       "      <td>370.258161</td>\n",
       "      <td>2016</td>\n",
       "      <td>0.857143</td>\n",
       "      <td>3237.108415</td>\n",
       "      <td>MULTIPOINT (122270.155 -193951.924, 122343.461...</td>\n",
       "    </tr>\n",
       "    <tr>\n",
       "      <th>17776</th>\n",
       "      <td>404</td>\n",
       "      <td>Hidden</td>\n",
       "      <td>324</td>\n",
       "      <td>370.258161</td>\n",
       "      <td>2016</td>\n",
       "      <td>0.857143</td>\n",
       "      <td>755.280180</td>\n",
       "      <td>MULTIPOINT (124717.143 -195583.424, 124636.024...</td>\n",
       "    </tr>\n",
       "    <tr>\n",
       "      <th>17777</th>\n",
       "      <td>405</td>\n",
       "      <td>Hidden</td>\n",
       "      <td>325</td>\n",
       "      <td>12.994239</td>\n",
       "      <td>2016</td>\n",
       "      <td>1.000000</td>\n",
       "      <td>737.264329</td>\n",
       "      <td>MULTIPOINT (124717.143 -195583.424, 124718.494...</td>\n",
       "    </tr>\n",
       "  </tbody>\n",
       "</table>\n",
       "<p>17778 rows × 8 columns</p>\n",
       "</div>"
      ],
      "text/plain": [
       "       FID_Full_p    Name  gridcode  BurnedArea  Year  time_perce  \\\n",
       "0             681   Round        39   24.899443  2015    1.000000   \n",
       "1             681   Round        39   24.899443  2015    1.000000   \n",
       "2             681   Round        39   24.899443  2015    1.000000   \n",
       "3             681   Round        39   24.899443  2015    1.000000   \n",
       "4             681   Round        39   24.899443  2015    1.000000   \n",
       "...           ...     ...       ...         ...   ...         ...   \n",
       "17773         404  Hidden       324  370.258161  2016    0.857143   \n",
       "17774         275    Eden       324   24.271539  2018    1.000000   \n",
       "17775         404  Hidden       324  370.258161  2016    0.857143   \n",
       "17776         404  Hidden       324  370.258161  2016    0.857143   \n",
       "17777         405  Hidden       325   12.994239  2016    1.000000   \n",
       "\n",
       "         front_len                                           geometry  \n",
       "0      2146.217325  MULTIPOINT (121338.457 -55379.563, 121252.610 ...  \n",
       "1        20.403568                      POINT (120401.287 -54100.153)  \n",
       "2        20.403556                      POINT (120396.344 -54088.205)  \n",
       "3        20.403538                      POINT (120386.544 -54070.317)  \n",
       "4        20.403526                      POINT (120381.601 -54058.369)  \n",
       "...            ...                                                ...  \n",
       "17773  2133.375545  MULTIPOINT (123935.459 -195896.824, 123850.318...  \n",
       "17774  1736.598687  MULTIPOINT (111952.009 -178718.226, 111865.187...  \n",
       "17775  3237.108415  MULTIPOINT (122270.155 -193951.924, 122343.461...  \n",
       "17776   755.280180  MULTIPOINT (124717.143 -195583.424, 124636.024...  \n",
       "17777   737.264329  MULTIPOINT (124717.143 -195583.424, 124718.494...  \n",
       "\n",
       "[17778 rows x 8 columns]"
      ]
     },
     "execution_count": 151,
     "metadata": {},
     "output_type": "execute_result"
    }
   ],
   "source": [
    "all_front_p"
   ]
  },
  {
   "cell_type": "code",
   "execution_count": 46,
   "metadata": {},
   "outputs": [],
   "source": [
    "#save generated points\n",
    "#all_front_point.to_file(r\"./full_progression_1219_point_all.geojson\", driver='GeoJSON')\n",
    "all_front_point.to_file(r\"./full_progression_1219_point_all.shp\", driver='ESRI Shapefile') "
   ]
  },
  {
   "cell_type": "code",
   "execution_count": 9,
   "metadata": {},
   "outputs": [
    {
     "data": {
      "text/plain": [
       "<matplotlib.axes._subplots.AxesSubplot at 0x1a1efa369c8>"
      ]
     },
     "execution_count": 9,
     "metadata": {},
     "output_type": "execute_result"
    },
    {
     "data": {
      "image/png": "[encoded data removed]",
      "text/plain": [
       "<Figure size 432x288 with 2 Axes>"
      ]
     },
     "metadata": {
      "needs_background": "light"
     },
     "output_type": "display_data"
    }
   ],
   "source": [
    "ax=Rough.query(\"(gridcode<=220)&(gridcode>=219)\").plot(color='red')\n",
    "Rough_p=all_front_point.query(\"Name=='Rough'\")\n",
    "all_front_point.query(\"(gridcode<=220)&(Name=='Rough')&(gridcode>=219)\").plot(ax=ax,column='gridcode',legend=True)"
   ]
  },
  {
   "cell_type": "code",
   "execution_count": 23,
   "metadata": {},
   "outputs": [
    {
     "data": {
      "text/plain": [
       "<matplotlib.axes._subplots.AxesSubplot at 0x1a1efd3dd48>"
      ]
     },
     "execution_count": 23,
     "metadata": {},
     "output_type": "execute_result"
    },
    {
     "data": {
      "image/png": "[encoded data removed]",
      "text/plain": [
       "<Figure size 432x288 with 2 Axes>"
      ]
     },
     "metadata": {
      "needs_background": "light"
     },
     "output_type": "display_data"
    }
   ],
   "source": [
    "all_front_point.plot(column='gridcode',legend=True)"
   ]
  },
  {
   "cell_type": "code",
   "execution_count": 30,
   "metadata": {},
   "outputs": [
    {
     "data": {
      "text/html": [
       "<div>\n",
       "<style scoped>\n",
       "    .dataframe tbody tr th:only-of-type {\n",
       "        vertical-align: middle;\n",
       "    }\n",
       "\n",
       "    .dataframe tbody tr th {\n",
       "        vertical-align: top;\n",
       "    }\n",
       "\n",
       "    .dataframe thead th {\n",
       "        text-align: right;\n",
       "    }\n",
       "</style>\n",
       "<table border=\"1\" class=\"dataframe\">\n",
       "  <thead>\n",
       "    <tr style=\"text-align: right;\">\n",
       "      <th></th>\n",
       "      <th>FID_Full_p</th>\n",
       "      <th>Name</th>\n",
       "      <th>gridcode</th>\n",
       "      <th>BurnedArea</th>\n",
       "      <th>Year</th>\n",
       "      <th>time_perce</th>\n",
       "      <th>Elev</th>\n",
       "      <th>Slope</th>\n",
       "      <th>Aspect</th>\n",
       "      <th>TD</th>\n",
       "      <th>...</th>\n",
       "      <th>area_mean</th>\n",
       "      <th>TPA_mean</th>\n",
       "      <th>dtree_mean</th>\n",
       "      <th>mortality_</th>\n",
       "      <th>TPha_weigh</th>\n",
       "      <th>TPha_MWeig</th>\n",
       "      <th>TPA_Class</th>\n",
       "      <th>TPA_MeanCl</th>\n",
       "      <th>front_len</th>\n",
       "      <th>geometry</th>\n",
       "    </tr>\n",
       "  </thead>\n",
       "  <tbody>\n",
       "    <tr>\n",
       "      <th>16517</th>\n",
       "      <td>437</td>\n",
       "      <td>Lion</td>\n",
       "      <td>272.0</td>\n",
       "      <td>155.286839</td>\n",
       "      <td>2017</td>\n",
       "      <td>0.052632</td>\n",
       "      <td>2029.127847</td>\n",
       "      <td>8.350922</td>\n",
       "      <td>218.412994</td>\n",
       "      <td>0.413306</td>\n",
       "      <td>...</td>\n",
       "      <td>171990.573394</td>\n",
       "      <td>3.333333</td>\n",
       "      <td>243.413921</td>\n",
       "      <td>0.110756</td>\n",
       "      <td>9.405052</td>\n",
       "      <td>1.567509</td>\n",
       "      <td>1</td>\n",
       "      <td>1</td>\n",
       "      <td>974.272077</td>\n",
       "      <td>MULTIPOINT (134062.586 -193593.570, 133981.407...</td>\n",
       "    </tr>\n",
       "    <tr>\n",
       "      <th>16518</th>\n",
       "      <td>437</td>\n",
       "      <td>Lion</td>\n",
       "      <td>272.0</td>\n",
       "      <td>155.286839</td>\n",
       "      <td>2017</td>\n",
       "      <td>0.052632</td>\n",
       "      <td>2029.127847</td>\n",
       "      <td>8.350922</td>\n",
       "      <td>218.412994</td>\n",
       "      <td>0.413306</td>\n",
       "      <td>...</td>\n",
       "      <td>171990.573394</td>\n",
       "      <td>3.333333</td>\n",
       "      <td>243.413921</td>\n",
       "      <td>0.110756</td>\n",
       "      <td>9.405052</td>\n",
       "      <td>1.567509</td>\n",
       "      <td>1</td>\n",
       "      <td>1</td>\n",
       "      <td>0.008961</td>\n",
       "      <td>MULTIPOINT (132935.139 -193777.973)</td>\n",
       "    </tr>\n",
       "    <tr>\n",
       "      <th>16519</th>\n",
       "      <td>437</td>\n",
       "      <td>Lion</td>\n",
       "      <td>272.0</td>\n",
       "      <td>155.286839</td>\n",
       "      <td>2017</td>\n",
       "      <td>0.052632</td>\n",
       "      <td>2029.127847</td>\n",
       "      <td>8.350922</td>\n",
       "      <td>218.412994</td>\n",
       "      <td>0.413306</td>\n",
       "      <td>...</td>\n",
       "      <td>171990.573394</td>\n",
       "      <td>3.333333</td>\n",
       "      <td>243.413921</td>\n",
       "      <td>0.110756</td>\n",
       "      <td>9.405052</td>\n",
       "      <td>1.567509</td>\n",
       "      <td>1</td>\n",
       "      <td>1</td>\n",
       "      <td>134.595392</td>\n",
       "      <td>MULTIPOINT (133069.723 -193775.869, 132935.144...</td>\n",
       "    </tr>\n",
       "    <tr>\n",
       "      <th>16520</th>\n",
       "      <td>437</td>\n",
       "      <td>Lion</td>\n",
       "      <td>272.0</td>\n",
       "      <td>155.286839</td>\n",
       "      <td>2017</td>\n",
       "      <td>0.052632</td>\n",
       "      <td>2029.127847</td>\n",
       "      <td>8.350922</td>\n",
       "      <td>218.412994</td>\n",
       "      <td>0.413306</td>\n",
       "      <td>...</td>\n",
       "      <td>171990.573394</td>\n",
       "      <td>3.333333</td>\n",
       "      <td>243.413921</td>\n",
       "      <td>0.110756</td>\n",
       "      <td>9.405052</td>\n",
       "      <td>1.567509</td>\n",
       "      <td>1</td>\n",
       "      <td>1</td>\n",
       "      <td>1483.302390</td>\n",
       "      <td>MULTIPOINT (133888.598 -192505.668, 133946.029...</td>\n",
       "    </tr>\n",
       "    <tr>\n",
       "      <th>16521</th>\n",
       "      <td>437</td>\n",
       "      <td>Lion</td>\n",
       "      <td>272.0</td>\n",
       "      <td>155.286839</td>\n",
       "      <td>2017</td>\n",
       "      <td>0.052632</td>\n",
       "      <td>2029.127847</td>\n",
       "      <td>8.350922</td>\n",
       "      <td>218.412994</td>\n",
       "      <td>0.413306</td>\n",
       "      <td>...</td>\n",
       "      <td>171990.573394</td>\n",
       "      <td>3.333333</td>\n",
       "      <td>243.413921</td>\n",
       "      <td>0.110756</td>\n",
       "      <td>9.405052</td>\n",
       "      <td>1.567509</td>\n",
       "      <td>1</td>\n",
       "      <td>1</td>\n",
       "      <td>942.055639</td>\n",
       "      <td>MULTIPOINT (132999.933 -192443.309, 133085.564...</td>\n",
       "    </tr>\n",
       "    <tr>\n",
       "      <th>...</th>\n",
       "      <td>...</td>\n",
       "      <td>...</td>\n",
       "      <td>...</td>\n",
       "      <td>...</td>\n",
       "      <td>...</td>\n",
       "      <td>...</td>\n",
       "      <td>...</td>\n",
       "      <td>...</td>\n",
       "      <td>...</td>\n",
       "      <td>...</td>\n",
       "      <td>...</td>\n",
       "      <td>...</td>\n",
       "      <td>...</td>\n",
       "      <td>...</td>\n",
       "      <td>...</td>\n",
       "      <td>...</td>\n",
       "      <td>...</td>\n",
       "      <td>...</td>\n",
       "      <td>...</td>\n",
       "      <td>...</td>\n",
       "      <td>...</td>\n",
       "    </tr>\n",
       "    <tr>\n",
       "      <th>16865</th>\n",
       "      <td>454</td>\n",
       "      <td>Lion</td>\n",
       "      <td>289.0</td>\n",
       "      <td>202.841783</td>\n",
       "      <td>2017</td>\n",
       "      <td>0.947368</td>\n",
       "      <td>2027.804715</td>\n",
       "      <td>25.474926</td>\n",
       "      <td>102.576485</td>\n",
       "      <td>0.964072</td>\n",
       "      <td>...</td>\n",
       "      <td>359889.941236</td>\n",
       "      <td>8.000101</td>\n",
       "      <td>925.900550</td>\n",
       "      <td>0.177424</td>\n",
       "      <td>27.387861</td>\n",
       "      <td>4.564643</td>\n",
       "      <td>2</td>\n",
       "      <td>1</td>\n",
       "      <td>1340.253878</td>\n",
       "      <td>MULTIPOINT (143035.857 -193530.771, 143045.671...</td>\n",
       "    </tr>\n",
       "    <tr>\n",
       "      <th>16867</th>\n",
       "      <td>454</td>\n",
       "      <td>Lion</td>\n",
       "      <td>289.0</td>\n",
       "      <td>202.841783</td>\n",
       "      <td>2017</td>\n",
       "      <td>0.947368</td>\n",
       "      <td>2027.804715</td>\n",
       "      <td>25.474926</td>\n",
       "      <td>102.576485</td>\n",
       "      <td>0.964072</td>\n",
       "      <td>...</td>\n",
       "      <td>359889.941236</td>\n",
       "      <td>8.000101</td>\n",
       "      <td>925.900550</td>\n",
       "      <td>0.177424</td>\n",
       "      <td>27.387861</td>\n",
       "      <td>4.564643</td>\n",
       "      <td>2</td>\n",
       "      <td>1</td>\n",
       "      <td>839.621977</td>\n",
       "      <td>MULTIPOINT (141805.097 -192883.925, 141804.957...</td>\n",
       "    </tr>\n",
       "    <tr>\n",
       "      <th>16868</th>\n",
       "      <td>455</td>\n",
       "      <td>Lion</td>\n",
       "      <td>290.0</td>\n",
       "      <td>34.266567</td>\n",
       "      <td>2017</td>\n",
       "      <td>1.000000</td>\n",
       "      <td>1805.849730</td>\n",
       "      <td>23.521862</td>\n",
       "      <td>87.756973</td>\n",
       "      <td>0.964703</td>\n",
       "      <td>...</td>\n",
       "      <td>84563.518661</td>\n",
       "      <td>6.713492</td>\n",
       "      <td>253.870431</td>\n",
       "      <td>0.246783</td>\n",
       "      <td>44.452471</td>\n",
       "      <td>7.408745</td>\n",
       "      <td>3</td>\n",
       "      <td>1</td>\n",
       "      <td>1221.783230</td>\n",
       "      <td>MULTIPOINT (143089.784 -193498.293, 143153.525...</td>\n",
       "    </tr>\n",
       "    <tr>\n",
       "      <th>16871</th>\n",
       "      <td>455</td>\n",
       "      <td>Lion</td>\n",
       "      <td>290.0</td>\n",
       "      <td>34.266567</td>\n",
       "      <td>2017</td>\n",
       "      <td>1.000000</td>\n",
       "      <td>1805.849730</td>\n",
       "      <td>23.521862</td>\n",
       "      <td>87.756973</td>\n",
       "      <td>0.964703</td>\n",
       "      <td>...</td>\n",
       "      <td>84563.518661</td>\n",
       "      <td>6.713492</td>\n",
       "      <td>253.870431</td>\n",
       "      <td>0.246783</td>\n",
       "      <td>44.452471</td>\n",
       "      <td>7.408745</td>\n",
       "      <td>3</td>\n",
       "      <td>1</td>\n",
       "      <td>447.683336</td>\n",
       "      <td>MULTIPOINT (142502.044 -192704.135, 142527.526...</td>\n",
       "    </tr>\n",
       "    <tr>\n",
       "      <th>16873</th>\n",
       "      <td>455</td>\n",
       "      <td>Lion</td>\n",
       "      <td>290.0</td>\n",
       "      <td>34.266567</td>\n",
       "      <td>2017</td>\n",
       "      <td>1.000000</td>\n",
       "      <td>1805.849730</td>\n",
       "      <td>23.521862</td>\n",
       "      <td>87.756973</td>\n",
       "      <td>0.964703</td>\n",
       "      <td>...</td>\n",
       "      <td>84563.518661</td>\n",
       "      <td>6.713492</td>\n",
       "      <td>253.870431</td>\n",
       "      <td>0.246783</td>\n",
       "      <td>44.452471</td>\n",
       "      <td>7.408745</td>\n",
       "      <td>3</td>\n",
       "      <td>1</td>\n",
       "      <td>412.176741</td>\n",
       "      <td>MULTIPOINT (143434.057 -194564.759, 143371.309...</td>\n",
       "    </tr>\n",
       "  </tbody>\n",
       "</table>\n",
       "<p>246 rows × 67 columns</p>\n",
       "</div>"
      ],
      "text/plain": [
       "       FID_Full_p  Name  gridcode  BurnedArea  Year  time_perce         Elev  \\\n",
       "16517         437  Lion     272.0  155.286839  2017    0.052632  2029.127847   \n",
       "16518         437  Lion     272.0  155.286839  2017    0.052632  2029.127847   \n",
       "16519         437  Lion     272.0  155.286839  2017    0.052632  2029.127847   \n",
       "16520         437  Lion     272.0  155.286839  2017    0.052632  2029.127847   \n",
       "16521         437  Lion     272.0  155.286839  2017    0.052632  2029.127847   \n",
       "...           ...   ...       ...         ...   ...         ...          ...   \n",
       "16865         454  Lion     289.0  202.841783  2017    0.947368  2027.804715   \n",
       "16867         454  Lion     289.0  202.841783  2017    0.947368  2027.804715   \n",
       "16868         455  Lion     290.0   34.266567  2017    1.000000  1805.849730   \n",
       "16871         455  Lion     290.0   34.266567  2017    1.000000  1805.849730   \n",
       "16873         455  Lion     290.0   34.266567  2017    1.000000  1805.849730   \n",
       "\n",
       "           Slope      Aspect        TD  ...      area_mean  TPA_mean  \\\n",
       "16517   8.350922  218.412994  0.413306  ...  171990.573394  3.333333   \n",
       "16518   8.350922  218.412994  0.413306  ...  171990.573394  3.333333   \n",
       "16519   8.350922  218.412994  0.413306  ...  171990.573394  3.333333   \n",
       "16520   8.350922  218.412994  0.413306  ...  171990.573394  3.333333   \n",
       "16521   8.350922  218.412994  0.413306  ...  171990.573394  3.333333   \n",
       "...          ...         ...       ...  ...            ...       ...   \n",
       "16865  25.474926  102.576485  0.964072  ...  359889.941236  8.000101   \n",
       "16867  25.474926  102.576485  0.964072  ...  359889.941236  8.000101   \n",
       "16868  23.521862   87.756973  0.964703  ...   84563.518661  6.713492   \n",
       "16871  23.521862   87.756973  0.964703  ...   84563.518661  6.713492   \n",
       "16873  23.521862   87.756973  0.964703  ...   84563.518661  6.713492   \n",
       "\n",
       "       dtree_mean mortality_ TPha_weigh TPha_MWeig TPA_Class TPA_MeanCl  \\\n",
       "16517  243.413921   0.110756   9.405052   1.567509         1          1   \n",
       "16518  243.413921   0.110756   9.405052   1.567509         1          1   \n",
       "16519  243.413921   0.110756   9.405052   1.567509         1          1   \n",
       "16520  243.413921   0.110756   9.405052   1.567509         1          1   \n",
       "16521  243.413921   0.110756   9.405052   1.567509         1          1   \n",
       "...           ...        ...        ...        ...       ...        ...   \n",
       "16865  925.900550   0.177424  27.387861   4.564643         2          1   \n",
       "16867  925.900550   0.177424  27.387861   4.564643         2          1   \n",
       "16868  253.870431   0.246783  44.452471   7.408745         3          1   \n",
       "16871  253.870431   0.246783  44.452471   7.408745         3          1   \n",
       "16873  253.870431   0.246783  44.452471   7.408745         3          1   \n",
       "\n",
       "         front_len                                           geometry  \n",
       "16517   974.272077  MULTIPOINT (134062.586 -193593.570, 133981.407...  \n",
       "16518     0.008961                MULTIPOINT (132935.139 -193777.973)  \n",
       "16519   134.595392  MULTIPOINT (133069.723 -193775.869, 132935.144...  \n",
       "16520  1483.302390  MULTIPOINT (133888.598 -192505.668, 133946.029...  \n",
       "16521   942.055639  MULTIPOINT (132999.933 -192443.309, 133085.564...  \n",
       "...            ...                                                ...  \n",
       "16865  1340.253878  MULTIPOINT (143035.857 -193530.771, 143045.671...  \n",
       "16867   839.621977  MULTIPOINT (141805.097 -192883.925, 141804.957...  \n",
       "16868  1221.783230  MULTIPOINT (143089.784 -193498.293, 143153.525...  \n",
       "16871   447.683336  MULTIPOINT (142502.044 -192704.135, 142527.526...  \n",
       "16873   412.176741  MULTIPOINT (143434.057 -194564.759, 143371.309...  \n",
       "\n",
       "[246 rows x 67 columns]"
      ]
     },
     "execution_count": 30,
     "metadata": {},
     "output_type": "execute_result"
    }
   ],
   "source": [
    "all_front_point.query(\"(Name=='Lion')\")"
   ]
  },
  {
   "cell_type": "code",
   "execution_count": 135,
   "metadata": {},
   "outputs": [
    {
     "data": {
      "text/plain": [
       "<matplotlib.axes._subplots.AxesSubplot at 0x1c7fddbb208>"
      ]
     },
     "execution_count": 135,
     "metadata": {},
     "output_type": "execute_result"
    },
    {
     "data": {
      "image/png": "[encoded data removed]",
      "text/plain": [
       "<Figure size 432x288 with 2 Axes>"
      ]
     },
     "metadata": {
      "needs_background": "light"
     },
     "output_type": "display_data"
    }
   ],
   "source": [
    "ax=Rough.query(\"(gridcode<220)&(gridcode>=219)\").plot(color='red')\n",
    "Rough_p=all_front_point.query(\"Name=='Rough'\")\n",
    "all_front_point.query(\"(gridcode<220)&(Name=='Rough')&(gridcode>=219)\").plot(ax=ax,column='gridcode',legend=True)"
   ]
  },
  {
   "cell_type": "code",
   "execution_count": 77,
   "metadata": {},
   "outputs": [
    {
     "data": {
      "image/png": "[encoded data removed]",
      "text/plain": [
       "<Figure size 432x288 with 1 Axes>"
      ]
     },
     "metadata": {
      "needs_background": "light"
     },
     "output_type": "display_data"
    }
   ],
   "source": [
    "from matplotlib import pyplot as plt\n",
    "num_points=int(150/80)\n",
    "line=Pier.iloc[0,:].geometry\n",
    "#print(num_points)\n",
    "point=line.centroid\n",
    "#fig,ax=plt.plot(*line.xy)\n",
    "\n",
    "fig, axs = plt.subplots()\n",
    "axs.set_aspect('equal', 'datalim')  \n",
    "axs.plot(*line.xy, alpha=0.5)\n",
    "axs.scatter(point.x,point.y,color='red')\n",
    "\n",
    "plt.show()\n",
    "\n"
   ]
  },
  {
   "cell_type": "code",
   "execution_count": 42,
   "metadata": {},
   "outputs": [
    {
     "data": {
      "text/plain": [
       "81.50970585655293"
      ]
     },
     "execution_count": 42,
     "metadata": {},
     "output_type": "execute_result"
    }
   ],
   "source": [
    "new_points[0].distance(new_points[1])"
   ]
  },
  {
   "cell_type": "markdown",
   "metadata": {},
   "source": [
    "strategy 2:\n",
    "remove all lines shorter than 60m\n",
    "generate mid-point for lines <160m and >=60m\n",
    "generate points with interval of 80m for all other lines"
   ]
  },
  {
   "cell_type": "code",
   "execution_count": 35,
   "metadata": {},
   "outputs": [],
   "source": [
    "#filter by length\n",
    "all_front=all_front.query(\"front_len>=60\")"
   ]
  },
  {
   "cell_type": "code",
   "execution_count": 36,
   "metadata": {},
   "outputs": [],
   "source": [
    "def equiDistancePoints(line,dist=80):\n",
    "    \n",
    "    '''\n",
    "    takes a line and generate equidistance points on it\n",
    "    dist: specify the distance between points, default 80\n",
    "    limit: the min value below which lines were low quality, default 60m, 2 landsat pixels\n",
    "    '''\n",
    "    \n",
    "    #generate a series of points along the line that have an interval of around 80m (60-90m)\n",
    "    if line.length<(2*dist): # return midpoint and  for lines that are lower than 160m (otherwise only one interpolated point)\n",
    "        return shapely.geometry.MultiPoint([line.interpolate(0.5, normalized = True)])\n",
    "    else:\n",
    "        #calculate the number of points to be generated (generate the number-1 instead to exclude the end point)\n",
    "        num_points=int(line.length/80)\n",
    "        #use normalized=True to indicate the given distance value is a fraction to the total length\n",
    "        new_points = [line.interpolate(i/float(num_points), normalized=True) for i in range(num_points)]\n",
    "        return shapely.geometry.MultiPoint(new_points)\n",
    "    "
   ]
  },
  {
   "cell_type": "code",
   "execution_count": 37,
   "metadata": {},
   "outputs": [],
   "source": [
    "rand_points=all_front.geometry.apply(equiDistancePoints)"
   ]
  },
  {
   "cell_type": "code",
   "execution_count": 38,
   "metadata": {},
   "outputs": [],
   "source": [
    "#assign new geometry\n",
    "all_front_point=all_front.copy()\n",
    "all_front_point['geometry']=rand_points"
   ]
  },
  {
   "cell_type": "code",
   "execution_count": 39,
   "metadata": {},
   "outputs": [],
   "source": [
    "#save file\n",
    "all_front_point.to_file(r\"./full_progression_1219_point_valid.shp\", driver='ESRI Shapefile') "
   ]
  },
  {
   "cell_type": "code",
   "execution_count": 53,
   "metadata": {},
   "outputs": [],
   "source": [
    "Rough=all_front.query(\"Name=='Rough'\")"
   ]
  },
  {
   "cell_type": "code",
   "execution_count": 82,
   "metadata": {},
   "outputs": [
    {
     "data": {
      "text/plain": [
       "<matplotlib.axes._subplots.AxesSubplot at 0x17584e97d08>"
      ]
     },
     "execution_count": 82,
     "metadata": {},
     "output_type": "execute_result"
    },
    {
     "data": {
      "image/png": "[encoded data removed]",
      "text/plain": [
       "<Figure size 432x288 with 2 Axes>"
      ]
     },
     "metadata": {
      "needs_background": "light"
     },
     "output_type": "display_data"
    }
   ],
   "source": [
    "all_front_point.plot(column='gridcode',legend=True, cmap='OrRd')"
   ]
  },
  {
   "cell_type": "code",
   "execution_count": 83,
   "metadata": {},
   "outputs": [
    {
     "data": {
      "text/plain": [
       "<matplotlib.axes._subplots.AxesSubplot at 0x17584edd208>"
      ]
     },
     "execution_count": 83,
     "metadata": {},
     "output_type": "execute_result"
    },
    {
     "data": {
      "image/png": "[encoded data removed]",
      "text/plain": [
       "<Figure size 432x288 with 2 Axes>"
      ]
     },
     "metadata": {
      "needs_background": "light"
     },
     "output_type": "display_data"
    }
   ],
   "source": [
    "#ax=Rough.query(\"(gridcode<=220)&(gridcode>=219)\").plot(color='red')\n",
    "#Rough_p=all_front_point.query(\"Name=='Rough'\")\n",
    "#Rough_p=all_front_point.query(\"(gridcode<=220)&(Name=='Rough')&(gridcode>=219)\")\n",
    "Rough_p.plot(column='gridcode',legend=True,cmap='OrRd')"
   ]
  },
  {
   "cell_type": "code",
   "execution_count": 55,
   "metadata": {},
   "outputs": [
    {
     "data": {
      "text/plain": [
       "<matplotlib.axes._subplots.AxesSubplot at 0x17584a59948>"
      ]
     },
     "execution_count": 55,
     "metadata": {},
     "output_type": "execute_result"
    },
    {
     "data": {
      "image/png": "[encoded data removed]",
      "text/plain": [
       "<Figure size 432x288 with 2 Axes>"
      ]
     },
     "metadata": {
      "needs_background": "light"
     },
     "output_type": "display_data"
    }
   ],
   "source": [
    "ax=Rough.query(\"(gridcode<220)&(gridcode>=219)\").plot(color='red')\n",
    "#Rough_p=all_front_point.query(\"Name=='Rough'\")\n",
    "all_front_point.query(\"(gridcode<220)&(Name=='Rough')&(gridcode>=219)\").plot(ax=ax,column='gridcode',legend=True)"
   ]
  },
  {
   "cell_type": "code",
   "execution_count": 78,
   "metadata": {},
   "outputs": [
    {
     "data": {
      "text/plain": [
       "<matplotlib.axes._subplots.AxesSubplot at 0x17584db9948>"
      ]
     },
     "execution_count": 78,
     "metadata": {},
     "output_type": "execute_result"
    },
    {
     "data": {
      "image/png": "[encoded data removed]",
      "text/plain": [
       "<Figure size 432x288 with 2 Axes>"
      ]
     },
     "metadata": {
      "needs_background": "light"
     },
     "output_type": "display_data"
    }
   ],
   "source": [
    "or='red')\n",
    "#Rough_p=all_front_point.query(\"Name=='Rough'\")\n",
    "all_front_point.query(\"(gridcode<=220)&(Name=='Rough')&(gridcode>219)\").plot(ax=ax,column='gridcode',legend=True)"
   ]
  },
  {
   "cell_type": "code",
   "execution_count": null,
   "metadata": {},
   "outputs": [],
   "source": []
  },
  {
   "cell_type": "markdown",
   "metadata": {},
   "source": [
    "Ignition Data:\n",
    "Data were organized differently each year\n",
    "Reorganize them seperately"
   ]
  },
  {
   "cell_type": "code",
   "execution_count": 60,
   "metadata": {},
   "outputs": [
    {
     "data": {
      "text/plain": [
       "Index(['latitude', 'longitude', 'report_dat', 'hour', 'area_meas', 'fire_name',\n",
       "       'incident_n', 'per_cont', 'percent_mm', 'cont_date', 'location',\n",
       "       'start_date', 'start_hour', 'inc_type', 'cause', 'active', 'report_age',\n",
       "       'gacc', 'internal_i', 'hotlink', 'load_date', 'state', 'area_',\n",
       "       'geometry'],\n",
       "      dtype='object')"
      ]
     },
     "execution_count": 60,
     "metadata": {},
     "output_type": "execute_result"
    }
   ],
   "source": [
    "igni.columns"
   ]
  },
  {
   "cell_type": "code",
   "execution_count": 71,
   "metadata": {},
   "outputs": [],
   "source": [
    "#load and prepare fire ignition data\n",
    "igni=gpd.read_file(r\"E:/Mortality/SierraNevada/fire/Ignition/GeoMac_ignition_12.shp\")\n",
    "#save name, date, year,acres\n",
    "igni=igni[['fire_name','start_date','area_','geometry']]\n",
    "igni['Year']=2012\n",
    "igni_new=gpd.read_file(r\"E:/Mortality/SierraNevada/fire/Ignition/GeoMac_ignition_13.shp\")\n",
    "igni_new=igni_new[['fire_name','start_date','area_','geometry']]\n",
    "igni_new['Year']=2013\n",
    "igni=pd.concat([igni,igni_new],axis=0)\n",
    "igni_new=gpd.read_file(r\"E:/Mortality/SierraNevada/fire/Ignition/GeoMac_ignition_14.shp\")\n",
    "igni_new=igni_new[['fire_name','start_date','area_','geometry']]\n",
    "igni_new['Year']=2014\n",
    "igni=pd.concat([igni,igni_new],axis=0)\n",
    "igni_new=gpd.read_file(r\"E:/Mortality/SierraNevada/fire/Ignition/GeoMac_ignition_15.shp\")\n",
    "igni_new=igni_new[['fire_name','start_date','area_','geometry']]\n",
    "igni_new['Year']=2015\n",
    "igni=pd.concat([igni,igni_new],axis=0)\n",
    "igni_new=gpd.read_file(r\"E:/Mortality/SierraNevada/fire/Ignition/GeoMac_ignition_16.shp\")\n",
    "igni_new=igni_new[['incidentna','firediscov','acres','geometry']]\n",
    "igni_new['Year']=2016\n",
    "igni_new=igni_new.rename(columns={\"incidentna\": \"fire_name\", \"firediscov\": \"start_date\",\"acres\":\"area_\"})\n",
    "igni=pd.concat([igni,igni_new],axis=0)\n",
    "igni_new=gpd.read_file(r\"E:/Mortality/SierraNevada/fire/Ignition/GeoMac_ignition_17.shp\")\n",
    "igni_new=igni_new[['FIRENAME','DISCOVERDT','ACRES','geometry']]\n",
    "igni_new['Year']=2017\n",
    "igni_new=igni_new.rename(columns={\"FIRENAME\": \"fire_name\", \"DISCOVERDT\": \"start_date\",\"ACRES\":\"area_\"})\n",
    "igni=pd.concat([igni,igni_new],axis=0)\n",
    "igni_new=gpd.read_file(r\"E:/Mortality/SierraNevada/fire/Ignition/GeoMac_ignition_18.shp\")\n",
    "igni_new=igni_new[['incidentna','firediscov','acres','geometry']]\n",
    "igni_new['Year']=2018\n",
    "igni_new=igni_new.rename(columns={\"incidentna\": \"fire_name\", \"firediscov\": \"start_date\",\"acres\":\"area_\"})\n",
    "igni=pd.concat([igni,igni_new],axis=0)\n",
    "igni_new=gpd.read_file(r\"E:/Mortality/SierraNevada/fire/Ignition/GeoMac_ignition_19.shp\")\n",
    "igni_new=igni_new[['incidentna','firediscov','acres','geometry']]\n",
    "igni_new['Year']=2019\n",
    "igni_new=igni_new.rename(columns={\"incidentna\": \"fire_name\", \"firediscov\": \"start_date\",\"acres\":\"area_\"})\n",
    "igni=pd.concat([igni,igni_new],axis=0)"
   ]
  },
  {
   "cell_type": "code",
   "execution_count": 76,
   "metadata": {},
   "outputs": [
    {
     "data": {
      "text/plain": [
       "<matplotlib.axes._subplots.AxesSubplot at 0x1a1f23862c8>"
      ]
     },
     "execution_count": 76,
     "metadata": {},
     "output_type": "execute_result"
    },
    {
     "data": {
      "image/png": "[encoded data removed]",
      "text/plain": [
       "<Figure size 432x288 with 2 Axes>"
      ]
     },
     "metadata": {
      "needs_background": "light"
     },
     "output_type": "display_data"
    }
   ],
   "source": [
    "igni.plot(column='Year',legend=True)"
   ]
  },
  {
   "cell_type": "code",
   "execution_count": 85,
   "metadata": {},
   "outputs": [
    {
     "data": {
      "text/plain": [
       "81"
      ]
     },
     "execution_count": 85,
     "metadata": {},
     "output_type": "execute_result"
    }
   ],
   "source": [
    "len(igni.fire_name.unique())"
   ]
  },
  {
   "cell_type": "code",
   "execution_count": 96,
   "metadata": {},
   "outputs": [],
   "source": [
    "def changeFireName(item):\n",
    "    \n",
    "    '''\n",
    "    takes a row from the fire_name column in the ignition dataset and changes it to the same firename as in progression dataset\n",
    "    '''\n",
    "    \n",
    "    #item=row.fire_name\n",
    "    \n",
    "    #for special cases:\n",
    "    if item==\"GARDEN\":\n",
    "        item=\"Gardensqf\"\n",
    "    elif item==\"CABIN\":\n",
    "        item=\"Cabinsqf\"\n",
    "    elif item==\"CHIMNEY\":\n",
    "        item=\"Chimneyslu\"\n",
    "    elif item==\"STONE\":\n",
    "        item=\"Stonemdf\"\n",
    "    elif item==\"CEDAR\":\n",
    "        item=\"Cedarsqf\"\n",
    "    elif item==\"R-1  Ranch\":\n",
    "        item=\"R1ranch\"\n",
    "    elif item==\"CREEK\":\n",
    "        item=\"Creekstf\"\n",
    "    elif item==\"Gulch\":\n",
    "        item=\"Gulchshu\"\n",
    "    elif item==\"LUMPKIN\":\n",
    "        item=\"Lumpkiin\"\n",
    "    elif item==\"SOUP 2\":\n",
    "        item=\"Soupcomplexsoup2\"\n",
    "    \n",
    "    if \" \" in item:\n",
    "        return item.replace(\" \", \"\").capitalize()\n",
    "    elif item.isupper():\n",
    "        return item.capitalize()\n",
    "    else:\n",
    "        return item\n",
    "#igni.fire_name.unique()[27].isupper()"
   ]
  },
  {
   "cell_type": "code",
   "execution_count": 99,
   "metadata": {},
   "outputs": [],
   "source": [
    "igni['fire_name']=igni.fire_name.apply(changeFireName)"
   ]
  },
  {
   "cell_type": "code",
   "execution_count": 100,
   "metadata": {},
   "outputs": [
    {
     "data": {
      "text/html": [
       "<div>\n",
       "<style scoped>\n",
       "    .dataframe tbody tr th:only-of-type {\n",
       "        vertical-align: middle;\n",
       "    }\n",
       "\n",
       "    .dataframe tbody tr th {\n",
       "        vertical-align: top;\n",
       "    }\n",
       "\n",
       "    .dataframe thead th {\n",
       "        text-align: right;\n",
       "    }\n",
       "</style>\n",
       "<table border=\"1\" class=\"dataframe\">\n",
       "  <thead>\n",
       "    <tr style=\"text-align: right;\">\n",
       "      <th></th>\n",
       "      <th>fire_name</th>\n",
       "      <th>start_date</th>\n",
       "      <th>area_</th>\n",
       "      <th>geometry</th>\n",
       "      <th>Year</th>\n",
       "    </tr>\n",
       "  </thead>\n",
       "  <tbody>\n",
       "    <tr>\n",
       "      <th>0</th>\n",
       "      <td>Jawbonecomplex</td>\n",
       "      <td>08/10/2012</td>\n",
       "      <td>1218.0</td>\n",
       "      <td>POINT (-118.23800 35.34200)</td>\n",
       "      <td>2012</td>\n",
       "    </tr>\n",
       "    <tr>\n",
       "      <th>1</th>\n",
       "      <td>Reading</td>\n",
       "      <td>07/23/2012</td>\n",
       "      <td>28079.0</td>\n",
       "      <td>POINT (-121.45400 40.49500)</td>\n",
       "      <td>2012</td>\n",
       "    </tr>\n",
       "    <tr>\n",
       "      <th>2</th>\n",
       "      <td>Robbers</td>\n",
       "      <td>07/11/2012</td>\n",
       "      <td>2650.0</td>\n",
       "      <td>POINT (-120.90000 39.05100)</td>\n",
       "      <td>2012</td>\n",
       "    </tr>\n",
       "    <tr>\n",
       "      <th>3</th>\n",
       "      <td>Likely</td>\n",
       "      <td>09/05/2012</td>\n",
       "      <td>9838.0</td>\n",
       "      <td>POINT (-120.47300 41.09200)</td>\n",
       "      <td>2012</td>\n",
       "    </tr>\n",
       "    <tr>\n",
       "      <th>4</th>\n",
       "      <td>Rush</td>\n",
       "      <td>08/12/2012</td>\n",
       "      <td>315577.0</td>\n",
       "      <td>POINT (-120.15200 40.62100)</td>\n",
       "      <td>2012</td>\n",
       "    </tr>\n",
       "    <tr>\n",
       "      <th>...</th>\n",
       "      <td>...</td>\n",
       "      <td>...</td>\n",
       "      <td>...</td>\n",
       "      <td>...</td>\n",
       "      <td>...</td>\n",
       "    </tr>\n",
       "    <tr>\n",
       "      <th>0</th>\n",
       "      <td>Springs</td>\n",
       "      <td>2019-07-26</td>\n",
       "      <td>4840.0</td>\n",
       "      <td>POINT (-118.87220 37.82583)</td>\n",
       "      <td>2019</td>\n",
       "    </tr>\n",
       "    <tr>\n",
       "      <th>1</th>\n",
       "      <td>Cow</td>\n",
       "      <td>2019-07-25</td>\n",
       "      <td>2025.0</td>\n",
       "      <td>POINT (-118.22750 36.28389)</td>\n",
       "      <td>2019</td>\n",
       "    </tr>\n",
       "    <tr>\n",
       "      <th>2</th>\n",
       "      <td>Taboose</td>\n",
       "      <td>2019-09-05</td>\n",
       "      <td>10265.0</td>\n",
       "      <td>POINT (-118.34528 37.03417)</td>\n",
       "      <td>2019</td>\n",
       "    </tr>\n",
       "    <tr>\n",
       "      <th>3</th>\n",
       "      <td>Walker</td>\n",
       "      <td>2019-09-04</td>\n",
       "      <td>54608.0</td>\n",
       "      <td>POINT (-120.66890 40.05325)</td>\n",
       "      <td>2019</td>\n",
       "    </tr>\n",
       "    <tr>\n",
       "      <th>4</th>\n",
       "      <td>R1ranch</td>\n",
       "      <td>2019-08-28</td>\n",
       "      <td>3380.0</td>\n",
       "      <td>POINT (-120.57528 40.58861)</td>\n",
       "      <td>2019</td>\n",
       "    </tr>\n",
       "  </tbody>\n",
       "</table>\n",
       "<p>81 rows × 5 columns</p>\n",
       "</div>"
      ],
      "text/plain": [
       "         fire_name  start_date     area_                     geometry  Year\n",
       "0   Jawbonecomplex  08/10/2012    1218.0  POINT (-118.23800 35.34200)  2012\n",
       "1          Reading  07/23/2012   28079.0  POINT (-121.45400 40.49500)  2012\n",
       "2          Robbers  07/11/2012    2650.0  POINT (-120.90000 39.05100)  2012\n",
       "3           Likely  09/05/2012    9838.0  POINT (-120.47300 41.09200)  2012\n",
       "4             Rush  08/12/2012  315577.0  POINT (-120.15200 40.62100)  2012\n",
       "..             ...         ...       ...                          ...   ...\n",
       "0          Springs  2019-07-26    4840.0  POINT (-118.87220 37.82583)  2019\n",
       "1              Cow  2019-07-25    2025.0  POINT (-118.22750 36.28389)  2019\n",
       "2          Taboose  2019-09-05   10265.0  POINT (-118.34528 37.03417)  2019\n",
       "3           Walker  2019-09-04   54608.0  POINT (-120.66890 40.05325)  2019\n",
       "4          R1ranch  2019-08-28    3380.0  POINT (-120.57528 40.58861)  2019\n",
       "\n",
       "[81 rows x 5 columns]"
      ]
     },
     "execution_count": 100,
     "metadata": {},
     "output_type": "execute_result"
    }
   ],
   "source": [
    "igni"
   ]
  },
  {
   "cell_type": "markdown",
   "metadata": {},
   "source": [
    "### Generate Vector Line"
   ]
  },
  {
   "cell_type": "code",
   "execution_count": 149,
   "metadata": {},
   "outputs": [],
   "source": [
    "all_front_point=gpd.read_file(r\"./full_progression_1219_point_all.shp\")"
   ]
  },
  {
   "cell_type": "code",
   "execution_count": 150,
   "metadata": {},
   "outputs": [],
   "source": [
    "#explode the dataset to points\n",
    "all_front_point=all_front_point.explode().reset_index().rename(columns={\"level_0\": \"line_id\", \"level_1\": \"line_id_p\"})"
   ]
  },
  {
   "cell_type": "code",
   "execution_count": 148,
   "metadata": {},
   "outputs": [],
   "source": [
    "fireline=gpd.read_file(r\"E:\\Mortality\\SierraNevada\\progression\\Full_progression_1219_052620.shp\")"
   ]
  },
  {
   "cell_type": "code",
   "execution_count": 138,
   "metadata": {},
   "outputs": [
    {
     "data": {
      "image/svg+xml": [
       "<svg xmlns=\"http://www.w3.org/2000/svg\" xmlns:xlink=\"http://www.w3.org/1999/xlink\" width=\"100.0\" height=\"100.0\" viewBox=\"-119.62826538253202 36.51319332012331 2.0 2.0\" preserveAspectRatio=\"xMinYMin meet\"><g transform=\"matrix(1,0,0,-1,0,75.02638664024661)\"><circle cx=\"-118.62826538253202\" cy=\"37.51319332012331\" r=\"0.06\" stroke=\"#555555\" stroke-width=\"0.02\" fill=\"#66cc99\" opacity=\"0.6\" /></g></svg>"
      ],
      "text/plain": [
       "<shapely.geometry.point.Point at 0x1a1f2a61f88>"
      ]
     },
     "execution_count": 138,
     "metadata": {},
     "output_type": "execute_result"
    }
   ],
   "source": [
    "fireline.iloc[0,:].geometry.centroid"
   ]
  },
  {
   "cell_type": "code",
   "execution_count": 153,
   "metadata": {},
   "outputs": [
    {
     "data": {
      "text/plain": [
       "<Geographic 2D CRS: EPSG:4269>\n",
       "Name: NAD83\n",
       "Axis Info [ellipsoidal]:\n",
       "- Lat[north]: Geodetic latitude (degree)\n",
       "- Lon[east]: Geodetic longitude (degree)\n",
       "Area of Use:\n",
       "- name: North America - NAD83\n",
       "- bounds: (167.65, 14.92, -47.74, 86.46)\n",
       "Datum: North American Datum 1983\n",
       "- Ellipsoid: GRS 1980\n",
       "- Prime Meridian: Greenwich"
      ]
     },
     "execution_count": 153,
     "metadata": {},
     "output_type": "execute_result"
    }
   ],
   "source": [
    "fireline.crs"
   ]
  },
  {
   "cell_type": "raw",
   "metadata": {},
   "source": [
    "Above gave geographic CRS and is a not a “Projected CRS” as expected This is because it is “bound” to a conversion to current crs, and will always use this when reprojecting instead of letting PROJ determine the best conversion."
   ]
  },
  {
   "cell_type": "code",
   "execution_count": 152,
   "metadata": {},
   "outputs": [
    {
     "data": {
      "text/plain": [
       "<Projected CRS: PROJCS[\"unknown\",GEOGCS[\"GCS_unknown\",DATUM[\"North ...>\n",
       "Name: unknown\n",
       "Axis Info [cartesian]:\n",
       "- [east]: Easting (metre)\n",
       "- [north]: Northing (metre)\n",
       "Area of Use:\n",
       "- undefined\n",
       "Coordinate Operation:\n",
       "- name: unnamed\n",
       "- method: Albers Equal Area\n",
       "Datum: North American Datum 1983\n",
       "- Ellipsoid: GRS 1980\n",
       "- Prime Meridian: Greenwich"
      ]
     },
     "execution_count": 152,
     "metadata": {},
     "output_type": "execute_result"
    }
   ],
   "source": [
    "all_front_point.crs"
   ]
  },
  {
   "cell_type": "code",
   "execution_count": 154,
   "metadata": {},
   "outputs": [
    {
     "data": {
      "text/plain": [
       "<Projected CRS: PROJCS[\"unknown\",GEOGCS[\"GCS_unknown\",DATUM[\"North ...>\n",
       "Name: unknown\n",
       "Axis Info [cartesian]:\n",
       "- [east]: Easting (metre)\n",
       "- [north]: Northing (metre)\n",
       "Area of Use:\n",
       "- undefined\n",
       "Coordinate Operation:\n",
       "- name: unnamed\n",
       "- method: Albers Equal Area\n",
       "Datum: North American Datum 1983\n",
       "- Ellipsoid: GRS 1980\n",
       "- Prime Meridian: Greenwich"
      ]
     },
     "execution_count": 154,
     "metadata": {},
     "output_type": "execute_result"
    }
   ],
   "source": [
    "fireline=fireline.to_crs(all_front_point.crs)\n",
    "fireline.crs"
   ]
  },
  {
   "cell_type": "code",
   "execution_count": 160,
   "metadata": {},
   "outputs": [],
   "source": [
    "igni=igni.to_crs(all_front_point.crs)"
   ]
  },
  {
   "cell_type": "code",
   "execution_count": 168,
   "metadata": {},
   "outputs": [
    {
     "name": "stdout",
     "output_type": "stream",
     "text": [
      "177\n"
     ]
    },
    {
     "data": {
      "text/plain": [
       "176"
      ]
     },
     "execution_count": 168,
     "metadata": {},
     "output_type": "execute_result"
    }
   ],
   "source": [
    "print(date)\n",
    "days[np.where(days==date)[0][0]-1]"
   ]
  },
  {
   "cell_type": "code",
   "execution_count": 172,
   "metadata": {},
   "outputs": [
    {
     "name": "stdout",
     "output_type": "stream",
     "text": [
      "line_id                                                113\n",
      "line_id_p                                                2\n",
      "FID_Full_p                                             458\n",
      "Name                                                 Lions\n",
      "gridcode                                               177\n",
      "                                  ...                     \n",
      "TPha_MWeig                                         8.59654\n",
      "TPA_Class                                                3\n",
      "TPA_MeanCl                                               1\n",
      "front_len                                           431.34\n",
      "geometry      POINT (77466.45609341412 -48807.60430076366)\n",
      "Name: 3000, Length: 69, dtype: object\n",
      "[175 176 177 178 179 180 181 182 183 184 185 186 187 188 189 190 191 192\n",
      " 193 194 195 196 197 198 199 200 201 202 203 204 205 206 207 208 209 210\n",
      " 211 212 213 214 215 216 217 218 219 220 221 222 223 224 225 226 227 228\n",
      " 229 230 231 232 233 234]\n",
      "POINT (77347.82921716095 -49275.01164978445)\n"
     ]
    }
   ],
   "source": [
    "    #line=all_front_point.iloc[3000,:]\n",
    "    line=all_front_point.iloc[3000,:]\n",
    "    print(line)\n",
    "    date=line.gridcode\n",
    "    firename=line.Name\n",
    "    fire=all_front_point.loc[all_front_point['Name']==firename,:]\n",
    "    days=fire.gridcode.unique()\n",
    "    print(days)\n",
    "    if (len(days)==1) or (days[0]==date):\n",
    "        #exceptions, if not found in ignition dataset\n",
    "        if firename not in igni.fire_name.unique():\n",
    "            #if not in ignition dataset, use centroid instead\n",
    "            prev=fireline.loc[(fireline['Name']==firename)&(fireline['gridcode']==date),:].geometry.centroid.iloc[0]\n",
    "        else:\n",
    "            prev=igni.loc[igni['fire_name']==firename].geometry.iloc[0]\n",
    "        #create a vector line from previous day to current day\n",
    "        vec_line=shapely.geometry.LineString([prev,line.geometry])\n",
    "    else:\n",
    "        #get previous day\n",
    "        prev_day=days[np.where(days==date)[0][0]-1]\n",
    "        prev=fireline.loc[((fireline['gridcode']==prev_day)&(fireline['Name']==firename)),:].geometry.unary_union\n",
    "        #nearest = prev.geometry == nearest_points(point, pts)[1]\n",
    "        print(shapely.ops.nearest_points(line.geometry,prev)[1])\n"
   ]
  },
  {
   "cell_type": "code",
   "execution_count": 184,
   "metadata": {},
   "outputs": [],
   "source": [
    "def generateVectorLine(line, firedata,ignition,fireline):\n",
    "    '''\n",
    "    generate lines connecting current day points to nearest previous day points\n",
    "    \n",
    "    args:\n",
    "    line: points generated on the current fire line (each row from the dataset)\n",
    "    firedata: the dataset to search for previous day points\n",
    "    ignition: the ignition dataset to search for starting point of the first day\n",
    "    fireline: the fireline or burned perimeter dataset to search for centroid\n",
    "    \n",
    "    '''\n",
    "    date=line.gridcode\n",
    "    firename=line.Name\n",
    "    fire=firedata.loc[firedata['Name']==firename,:]\n",
    "    days=fire.gridcode.unique()\n",
    "    if (len(days)==1) or (days[0]==date):\n",
    "        #exceptions, if not found in ignition dataset\n",
    "        if firename not in ignition.fire_name.unique():\n",
    "            #if not in ignition dataset, use centroid instead\n",
    "            prev=fireline.loc[(fireline['Name']==firename)&(fireline['gridcode']==date),:].geometry.centroid.iloc[0]\n",
    "        else:\n",
    "            prev=ignition.loc[ignition['fire_name']==firename].geometry.iloc[0]\n",
    "        #create a vector line from previous day to current day\n",
    "        vec_line=shapely.geometry.LineString([prev,line.geometry])\n",
    "        return vec_line  \n",
    "    else:\n",
    "        #get previous day\n",
    "        prev_day=days[np.where(days==date)[0][0]-1]\n",
    "        prev=firedata.loc[((firedata['gridcode']==prev_day)&(firedata['Name']==firename)),:].geometry.unary_union\n",
    "        #search for closest point\n",
    "        prev_point=shapely.ops.nearest_points(line.geometry,prev)[1]\n",
    "        vec_line=shapely.geometry.LineString([prev_point,line.geometry])\n",
    "        #print if previous day is more than one day before current day\n",
    "        if date-prev_day>1:\n",
    "            print(\"fire name:\",firename,\" fire day:\",date,\" gaps: \",date-prev_day, \" doesn't have previous one day record.\")\n",
    "        return vec_line"
   ]
  },
  {
   "cell_type": "code",
   "execution_count": 186,
   "metadata": {},
   "outputs": [
    {
     "name": "stdout",
     "output_type": "stream",
     "text": [
      "fire name: Aspen  fire day: 224  gaps:  2  doesn't have previous one day record.\n",
      "fire name: Aspen  fire day: 224  gaps:  2  doesn't have previous one day record.\n",
      "fire name: Aspen  fire day: 224  gaps:  2  doesn't have previous one day record.\n",
      "fire name: Aspen  fire day: 224  gaps:  2  doesn't have previous one day record.\n",
      "fire name: Empire  fire day: 260  gaps:  2  doesn't have previous one day record.\n",
      "fire name: Empire  fire day: 260  gaps:  2  doesn't have previous one day record.\n",
      "fire name: Empire  fire day: 260  gaps:  2  doesn't have previous one day record.\n",
      "fire name: Empire  fire day: 260  gaps:  2  doesn't have previous one day record.\n",
      "fire name: Empire  fire day: 264  gaps:  2  doesn't have previous one day record.\n",
      "fire name: Empire  fire day: 264  gaps:  2  doesn't have previous one day record.\n",
      "fire name: Empire  fire day: 264  gaps:  2  doesn't have previous one day record.\n",
      "fire name: Empire  fire day: 266  gaps:  2  doesn't have previous one day record.\n",
      "fire name: Empire  fire day: 266  gaps:  2  doesn't have previous one day record.\n",
      "fire name: Empire  fire day: 266  gaps:  2  doesn't have previous one day record.\n",
      "fire name: Empire  fire day: 266  gaps:  2  doesn't have previous one day record.\n",
      "fire name: Empire  fire day: 266  gaps:  2  doesn't have previous one day record.\n",
      "fire name: Empire  fire day: 270  gaps:  4  doesn't have previous one day record.\n",
      "fire name: Empire  fire day: 270  gaps:  4  doesn't have previous one day record.\n",
      "fire name: Empire  fire day: 270  gaps:  4  doesn't have previous one day record.\n",
      "fire name: Empire  fire day: 270  gaps:  4  doesn't have previous one day record.\n",
      "fire name: Empire  fire day: 270  gaps:  4  doesn't have previous one day record.\n",
      "fire name: Empire  fire day: 270  gaps:  4  doesn't have previous one day record.\n",
      "fire name: Creekstf  fire day: 270  gaps:  2  doesn't have previous one day record.\n",
      "fire name: Creekstf  fire day: 270  gaps:  2  doesn't have previous one day record.\n",
      "fire name: Empire  fire day: 270  gaps:  4  doesn't have previous one day record.\n",
      "fire name: Empire  fire day: 270  gaps:  4  doesn't have previous one day record.\n",
      "fire name: Empire  fire day: 270  gaps:  4  doesn't have previous one day record.\n",
      "fire name: Empire  fire day: 274  gaps:  3  doesn't have previous one day record.\n",
      "fire name: Empire  fire day: 274  gaps:  3  doesn't have previous one day record.\n",
      "fire name: Empire  fire day: 274  gaps:  3  doesn't have previous one day record.\n",
      "fire name: Empire  fire day: 274  gaps:  3  doesn't have previous one day record.\n",
      "fire name: Empire  fire day: 276  gaps:  2  doesn't have previous one day record.\n",
      "fire name: Empire  fire day: 276  gaps:  2  doesn't have previous one day record.\n",
      "fire name: Empire  fire day: 276  gaps:  2  doesn't have previous one day record.\n",
      "fire name: Empire  fire day: 276  gaps:  2  doesn't have previous one day record.\n",
      "fire name: Empire  fire day: 286  gaps:  2  doesn't have previous one day record.\n",
      "fire name: Empire  fire day: 286  gaps:  2  doesn't have previous one day record.\n",
      "fire name: Empire  fire day: 286  gaps:  2  doesn't have previous one day record.\n",
      "fire name: Empire  fire day: 286  gaps:  2  doesn't have previous one day record.\n",
      "fire name: Empire  fire day: 286  gaps:  2  doesn't have previous one day record.\n",
      "fire name: Empire  fire day: 286  gaps:  2  doesn't have previous one day record.\n",
      "fire name: Empire  fire day: 286  gaps:  2  doesn't have previous one day record.\n",
      "fire name: Empire  fire day: 286  gaps:  2  doesn't have previous one day record.\n",
      "fire name: Empire  fire day: 286  gaps:  2  doesn't have previous one day record.\n",
      "fire name: Empire  fire day: 286  gaps:  2  doesn't have previous one day record.\n",
      "fire name: Empire  fire day: 286  gaps:  2  doesn't have previous one day record.\n",
      "fire name: Empire  fire day: 286  gaps:  2  doesn't have previous one day record.\n",
      "fire name: Empire  fire day: 286  gaps:  2  doesn't have previous one day record.\n"
     ]
    }
   ],
   "source": [
    "vec_lines=all_front_point.apply(generateVectorLine,firedata=all_front_point,ignition=igni,fireline=fireline,axis=1)"
   ]
  },
  {
   "cell_type": "code",
   "execution_count": 256,
   "metadata": {},
   "outputs": [],
   "source": [
    "#write records without previous one day perimeter in a dict\n",
    "prev_day_except={'Aspen':{224:2},\n",
    "                'Empire':{260:2,264:2,266:2,270:4,274:3,276:2,286:2},\n",
    "                'Creekstf':{270:2}}"
   ]
  },
  {
   "cell_type": "code",
   "execution_count": 191,
   "metadata": {},
   "outputs": [],
   "source": [
    "#copy lines\n",
    "all_vec_lines=all_front_point.copy()\n",
    "all_vec_lines['geometry']=vec_lines"
   ]
  },
  {
   "cell_type": "code",
   "execution_count": 201,
   "metadata": {},
   "outputs": [
    {
     "data": {
      "text/plain": [
       "<matplotlib.axes._subplots.AxesSubplot at 0x1a1a9f4afc8>"
      ]
     },
     "execution_count": 201,
     "metadata": {},
     "output_type": "execute_result"
    },
    {
     "data": {
      "image/png": "[encoded data removed]",
      "text/plain": [
       "<Figure size 432x288 with 2 Axes>"
      ]
     },
     "metadata": {
      "needs_background": "light"
     },
     "output_type": "display_data"
    }
   ],
   "source": [
    "all_vec_lines.loc[all_vec_lines['Name']=='Empire',:].plot(column='gridcode',legend=True)"
   ]
  },
  {
   "cell_type": "code",
   "execution_count": 265,
   "metadata": {},
   "outputs": [],
   "source": [
    "all_vec_lines.to_file(r\"./full_progression_1219_vecline_all.shp\", driver='ESRI Shapefile')"
   ]
  },
  {
   "cell_type": "markdown",
   "metadata": {},
   "source": [
    "calculate length and angle for each line"
   ]
  },
  {
   "cell_type": "code",
   "execution_count": 217,
   "metadata": {},
   "outputs": [],
   "source": [
    "all_vec_lines=gpd.read_file(r\"./full_progression_1219_vecline_all.shp\")"
   ]
  },
  {
   "cell_type": "code",
   "execution_count": 234,
   "metadata": {},
   "outputs": [],
   "source": [
    "def line_angle(line):\n",
    "    '''\n",
    "    takes the vector line geometry and calculate the direction of that vector line\n",
    "    args:\n",
    "    line: the geometry of the row in geo pandas\n",
    "    \n",
    "    return angle value in degrees (ranges from -180(0)-180, 0 degree indicates east, 180 indicates west, 90 is north,-90 is south)\n",
    "    '''\n",
    "    \n",
    "    #use math package\n",
    "    import math\n",
    "    \n",
    "    dy=line.coords[1][1]-line.coords[0][1]\n",
    "    dx=line.coords[1][0]-line.coords[0][0]\n",
    "    angle_vec=math.degrees(math.atan2(dy, dx)) #get radiance and convert to degree\n",
    "\n",
    "    #use numpy\n",
    "    #connecting=shapely.geometry.LineString([p1,p2])\n",
    "    #seg = np.array(connecting)\n",
    "    #seg = seg[1] - seg[0]\n",
    "    #angle_mid = np.angle(complex(*(seg)), deg=True)\n",
    "    \n",
    "    return angle_vec"
   ]
  },
  {
   "cell_type": "code",
   "execution_count": 237,
   "metadata": {},
   "outputs": [],
   "source": [
    "#calculate vector line direction\n",
    "all_vec_lines['vec_dir']=all_vec_lines.geometry.apply(line_angle)"
   ]
  },
  {
   "cell_type": "code",
   "execution_count": 239,
   "metadata": {},
   "outputs": [],
   "source": [
    "#calculate vector line length\n",
    "all_vec_lines['vec_len']=all_vec_lines.length"
   ]
  },
  {
   "cell_type": "code",
   "execution_count": 259,
   "metadata": {},
   "outputs": [
    {
     "name": "stdout",
     "output_type": "stream",
     "text": [
      "Aspen\n",
      "Empire\n",
      "Creekstf\n"
     ]
    }
   ],
   "source": [
    "#adjust vector line length according to the dict 'prev_day_except'\n",
    "for key in prev_day_except.keys():\n",
    "    print(key)\n",
    "    for key2 in prev_day_except[key].keys():\n",
    "\n",
    "        all_vec_lines.loc[(all_vec_lines['Name']==key)&(all_vec_lines['gridcode']==key2),'vec_len']=all_vec_lines.loc[(all_vec_lines['Name']==key)&(all_vec_lines['gridcode']==key2),'vec_len']/days\n"
   ]
  },
  {
   "cell_type": "markdown",
   "metadata": {},
   "source": [
    "aggregate to each day for each fire: \n",
    "- use the first day data (for saving and example showing)\n",
    "- use mean value (for direction and vector line length)\n",
    "- use median\n",
    "- use percentile"
   ]
  },
  {
   "cell_type": "code",
   "execution_count": 271,
   "metadata": {},
   "outputs": [],
   "source": [
    "all_vec_lines=all_vec_lines.dissolve(by=['Name','gridcode'],aggfunc='mean').reset_index()"
   ]
  },
  {
   "cell_type": "code",
   "execution_count": 274,
   "metadata": {},
   "outputs": [],
   "source": [
    "all_vec_lines.to_file(r\"./full_progression_1219_vecline_083020.shp\")"
   ]
  },
  {
   "cell_type": "code",
   "execution_count": 216,
   "metadata": {},
   "outputs": [
    {
     "data": {
      "text/plain": [
       "<matplotlib.axes._subplots.AxesSubplot at 0x1a1aa00f7c8>"
      ]
     },
     "execution_count": 216,
     "metadata": {},
     "output_type": "execute_result"
    },
    {
     "data": {
      "image/png": "[encoded data removed]",
      "text/plain": [
       "<Figure size 432x288 with 2 Axes>"
      ]
     },
     "metadata": {
      "needs_background": "light"
     },
     "output_type": "display_data"
    }
   ],
   "source": [
    "all_vec_lines.loc[all_vec_lines['Name']=='Lion',:].plot(column='gridcode',legend=True)"
   ]
  },
  {
   "cell_type": "code",
   "execution_count": null,
   "metadata": {},
   "outputs": [],
   "source": []
  }
 ],
 "metadata": {
  "kernelspec": {
   "display_name": "Python 3",
   "language": "python",
   "name": "python3"
  },
  "language_info": {
   "codemirror_mode": {
    "name": "ipython",
    "version": 3
   },
   "file_extension": ".py",
   "mimetype": "text/x-python",
   "name": "python",
   "nbconvert_exporter": "python",
   "pygments_lexer": "ipython3",
   "version": "3.7.6"
  }
 },
 "nbformat": 4,
 "nbformat_minor": 4
}
