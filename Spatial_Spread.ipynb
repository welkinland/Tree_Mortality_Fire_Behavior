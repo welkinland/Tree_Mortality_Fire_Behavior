{
 "cells": [
  {
   "cell_type": "code",
   "execution_count": 145,
   "metadata": {},
   "outputs": [],
   "source": [
    "import geopandas as gpd\n",
    "import pandas as pd\n",
    "import numpy as np\n",
    "import shapely\n",
    "import math"
   ]
  },
  {
   "cell_type": "code",
   "execution_count": 2,
   "metadata": {},
   "outputs": [],
   "source": [
    "all_line=gpd.read_file(r\"./full_progression_1219_frontline.shp\")"
   ]
  },
  {
   "cell_type": "code",
   "execution_count": 3,
   "metadata": {},
   "outputs": [],
   "source": [
    "def line_segment(profile):\n",
    "    '''\n",
    "    takes one linestring and returns multilinestring with all segments of the line\n",
    "    argument:\n",
    "    profile is one shapely linestring geometry\n",
    "    return:\n",
    "    shapely multilinestring \n",
    "    '''\n",
    "    import shapely.geometry as geom\n",
    "    import geopandas as gpd\n",
    "    splitted = geom.MultiLineString([geom.LineString([profile.coords[i], profile.coords[i+1]]) for i in range(len(profile.coords)-1)])\n",
    "    return splitted"
   ]
  },
  {
   "cell_type": "markdown",
   "metadata": {},
   "source": [
    "apply the line_segment function to each row to convert the long linestring of each daily frontline to multilingstring of line segments"
   ]
  },
  {
   "cell_type": "code",
   "execution_count": 4,
   "metadata": {},
   "outputs": [],
   "source": [
    "#geom_convert=all_line.geometry.apply(line_segment) #when dimension is reduced, axis=1 applys to each row\n",
    "#all_line.geometry=geom_convert\n",
    "#all_line.to_file(r\"./full_progression_1219_frontline_seg.shp\")"
   ]
  },
  {
   "cell_type": "markdown",
   "metadata": {},
   "source": [
    "explode multi-linestring; each line segment will be one observation"
   ]
  },
  {
   "cell_type": "code",
   "execution_count": 33,
   "metadata": {},
   "outputs": [],
   "source": [
    "#new_all_line=all_line.explode()\n",
    "#new_all_line=new_all_line.rename_axis(['old_id','new_id']).reset_index()\n",
    "new_all_line.to_file(r\"./full_progression_1219_frontline_segment.shp\")"
   ]
  },
  {
   "cell_type": "markdown",
   "metadata": {},
   "source": [
    "### Find Nearest Progression Line\n",
    "For each line segment, find the nearest/most possible line segment in the next day as its new location, calculate the displacement as the speed and the direction"
   ]
  },
  {
   "cell_type": "code",
   "execution_count": 52,
   "metadata": {},
   "outputs": [],
   "source": [
    "#simplify the dataset\n",
    "select_col=['old_id', 'new_id', 'FID_Full_p', 'Name', 'gridcode', 'BurnedArea','Year', 'time_perce', 'front_len','geometry']\n",
    "spread_fire=new_all_line[select_col]"
   ]
  },
  {
   "cell_type": "code",
   "execution_count": 47,
   "metadata": {},
   "outputs": [],
   "source": [
    "def mid_dist(line1,line2):\n",
    "    '''\n",
    "    takes two linestrings and calculate their mid-point distance\n",
    "    '''\n",
    "    p1=line1.centroid\n",
    "    dist=p1.distance(line2.centroid)\n",
    "    return dist"
   ]
  },
  {
   "cell_type": "code",
   "execution_count": 191,
   "metadata": {},
   "outputs": [],
   "source": [
    "def middle_angle(line1,line2):\n",
    "    '''\n",
    "    takes two linestrings and calculate the slope of the line connecting their mid-points\n",
    "    the direction is based on line1\n",
    "    return angle value in degrees (ranges from -180(0)-180, 0 degree indicates east, 180 indicates west, 90 is north,-90 is south)\n",
    "    '''\n",
    "    \n",
    "    p1=line1.centroid\n",
    "    p2=line2.centroid\n",
    "    #use math package\n",
    "    dy=p2.coords[0][1]-p1.coords[0][1]\n",
    "    dx=p2.coords[0][0]-p1.coords[0][0]\n",
    "    angle_mid=math.degrees(math.atan2(dy, dx)) #get radiance and convert to degree\n",
    "\n",
    "    #use numpy\n",
    "    #connecting=shapely.geometry.LineString([p1,p2])\n",
    "    #seg = np.array(connecting)\n",
    "    #seg = seg[1] - seg[0]\n",
    "    #angle_mid = np.angle(complex(*(seg)), deg=True)\n",
    "    \n",
    "    return angle_mid"
   ]
  },
  {
   "cell_type": "code",
   "execution_count": 179,
   "metadata": {},
   "outputs": [
    {
     "name": "stdout",
     "output_type": "stream",
     "text": [
      "min dist:  0.0\n",
      "Hausforff dist:  740.9284806814081\n",
      "middle point dist:  457.8505255169644\n",
      "middle point angle 133.6015212726426\n"
     ]
    }
   ],
   "source": [
    "a=spread_fire.geometry[0]\n",
    "b=spread_fire.geometry[1]\n",
    "print('min dist: ',a.distance(b))\n",
    "print('Hausdorff dist: ',a.hausdorff_distance(b))\n",
    "print('middle point dist: ',mid_dist(a,b))\n",
    "print('middle point angle',mid_angle(a,b))\n"
   ]
  },
  {
   "cell_type": "code",
   "execution_count": 45,
   "metadata": {},
   "outputs": [
    {
     "name": "stdout",
     "output_type": "stream",
     "text": [
      "LINESTRING (121338.4572297199 -55379.56288734113, 121034.5822171743 -55381.01092468918)\n",
      "POINT (121186.5197234471 -55380.28690601516)\n"
     ]
    }
   ],
   "source": [
    "print(a.wkt)\n",
    "print(a.centroid)\n",
    "ax="
   ]
  },
  {
   "cell_type": "code",
   "execution_count": 277,
   "metadata": {},
   "outputs": [],
   "source": [
    "def calculate_nearest(line, search,from_line=True):\n",
    "    '''\n",
    "    \n",
    "    takes one lingstring geometry and a set of other linestrings as gpd\n",
    "    calculates the hausdorff distance to find the nearest element, return the hausdorff distance and midpoint distance\n",
    "    \n",
    "    pachages:\n",
    "    numpy, shapely, geopandas\n",
    "    argument:\n",
    "    line: the line to be used to find out its nearest element\n",
    "    search: a set of geometries as geodataframe\n",
    "    from_line: boolean; True: calculate direction/angle from input line to nearest; \n",
    "                        False: calculate direction from nearest to current\n",
    "    \n",
    "    return\n",
    "    hausdorff distance and midpoint distance\n",
    "    '''\n",
    "    \n",
    "    hd_dis_list=[]\n",
    "    #md_dis_list=[]\n",
    "    for row_shape in search.geometry:\n",
    "        hd_dis_list.append(line.hausdorff_distance(row_shape))\n",
    "        #md_dis_list.append(mid_dist(line,row_shape))\n",
    "    hd_dis_list=np.array(hd_dis_list)\n",
    "    hd_dis=min(hd_dis_list)\n",
    "    #drop the original index from gpd to use argmin to find the nearest geometry\n",
    "    nearest=search.geometry.reset_index(drop=True)[np.argmin(hd_dis_list)]\n",
    "    md_dis=mid_dist(line,nearest)\n",
    "    if from_line:\n",
    "        md_ang=middle_angle(line,nearest)\n",
    "    else:\n",
    "        md_ang=middle_angle(nearest,line)\n",
    "    #print('min midpoint: ',min(np.array(md_dis_list)))\n",
    "    #print('min hausdorff: ',line.hausdorff_distance(search.geometry.reset_index(drop=True)[np.argmin(hd_dis_list)]))\n",
    "    #return search.geometry.reset_index(drop=True)[np.argmin(hd_dis_list)],search.geometry.reset_index(drop=True)[np.argmin(md_dis_list)]\n",
    "    \n",
    "    return hd_dis,md_dis,md_ang\n",
    "        \n",
    "    \n",
    "    "
   ]
  },
  {
   "cell_type": "code",
   "execution_count": 181,
   "metadata": {},
   "outputs": [
    {
     "data": {
      "text/plain": [
       "Index(['old_id', 'new_id', 'FID_Full_p', 'Name', 'gridcode', 'BurnedArea',\n",
       "       'Year', 'time_perce', 'front_len', 'geometry', 'hd_dist', 'mid_dist'],\n",
       "      dtype='object')"
      ]
     },
     "execution_count": 181,
     "metadata": {},
     "output_type": "execute_result"
    }
   ],
   "source": [
    "data.columns"
   ]
  },
  {
   "cell_type": "markdown",
   "metadata": {},
   "source": [
    "### Calculate speed and direction to the next day for current fireline"
   ]
  },
  {
   "cell_type": "code",
   "execution_count": 197,
   "metadata": {},
   "outputs": [
    {
     "name": "stdout",
     "output_type": "stream",
     "text": [
      "error occurred at:  Aspen 222 4036 0\n",
      "error occurred at:  Aspen 222 4038 0\n",
      "error occurred at:  Empire 258 15547 0\n",
      "error occurred at:  Empire 258 15548 0\n",
      "error occurred at:  Empire 258 15584 0\n",
      "error occurred at:  Empire 258 15585 0\n",
      "error occurred at:  Empire 258 15629 0\n",
      "error occurred at:  Empire 258 15630 0\n",
      "error occurred at:  Empire 258 15654 0\n",
      "error occurred at:  Empire 262 16144 0\n",
      "error occurred at:  Empire 262 16151 0\n",
      "error occurred at:  Empire 264 16320 0\n",
      "error occurred at:  Empire 264 16320 1\n",
      "error occurred at:  Empire 266 16430 0\n",
      "error occurred at:  Empire 266 16445 0\n",
      "error occurred at:  Empire 266 16446 0\n",
      "error occurred at:  Empire 266 16446 1\n",
      "error occurred at:  Empire 271 16513 0\n",
      "error occurred at:  Empire 271 16514 0\n",
      "error occurred at:  Empire 271 16515 0\n",
      "error occurred at:  Empire 271 16516 0\n",
      "error occurred at:  Empire 274 16538 0\n",
      "error occurred at:  Empire 274 16541 0\n",
      "error occurred at:  Empire 274 16550 0\n",
      "error occurred at:  Empire 284 16777 0\n",
      "error occurred at:  Empire 284 16778 0\n",
      "error occurred at:  Empire 284 16778 1\n",
      "error occurred at:  Empire 284 16778 2\n",
      "error occurred at:  Empire 284 16779 0\n",
      "error occurred at:  Empire 284 16781 0\n",
      "error occurred at:  Empire 284 16786 0\n",
      "error occurred at:  Empire 284 16786 1\n",
      "error occurred at:  Empire 284 16787 0\n",
      "error occurred at:  Empire 284 16788 0\n",
      "error occurred at:  Empire 284 16789 0\n",
      "error occurred at:  Empire 284 16789 1\n",
      "error occurred at:  Empire 284 16789 2\n",
      "error occurred at:  Empire 284 16791 0\n",
      "error occurred at:  Empire 284 16795 0\n",
      "error occurred at:  Empire 284 16797 0\n",
      "error occurred at:  Empire 284 16799 0\n",
      "error occurred at:  Creekstf 268 16488 0\n",
      "error occurred at:  Creekstf 268 16492 0\n",
      "error occurred at:  Creekstf 268 16492 1\n",
      "error occurred at:  Creekstf 268 16492 2\n",
      "error occurred at:  Creekstf 268 16495 0\n",
      "error occurred at:  Creekstf 268 16495 1\n",
      "error occurred at:  Creekstf 268 16498 0\n",
      "error occurred at:  Creekstf 268 16499 0\n"
     ]
    }
   ],
   "source": [
    "#gpd provide distance (min dist) and hausdorff_distance (the max of all min dist between all pairs of points), \n",
    "#use hausdorff as min dist can be misleading and not sensitive to object posision\n",
    "fires=spread_fire.Name.unique()\n",
    "spread_dataset=pd.DataFrame()\n",
    "for fire in fires:\n",
    "    data=spread_fire.loc[spread_fire['Name']==fire,:].copy()\n",
    "    data['hd_dist']=0\n",
    "    data['mid_dist']=0\n",
    "    data['mid_dir']=-999\n",
    "    days=data.gridcode.unique()\n",
    "    duration=len(days)\n",
    "    if duration<=1:\n",
    "        data['hd_dist']=0\n",
    "        data['mid_dist']=0\n",
    "        data['mid_dir']=-999\n",
    "    else:\n",
    "        haus=[]\n",
    "        middle=[]\n",
    "        mid_angle=[]\n",
    "        error_saver=[]\n",
    "        for ind,row in data.iterrows():\n",
    "            try:\n",
    "                if row.gridcode==max(days):\n",
    "                    haus.append(0)\n",
    "                    middle.append(0)\n",
    "                    mid_angle.append(-999)\n",
    "                else:\n",
    "                    line=row.geometry\n",
    "                    search=data.loc[data['gridcode']==row.gridcode+1,:].copy()\n",
    "                    hd_dis,md_dis,md_ang=calculate_nearest(line, search)\n",
    "                    haus.append(hd_dis)\n",
    "                    middle.append(md_dis)\n",
    "                    mid_angle.append(md_ang)\n",
    "            except:\n",
    "                haus.append(0)\n",
    "                middle.append(0)\n",
    "                mid_angle.append(-999)\n",
    "                error_saver.append('error occurred at: '+fire+'  '+str(row.gridcode)+'  '+str(row.old_id)+'  '+str(row.new_id))\n",
    "                print('error occurred at: ',fire,row.gridcode,row.old_id,row.new_id)\n",
    "        data['hd_dist']=haus\n",
    "        data['mid_dist']=middle\n",
    "        data['mid_dir']=mid_angle\n",
    "    spread_dataset=pd.concat([spread_dataset,data],axis=0)\n",
    "    #print('complete calculation for: ',fire)\n",
    "        \n",
    "        "
   ]
  },
  {
   "cell_type": "markdown",
   "metadata": {},
   "source": [
    "### Modify fire spread with errors\n",
    "Aspen, Empire,Creekstf"
   ]
  },
  {
   "cell_type": "markdown",
   "metadata": {},
   "source": [
    "Aspen"
   ]
  },
  {
   "cell_type": "code",
   "execution_count": 288,
   "metadata": {},
   "outputs": [],
   "source": [
    "backup=spread_dataset"
   ]
  },
  {
   "cell_type": "code",
   "execution_count": 225,
   "metadata": {},
   "outputs": [],
   "source": [
    "data=spread_dataset.loc[spread_dataset['Name']=='Aspen',:].copy()"
   ]
  },
  {
   "cell_type": "code",
   "execution_count": 227,
   "metadata": {},
   "outputs": [],
   "source": [
    "select=data.loc[data['gridcode']==222,:].copy()"
   ]
  },
  {
   "cell_type": "code",
   "execution_count": 231,
   "metadata": {},
   "outputs": [],
   "source": [
    "days=data.gridcode.unique()"
   ]
  },
  {
   "cell_type": "code",
   "execution_count": 248,
   "metadata": {},
   "outputs": [],
   "source": [
    "for ind, row in select.iterrows():\n",
    "    line=row.geometry\n",
    "    day_ind=np.where(days==222)[0][0]\n",
    "    search=data.loc[data['gridcode']==days[day_ind+1],:].copy()\n",
    "    hd_dis,md_dis,md_ang=calculate_nearest(line, search)\n",
    "    spread_dataset.loc[ind,'hd_dist']=hd_dis/(days[day_ind+1]-222)\n",
    "    spread_dataset.loc[ind,'mid_dist']=md_dis/(days[day_ind+1]-222)\n",
    "    spread_dataset.loc[ind,'mid_dir']=md_ang"
   ]
  },
  {
   "cell_type": "markdown",
   "metadata": {},
   "source": [
    "Creekstf"
   ]
  },
  {
   "cell_type": "code",
   "execution_count": 260,
   "metadata": {},
   "outputs": [],
   "source": [
    "data=spread_dataset.loc[spread_dataset['Name']=='Creekstf',:].copy()\n",
    "select=data.loc[data['gridcode']==268,:].copy()"
   ]
  },
  {
   "cell_type": "code",
   "execution_count": 261,
   "metadata": {},
   "outputs": [],
   "source": [
    "days=data.gridcode.unique()"
   ]
  },
  {
   "cell_type": "code",
   "execution_count": 262,
   "metadata": {},
   "outputs": [],
   "source": [
    "for ind, row in select.iterrows():\n",
    "    line=row.geometry\n",
    "    day_ind=np.where(days==268)[0][0]\n",
    "    search=data.loc[data['gridcode']==days[day_ind+1],:].copy()\n",
    "    hd_dis,md_dis,md_ang=calculate_nearest(line, search)\n",
    "    spread_dataset.loc[ind,'hd_dist']=hd_dis/(days[day_ind+1]-268)\n",
    "    spread_dataset.loc[ind,'mid_dist']=md_dis/(days[day_ind+1]-268)\n",
    "    spread_dataset.loc[ind,'mid_dir']=md_ang"
   ]
  },
  {
   "cell_type": "markdown",
   "metadata": {},
   "source": [
    "Empire"
   ]
  },
  {
   "cell_type": "code",
   "execution_count": 264,
   "metadata": {},
   "outputs": [],
   "source": [
    "data=spread_dataset.loc[spread_dataset['Name']=='Empire',:].copy()"
   ]
  },
  {
   "cell_type": "code",
   "execution_count": 268,
   "metadata": {},
   "outputs": [],
   "source": [
    "missing=[258, 262, 264, 266, 271,274,284]"
   ]
  },
  {
   "cell_type": "code",
   "execution_count": 269,
   "metadata": {},
   "outputs": [],
   "source": [
    "select=data.loc[data['gridcode'].isin(missing),:].copy()"
   ]
  },
  {
   "cell_type": "code",
   "execution_count": 270,
   "metadata": {},
   "outputs": [],
   "source": [
    "days=data.gridcode.unique()"
   ]
  },
  {
   "cell_type": "code",
   "execution_count": 275,
   "metadata": {},
   "outputs": [],
   "source": [
    "for ind, row in select.iterrows():\n",
    "    line=row.geometry\n",
    "    day_ind=np.where(days==row.gridcode)[0][0]\n",
    "    search=data.loc[data['gridcode']==days[day_ind+1],:].copy()\n",
    "    hd_dis,md_dis,md_ang=calculate_nearest(line, search)\n",
    "    spread_dataset.loc[ind,'hd_dist']=hd_dis/(days[day_ind+1]-row.gridcode)\n",
    "    spread_dataset.loc[ind,'mid_dist']=md_dis/(days[day_ind+1]-row.gridcode)\n",
    "    spread_dataset.loc[ind,'mid_dir']=md_ang"
   ]
  },
  {
   "cell_type": "markdown",
   "metadata": {},
   "source": [
    "### Calculate speed and direction from the previous day for current fireline"
   ]
  },
  {
   "cell_type": "code",
   "execution_count": 292,
   "metadata": {},
   "outputs": [],
   "source": [
    "#spread_fire=spread_dataset\n",
    "#gpd provide distance (min dist) and hausdorff_distance (the max of all min dist between all pairs of points), \n",
    "#use hausdorff as min dist can be misleading and not sensitive to object posision\n",
    "fires=spread_fire.Name.unique()\n",
    "spread_dataset=pd.DataFrame()\n",
    "for fire in fires:\n",
    "    data=spread_fire.loc[spread_fire['Name']==fire,:].copy()\n",
    "    data['hd_dist_pre']=0\n",
    "    data['mid_dist_pre']=0\n",
    "    data['mid_dir_pre']=-999\n",
    "    days=data.gridcode.unique()\n",
    "    duration=len(days)\n",
    "    if duration<=1:\n",
    "        data['hd_dist_pre']=0\n",
    "        data['mid_dist_pre']=0\n",
    "        data['mid_dir_pre']=-999\n",
    "    else:\n",
    "        haus=[]\n",
    "        middle=[]\n",
    "        mid_angle=[]\n",
    "        error_saver=[]\n",
    "        for ind,row in data.iterrows():\n",
    "            try:\n",
    "                if row.gridcode==min(days):\n",
    "                    haus.append(0)\n",
    "                    middle.append(0)\n",
    "                    mid_angle.append(-999)\n",
    "                else:\n",
    "                    line=row.geometry\n",
    "                    day_ind=np.where(days==row.gridcode)[0][0]\n",
    "                    search=data.loc[data['gridcode']==days[day_ind-1],:].copy()\n",
    "                    hd_dis,md_dis,md_ang=calculate_nearest(line, search,from_line=False)\n",
    "                    haus.append(hd_dis/(row.gridcode-days[day_ind-1]))\n",
    "                    middle.append(md_dis/(row.gridcode-days[day_ind-1]))\n",
    "                    mid_angle.append(md_ang)\n",
    "            except:\n",
    "                haus.append(0)\n",
    "                middle.append(0)\n",
    "                mid_angle.append(-999)\n",
    "                error_saver.append('error occurred at: '+fire+'  '+str(row.gridcode)+'  '+str(row.old_id)+'  '+str(row.new_id))\n",
    "                print('error occurred at: ',fire,row.gridcode,row.old_id,row.new_id)\n",
    "        data['hd_dist_pre']=haus\n",
    "        data['mid_dist_pre']=middle\n",
    "        data['mid_dir_pre']=mid_angle\n",
    "    spread_dataset=pd.concat([spread_dataset,data],axis=0)\n",
    "    #print('complete calculation for: ',fire)\n",
    "        \n",
    "        "
   ]
  },
  {
   "cell_type": "code",
   "execution_count": 294,
   "metadata": {},
   "outputs": [
    {
     "name": "stderr",
     "output_type": "stream",
     "text": [
      "WARNING:fiona._env:Normalized/laundered field name: 'hd_dist_pre' to 'hd_dist_pr'\n",
      "WARNING:fiona._env:Normalized/laundered field name: 'mid_dist_pre' to 'mid_dist_p'\n",
      "WARNING:fiona._env:Normalized/laundered field name: 'mid_dir_pre' to 'mid_dir_pr'\n"
     ]
    }
   ],
   "source": [
    "#spread_dataset\n",
    "spread_dataset.to_file(r\"./full_progression_1219_fireline_spread.shp\")"
   ]
  },
  {
   "cell_type": "markdown",
   "metadata": {},
   "source": [
    "### Example Maps"
   ]
  },
  {
   "cell_type": "code",
   "execution_count": 302,
   "metadata": {},
   "outputs": [
    {
     "data": {
      "text/plain": [
       "Index(['old_id', 'new_id', 'FID_Full_p', 'Name', 'gridcode', 'BurnedArea',\n",
       "       'Year', 'time_perce', 'front_len', 'geometry', 'hd_dist', 'mid_dist',\n",
       "       'mid_dir', 'hd_dist_pre', 'mid_dist_pre', 'mid_dir_pre'],\n",
       "      dtype='object')"
      ]
     },
     "execution_count": 302,
     "metadata": {},
     "output_type": "execute_result"
    }
   ],
   "source": [
    "spread_dataset.columns"
   ]
  },
  {
   "cell_type": "code",
   "execution_count": 303,
   "metadata": {},
   "outputs": [],
   "source": [
    "backup=spread_dataset\n",
    "backup.loc[backup['mid_dir']==-999,'mid_dir']=np.nan\n",
    "backup.loc[backup['mid_dir_pre']==-999,'mid_dir_pre']=np.nan"
   ]
  },
  {
   "cell_type": "code",
   "execution_count": 304,
   "metadata": {},
   "outputs": [],
   "source": [
    "pier=backup.loc[backup['Name']=='Pier',:]\n",
    "lion=backup.loc[backup['Name']=='Lion',:]"
   ]
  },
  {
   "cell_type": "code",
   "execution_count": 305,
   "metadata": {},
   "outputs": [
    {
     "data": {
      "text/plain": [
       "<matplotlib.axes._subplots.AxesSubplot at 0x24ffe73e488>"
      ]
     },
     "execution_count": 305,
     "metadata": {},
     "output_type": "execute_result"
    },
    {
     "data": {
      "image/png": "[encoded data removed]",
      "text/plain": [
       "<Figure size 432x288 with 1 Axes>"
      ]
     },
     "metadata": {
      "needs_background": "light"
     },
     "output_type": "display_data"
    }
   ],
   "source": [
    "lion.plot(column='mid_dir',missing_kwds={'color': 'lightgrey'})"
   ]
  },
  {
   "cell_type": "code",
   "execution_count": 306,
   "metadata": {},
   "outputs": [
    {
     "data": {
      "text/plain": [
       "<matplotlib.axes._subplots.AxesSubplot at 0x24ffe774ac8>"
      ]
     },
     "execution_count": 306,
     "metadata": {},
     "output_type": "execute_result"
    },
    {
     "data": {
      "image/png": "[encoded data removed]",
      "text/plain": [
       "<Figure size 432x288 with 1 Axes>"
      ]
     },
     "metadata": {
      "needs_background": "light"
     },
     "output_type": "display_data"
    }
   ],
   "source": [
    "lion.plot(column='mid_dir_pre',missing_kwds={'color': 'lightgrey'})"
   ]
  },
  {
   "cell_type": "code",
   "execution_count": null,
   "metadata": {},
   "outputs": [],
   "source": []
  }
 ],
 "metadata": {
  "kernelspec": {
   "display_name": "Python 3",
   "language": "python",
   "name": "python3"
  },
  "language_info": {
   "codemirror_mode": {
    "name": "ipython",
    "version": 3
   },
   "file_extension": ".py",
   "mimetype": "text/x-python",
   "name": "python",
   "nbconvert_exporter": "python",
   "pygments_lexer": "ipython3",
   "version": "3.7.6"
  }
 },
 "nbformat": 4,
 "nbformat_minor": 4
}
