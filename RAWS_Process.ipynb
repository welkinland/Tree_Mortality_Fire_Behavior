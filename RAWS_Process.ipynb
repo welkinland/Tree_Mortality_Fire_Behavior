{
 "cells": [
  {
   "cell_type": "markdown",
   "metadata": {
    "colab_type": "text",
    "id": "IH6QCa96ALU0"
   },
   "source": [
    "# Weather Stations & Fire Spread\n"
   ]
  },
  {
   "cell_type": "markdown",
   "metadata": {
    "colab_type": "text",
    "id": "bieUcvntAQAT"
   },
   "source": [
    "## Setup"
   ]
  },
  {
   "cell_type": "code",
   "execution_count": null,
   "metadata": {
    "colab": {
     "base_uri": "https://localhost:8080/",
     "height": 51
    },
    "colab_type": "code",
    "id": "0y7vi9sxAPER",
    "outputId": "8b26070e-4e12-4c0e-97a4-acb80fda9894"
   },
   "outputs": [
    {
     "name": "stdout",
     "output_type": "stream",
     "text": [
      "/content/drive\n",
      "Drive already mounted at /content/drive; to attempt to forcibly remount, call drive.mount(\"/content/drive\", force_remount=True).\n"
     ]
    }
   ],
   "source": [
    "from google.colab import drive # import drive from google colab\n",
    "ROOT = \"/content/drive\"     # default location for the drive\n",
    "print(ROOT)                 # print content of ROOT (Optional)\n",
    "\n",
    "drive.mount(ROOT)           # we mount the google drive at /content/drive"
   ]
  },
  {
   "cell_type": "code",
   "execution_count": null,
   "metadata": {
    "colab": {
     "base_uri": "https://localhost:8080/",
     "height": 34
    },
    "colab_type": "code",
    "id": "xq_Kr7lpARKR",
    "outputId": "449c621a-bda5-42ab-fe96-f90afbf1bfea"
   },
   "outputs": [
    {
     "name": "stdout",
     "output_type": "stream",
     "text": [
      "/content/drive/My Drive/FireDrivers_Paper\n"
     ]
    }
   ],
   "source": [
    "%cd \"/content/drive/My Drive/FireDrivers_Paper\" \n",
    "\n",
    "import os\n",
    "rootPath = \"/content/drive/My Drive/FireDrivers_Paper/WeatherStation_FireSpread\"\n",
    "os.chdir(rootPath)"
   ]
  },
  {
   "cell_type": "code",
   "execution_count": null,
   "metadata": {
    "colab": {
     "base_uri": "https://localhost:8080/",
     "height": 68
    },
    "colab_type": "code",
    "id": "O2ivMvyhBBq8",
    "outputId": "b9729366-1268-48a0-b64e-bd81d98c19ef"
   },
   "outputs": [
    {
     "name": "stdout",
     "output_type": "stream",
     "text": [
      "Your runtime has 27.4 gigabytes of available RAM\n",
      "\n",
      "You are using a high-RAM runtime!\n"
     ]
    }
   ],
   "source": [
    "from psutil import virtual_memory\n",
    "ram_gb = virtual_memory().total / 1e9\n",
    "print('Your runtime has {:.1f} gigabytes of available RAM\\n'.format(ram_gb))\n",
    "\n",
    "if ram_gb < 20:\n",
    "  print('To enable a high-RAM runtime, select the Runtime > \"Change runtime type\"')\n",
    "  print('menu, and then select High-RAM in the Runtime shape dropdown. Then, ')\n",
    "  print('re-execute this cell.')\n",
    "else:\n",
    "  print('You are using a high-RAM runtime!')"
   ]
  },
  {
   "cell_type": "code",
   "execution_count": null,
   "metadata": {
    "colab": {
     "base_uri": "https://localhost:8080/",
     "height": 34
    },
    "colab_type": "code",
    "id": "s7m6H-jfBSO8",
    "outputId": "fecb291e-18e7-4aad-e658-f1687f92e6c6"
   },
   "outputs": [
    {
     "name": "stdout",
     "output_type": "stream",
     "text": [
      "MemTotal:       26751672 kB\n"
     ]
    }
   ],
   "source": [
    "!grep MemTotal /proc/meminfo"
   ]
  },
  {
   "cell_type": "code",
   "execution_count": null,
   "metadata": {
    "colab": {},
    "colab_type": "code",
    "id": "QdwPChD2Bkqy"
   },
   "outputs": [],
   "source": [
    "%%time \n",
    "\n",
    "# Important library for many geopython libraries\n",
    "!apt install gdal-bin python-gdal python3-gdal \n",
    "# Install rtree - Geopandas requirment\n",
    "!apt install python3-rtree \n",
    "# Install Geopandas\n",
    "!pip install git+git://github.com/geopandas/geopandas.git\n",
    "# Install descartes - Geopandas requirment\n",
    "!pip install descartes \n",
    "# Install Folium for Geographic data visualization\n",
    "!pip install folium\n",
    "# Install plotlyExpress\n",
    "!pip install plotly_express"
   ]
  },
  {
   "cell_type": "code",
   "execution_count": null,
   "metadata": {
    "colab": {},
    "colab_type": "code",
    "id": "4Htx69XjBpvB"
   },
   "outputs": [],
   "source": [
    "import pandas as pd\n",
    "import numpy as np\n",
    "import geopandas as gpd\n",
    "from shapely.geometry import Point\n",
    "import matplotlib\n",
    "import matplotlib.pyplot as plt \n",
    "import folium\n",
    "import rtree"
   ]
  },
  {
   "cell_type": "code",
   "execution_count": null,
   "metadata": {
    "colab": {},
    "colab_type": "code",
    "id": "txvUgbaHupEm"
   },
   "outputs": [],
   "source": [
    "import requests\n",
    "import os\n",
    "import re\n",
    "import lxml.html as lh\n",
    "from requests import get\n",
    "from requests.exceptions import RequestException\n",
    "from contextlib import closing\n",
    "from bs4 import BeautifulSoup\n",
    "from urllib.request import urlopen"
   ]
  },
  {
   "cell_type": "code",
   "execution_count": null,
   "metadata": {
    "colab": {},
    "colab_type": "code",
    "id": "l1164De7CFDt"
   },
   "outputs": [],
   "source": [
    "def lstFiles(rootPath, ext):\n",
    "  '''\n",
    "  retrieve file path + names based on extension\n",
    "  '''\n",
    "  file_list = []\n",
    "  root = rootPath\n",
    "  for path, subdirs, files in os.walk(root):\n",
    "      for names in files: \n",
    "          if names.endswith(ext):\n",
    "              file_list.append(os.path.join(path,names))\n",
    "  return(file_list)\n",
    "\n",
    "def createFolder(rootPath, folderName): \n",
    "  '''\n",
    "  Create new folder in root path \n",
    "  '''\n",
    "  folderPath = os.path.join(rootPath, folderName) \n",
    "  if not os.path.exists(folderPath):\n",
    "      os.makedirs(folderPath)\n",
    "  return folderPath "
   ]
  },
  {
   "cell_type": "markdown",
   "metadata": {
    "colab_type": "text",
    "id": "wHQv0JG-vgI2"
   },
   "source": [
    "## Obtain RAWS Station Info"
   ]
  },
  {
   "cell_type": "code",
   "execution_count": null,
   "metadata": {
    "colab": {},
    "colab_type": "code",
    "id": "rQy6HfWMupEt",
    "scrolled": true
   },
   "outputs": [],
   "source": [
    "import re\n",
    "\n",
    "stationName = [] \n",
    "stationAbbrv = [] \n",
    "mainURL = [] \n",
    "lat = [] \n",
    "long = [] \n",
    "startYr = [] \n",
    "endYr = [] \n",
    "\n",
    "# Station Name, Code, url, lat/long \n",
    "# find latest, earliest dates (Year, Month) for each station \n",
    "RegionList = [\"ncalst\", \"ccalst\", \"scalst\"]\n",
    "root = \"https://wrcc.dri.edu/\"\n",
    "for region in RegionList: \n",
    "    # https://wrcc.dri.edu/cgi-bin/rawMAIN.pl?nvNBLU\n",
    "    # https://wrcc.dri.edu/cgi-bin/rawNAME.pl?nvNBLU\n",
    "    # https://wrcc.dri.edu/cgi-bin/wea_info.pl?nvNBLU\n",
    "    url = 'https://wrcc.dri.edu/wraws/'+ str(region) +'.html'\n",
    "    html= urlopen(url)\n",
    "    soup = BeautifulSoup(html,\"lxml\")\n",
    "    text = soup.get_text()\n",
    "    for text in soup.find_all('a', href=True):\n",
    "        #print(text)\n",
    "        binURL = re.search('href=\"(.*)\" onmouseout=', str(text))\n",
    "        result = re.search(\"> (.*)California </a>\", str(text))\n",
    "        if result is not None and binURL.group(1)[-3:] not in stationName:\n",
    "            try: \n",
    "                #print(result.group(1), binURL.group(1), binURL.group(1)[-3:])\n",
    "                dates = binURL.group(1).replace(\"rawMAIN\", \"rawNAME\", 1)\n",
    "                info = binURL.group(1).replace(\"rawMAIN\", \"wea_info\", 1)\n",
    "                datesURL = root + dates \n",
    "                infoURL =  root + info \n",
    "                #print(datesURL, infoURL)\n",
    "                # get start/end dates \n",
    "                dateHtml= urlopen(datesURL)\n",
    "                dateSoup = BeautifulSoup(dateHtml)\n",
    "                #paragraphs = dateSoup.find_all('b')\n",
    "                paragraphs = dateSoup.get_text()\n",
    "                yrs = [int(s) for s in paragraphs.split() if s.isdigit() and len(s) == 4]\n",
    "                #print(yrs[0], yrs[-1])\n",
    "                #print(paragraphs)\n",
    "                #Lat = re.search('<td><font color=\"#ff0000\"> <b> (.*) </b>', str(paragraphs))\n",
    "                datetext = dateSoup.get_text()\n",
    "                infoHtml= urlopen(infoURL)\n",
    "                infoSoup = BeautifulSoup(infoHtml)\n",
    "                infotext = infoSoup.get_text()\n",
    "                latMark = infotext.find('°') \n",
    "                latitude = infotext[latMark - 2 : latMark + 8]\n",
    "                #print(latMark, infotext[latMark - 2 : latMark + 8])\n",
    "                i = infotext.index('°')\n",
    "                longMark = infotext.index('°', i + 1)\n",
    "                #print(longMark, infotext[longMark - 3 : longMark + 8])\n",
    "                longitude = infotext[longMark - 3 : longMark + 8]\n",
    "                # append values to empty list \n",
    "                endYr.append(yrs[0])\n",
    "                startYr.append(yrs[-1])\n",
    "                lat.append(latitude)\n",
    "                long.append(longitude)\n",
    "                stationName.append(result.group(1))\n",
    "                stationAbbrv.append(binURL.group(1)[-3:])\n",
    "                mainURL.append(binURL.group(1))\n",
    "            except: \n",
    "                continue\n",
    "            \n",
    "            \n"
   ]
  },
  {
   "cell_type": "code",
   "execution_count": null,
   "metadata": {
    "colab": {},
    "colab_type": "code",
    "id": "OpaUF9-GupEv",
    "scrolled": true
   },
   "outputs": [],
   "source": [
    "RAWSInfoDF = pd.DataFrame({'Station': stationName, 'Abbrv': stationAbbrv, \n",
    "                          'URL': mainURL, 'latitude' : lat, 'longitude' : long,\n",
    "                          'Start Year' : startYr, 'End Year' : endYr})"
   ]
  },
  {
   "cell_type": "code",
   "execution_count": null,
   "metadata": {
    "colab": {},
    "colab_type": "code",
    "id": "lPgFFJ6fupEz"
   },
   "outputs": [],
   "source": [
    "# save df into csv \n",
    "outpath = 'data/RAWS/Raws_Info.csv'\n",
    "RAWSInfoDF.to_csv(outpath, sep=',')"
   ]
  },
  {
   "cell_type": "code",
   "execution_count": null,
   "metadata": {
    "colab": {},
    "colab_type": "code",
    "id": "vAkl63QdupE1"
   },
   "outputs": [],
   "source": [
    "# convert degrees to actual coordinate values \n",
    "\n",
    "import numpy as np\n",
    "RAWSInfoDF = pd.read_csv(outpath, sep=',')\n",
    "RAWSInfoDF = RAWSInfoDF.drop(columns=['Unnamed: 0'])\n",
    "RAWSInfoDF['latitude'] = (RAWSInfoDF['latitude'] + '.00\"N')\n",
    "RAWSInfoDF['longitude'] = (RAWSInfoDF['longitude'] + '.00\"W')\n",
    "RAWSInfoDF\n",
    "\n",
    "import re\n",
    "\n",
    "def dms2dd(degrees, minutes, seconds, direction):\n",
    "    dd = float(degrees) + float(minutes)/60 + float(seconds)/(60*60);\n",
    "    if direction == 'W' or direction == 'N':\n",
    "        dd *= -1\n",
    "    return dd;\n",
    "\n",
    "def dd2dms(deg):\n",
    "    d = int(deg)\n",
    "    md = abs(deg - d) * 60\n",
    "    m = int(md)\n",
    "    sd = (md - m) * 60\n",
    "    return [d, m, sd]\n",
    "\n",
    "def parse_dms(dms):\n",
    "    parts = re.split('[^\\d\\w]+', dms)\n",
    "    lat = dms2dd(parts[0], parts[1], parts[2], parts[3])\n",
    "\n",
    "    return (lat)"
   ]
  },
  {
   "cell_type": "code",
   "execution_count": null,
   "metadata": {
    "colab": {
     "base_uri": "https://localhost:8080/",
     "height": 419
    },
    "colab_type": "code",
    "id": "lukf9f6rCjh5",
    "outputId": "f19f4242-8999-46ae-8a38-51ec2911d35e"
   },
   "outputs": [
    {
     "data": {
      "text/html": [
       "<div>\n",
       "<style scoped>\n",
       "    .dataframe tbody tr th:only-of-type {\n",
       "        vertical-align: middle;\n",
       "    }\n",
       "\n",
       "    .dataframe tbody tr th {\n",
       "        vertical-align: top;\n",
       "    }\n",
       "\n",
       "    .dataframe thead th {\n",
       "        text-align: right;\n",
       "    }\n",
       "</style>\n",
       "<table border=\"1\" class=\"dataframe\">\n",
       "  <thead>\n",
       "    <tr style=\"text-align: right;\">\n",
       "      <th></th>\n",
       "      <th>Station</th>\n",
       "      <th>Abbrv</th>\n",
       "      <th>URL</th>\n",
       "      <th>latitude</th>\n",
       "      <th>longitude</th>\n",
       "      <th>Start Year</th>\n",
       "      <th>End Year</th>\n",
       "      <th>decimal_Lat</th>\n",
       "      <th>decimal_Long</th>\n",
       "    </tr>\n",
       "  </thead>\n",
       "  <tbody>\n",
       "    <tr>\n",
       "      <th>0</th>\n",
       "      <td>Arbuckle Basin</td>\n",
       "      <td>ABS</td>\n",
       "      <td>/cgi-bin/rawMAIN.pl?caCABS</td>\n",
       "      <td>40° 23' 54.00\"N</td>\n",
       "      <td>122° 50' 00.00\"W</td>\n",
       "      <td>1995</td>\n",
       "      <td>2020</td>\n",
       "      <td>40.398333</td>\n",
       "      <td>-122.833333</td>\n",
       "    </tr>\n",
       "    <tr>\n",
       "      <th>1</th>\n",
       "      <td>Alder Springs</td>\n",
       "      <td>ALD</td>\n",
       "      <td>/cgi-bin/rawMAIN.pl?caCALD</td>\n",
       "      <td>39° 39' 05.00\"N</td>\n",
       "      <td>122° 43' 25.00\"W</td>\n",
       "      <td>1994</td>\n",
       "      <td>2020</td>\n",
       "      <td>39.651389</td>\n",
       "      <td>-122.723611</td>\n",
       "    </tr>\n",
       "    <tr>\n",
       "      <th>2</th>\n",
       "      <td>Alder Point</td>\n",
       "      <td>APT</td>\n",
       "      <td>/cgi-bin/rawMAIN.pl?caCAPT</td>\n",
       "      <td>40° 11' 12.00\"N</td>\n",
       "      <td>123° 35' 25.00\"W</td>\n",
       "      <td>1991</td>\n",
       "      <td>2020</td>\n",
       "      <td>40.186667</td>\n",
       "      <td>-123.590278</td>\n",
       "    </tr>\n",
       "    <tr>\n",
       "      <th>3</th>\n",
       "      <td>Ash Creek</td>\n",
       "      <td>ASC</td>\n",
       "      <td>/cgi-bin/rawMAIN.pl?caCASC</td>\n",
       "      <td>41° 16' 37.00\"N</td>\n",
       "      <td>121° 58' 46.00\"W</td>\n",
       "      <td>1989</td>\n",
       "      <td>2020</td>\n",
       "      <td>41.276944</td>\n",
       "      <td>-121.979444</td>\n",
       "    </tr>\n",
       "    <tr>\n",
       "      <th>4</th>\n",
       "      <td>Ash Valley</td>\n",
       "      <td>ASH</td>\n",
       "      <td>/cgi-bin/rawMAIN.pl?caCASH</td>\n",
       "      <td>41° 03' 07.00\"N</td>\n",
       "      <td>120° 41' 10.00\"W</td>\n",
       "      <td>1991</td>\n",
       "      <td>2014</td>\n",
       "      <td>41.051944</td>\n",
       "      <td>-120.686111</td>\n",
       "    </tr>\n",
       "    <tr>\n",
       "      <th>...</th>\n",
       "      <td>...</td>\n",
       "      <td>...</td>\n",
       "      <td>...</td>\n",
       "      <td>...</td>\n",
       "      <td>...</td>\n",
       "      <td>...</td>\n",
       "      <td>...</td>\n",
       "      <td>...</td>\n",
       "      <td>...</td>\n",
       "    </tr>\n",
       "    <tr>\n",
       "      <th>686</th>\n",
       "      <td>Wofford Heights</td>\n",
       "      <td>WOF</td>\n",
       "      <td>/cgi-bin/rawMAIN.pl?caCWOF</td>\n",
       "      <td>35° 43' 18.00\"N</td>\n",
       "      <td>118° 29' 56.00\"W</td>\n",
       "      <td>1997</td>\n",
       "      <td>2020</td>\n",
       "      <td>35.721667</td>\n",
       "      <td>-118.498889</td>\n",
       "    </tr>\n",
       "    <tr>\n",
       "      <th>687</th>\n",
       "      <td>Wolverton</td>\n",
       "      <td>WOL</td>\n",
       "      <td>/cgi-bin/rawMAIN.pl?caCWOL</td>\n",
       "      <td>36° 26' 42.00\"N</td>\n",
       "      <td>118° 42' 12.00\"W</td>\n",
       "      <td>1996</td>\n",
       "      <td>2020</td>\n",
       "      <td>36.445000</td>\n",
       "      <td>-118.703333</td>\n",
       "    </tr>\n",
       "    <tr>\n",
       "      <th>688</th>\n",
       "      <td>Whitaker Peak</td>\n",
       "      <td>WPK</td>\n",
       "      <td>/cgi-bin/rawMAIN.pl?caCWPK</td>\n",
       "      <td>34° 34' 07.00\"N</td>\n",
       "      <td>118° 44' 25.00\"W</td>\n",
       "      <td>1999</td>\n",
       "      <td>2020</td>\n",
       "      <td>34.568611</td>\n",
       "      <td>-118.740278</td>\n",
       "    </tr>\n",
       "    <tr>\n",
       "      <th>689</th>\n",
       "      <td>Walker Passe</td>\n",
       "      <td>WPS</td>\n",
       "      <td>/cgi-bin/rawMAIN.pl?caCWPS</td>\n",
       "      <td>35° 39' 45.00\"N</td>\n",
       "      <td>118° 01' 32.00\"W</td>\n",
       "      <td>2005</td>\n",
       "      <td>2020</td>\n",
       "      <td>35.662500</td>\n",
       "      <td>-118.025556</td>\n",
       "    </tr>\n",
       "    <tr>\n",
       "      <th>690</th>\n",
       "      <td>Yucca Valley</td>\n",
       "      <td>YUC</td>\n",
       "      <td>/cgi-bin/rawMAIN.pl?caCYUC</td>\n",
       "      <td>34° 07' 24.00\"N</td>\n",
       "      <td>116° 24' 28.00\"W</td>\n",
       "      <td>1990</td>\n",
       "      <td>2020</td>\n",
       "      <td>34.123333</td>\n",
       "      <td>-116.407778</td>\n",
       "    </tr>\n",
       "  </tbody>\n",
       "</table>\n",
       "<p>691 rows × 9 columns</p>\n",
       "</div>"
      ],
      "text/plain": [
       "                  Station Abbrv  ... decimal_Lat decimal_Long\n",
       "0         Arbuckle Basin    ABS  ...   40.398333  -122.833333\n",
       "1    Alder Springs          ALD  ...   39.651389  -122.723611\n",
       "2            Alder Point    APT  ...   40.186667  -123.590278\n",
       "3             Ash Creek     ASC  ...   41.276944  -121.979444\n",
       "4    Ash Valley             ASH  ...   41.051944  -120.686111\n",
       "..                    ...   ...  ...         ...          ...\n",
       "686     Wofford Heights     WOF  ...   35.721667  -118.498889\n",
       "687           Wolverton     WOL  ...   36.445000  -118.703333\n",
       "688       Whitaker Peak     WPK  ...   34.568611  -118.740278\n",
       "689        Walker Passe     WPS  ...   35.662500  -118.025556\n",
       "690         Yucca Valley    YUC  ...   34.123333  -116.407778\n",
       "\n",
       "[691 rows x 9 columns]"
      ]
     },
     "execution_count": 26,
     "metadata": {
      "tags": []
     },
     "output_type": "execute_result"
    }
   ],
   "source": [
    "#dd = parse_dms(\"78°55'44.33324\"N )\n",
    "\n",
    "decimal_Lat = [] \n",
    "decimal_Long = [] \n",
    "for index, row in RAWSInfoDF.iterrows():\n",
    "    decimal_Lat.append(parse_dms(row[3]))\n",
    "    decimal_Long.append(-1 * parse_dms(row[4]))\n",
    "    #print(parse_dms(row[6]), -1 * parse_dms(row[7]))\n",
    "\n",
    "RAWSInfoDF[\"decimal_Lat\"] = decimal_Lat\n",
    "RAWSInfoDF[\"decimal_Long\"] = decimal_Long\n",
    "RAWSInfoDF"
   ]
  },
  {
   "cell_type": "code",
   "execution_count": null,
   "metadata": {
    "colab": {},
    "colab_type": "code",
    "id": "JPb5epyJupE4"
   },
   "outputs": [],
   "source": [
    "# if end Year is less than 2000 then drop \n",
    "RAWSInfoDF.columns = RAWSInfoDF.columns.str.strip().str.lower().str.replace(' ', '_').str.replace('(', '').str.replace(')', '')\n",
    "RAWSInfoDF = RAWSInfoDF[RAWSInfoDF.end_year > 2000].reset_index(drop=True)\n",
    "#RAWSInfoDF = RAWSInfoDF.drop(columns=['level_0', 'index', 'unnamed:_0'])\n",
    "#replace with new df \n",
    "outpath = 'data/RAWS/Raws_Info.csv'\n",
    "RAWSInfoDF.to_csv(outpath, sep=',')\n",
    "RAWSInfoDF"
   ]
  },
  {
   "cell_type": "markdown",
   "metadata": {
    "colab_type": "text",
    "id": "eiGM1HOP0vg2"
   },
   "source": [
    "## Read-in Data"
   ]
  },
  {
   "cell_type": "code",
   "execution_count": null,
   "metadata": {
    "colab": {},
    "colab_type": "code",
    "id": "_Mo7j2KsAhBL"
   },
   "outputs": [],
   "source": [
    "# raws_shp_list = lstFiles(\"data/RAWS\", \".shp\")\n",
    "raws_info = pd.read_csv(\"data/RAWS/Raws_Info.csv\")\n",
    "raws_info = raws_info.drop(columns=['Unnamed: 0'])"
   ]
  },
  {
   "cell_type": "code",
   "execution_count": null,
   "metadata": {
    "colab": {
     "base_uri": "https://localhost:8080/",
     "height": 473
    },
    "colab_type": "code",
    "id": "ThioprQWExXD",
    "outputId": "6cc62b2b-82ba-4998-b9b2-a371b13279dc"
   },
   "outputs": [
    {
     "name": "stderr",
     "output_type": "stream",
     "text": [
      "/usr/local/lib/python3.6/dist-packages/pyproj/crs/crs.py:53: FutureWarning: '+init=<authority>:<code>' syntax is deprecated. '<authority>:<code>' is the preferred initialization method. When making the change, be mindful of axis order changes: https://pyproj4.github.io/pyproj/stable/gotchas.html#axis-order-changes-in-proj-6\n",
      "  return _prepare_from_string(\" \".join(pjargs))\n"
     ]
    },
    {
     "data": {
      "text/html": [
       "<div>\n",
       "<style scoped>\n",
       "    .dataframe tbody tr th:only-of-type {\n",
       "        vertical-align: middle;\n",
       "    }\n",
       "\n",
       "    .dataframe tbody tr th {\n",
       "        vertical-align: top;\n",
       "    }\n",
       "\n",
       "    .dataframe thead th {\n",
       "        text-align: right;\n",
       "    }\n",
       "</style>\n",
       "<table border=\"1\" class=\"dataframe\">\n",
       "  <thead>\n",
       "    <tr style=\"text-align: right;\">\n",
       "      <th></th>\n",
       "      <th>station</th>\n",
       "      <th>abbrv</th>\n",
       "      <th>url</th>\n",
       "      <th>latitude</th>\n",
       "      <th>longitude</th>\n",
       "      <th>start_year</th>\n",
       "      <th>end_year</th>\n",
       "      <th>decimal_lat</th>\n",
       "      <th>decimal_long</th>\n",
       "      <th>geometry</th>\n",
       "    </tr>\n",
       "  </thead>\n",
       "  <tbody>\n",
       "    <tr>\n",
       "      <th>403</th>\n",
       "      <td>Acton</td>\n",
       "      <td>ACT</td>\n",
       "      <td>/cgi-bin/rawMAIN.pl?caCACT</td>\n",
       "      <td>34° 26' 45.00\"N</td>\n",
       "      <td>118° 12' 00.00\"W</td>\n",
       "      <td>1995</td>\n",
       "      <td>2020</td>\n",
       "      <td>34.445833</td>\n",
       "      <td>-118.200000</td>\n",
       "      <td>POINT (-118.20000 34.44583)</td>\n",
       "    </tr>\n",
       "    <tr>\n",
       "      <th>406</th>\n",
       "      <td>Alcalde</td>\n",
       "      <td>ALC</td>\n",
       "      <td>/cgi-bin/rawMAIN.pl?caCALC</td>\n",
       "      <td>36° 11' 00.00\"N</td>\n",
       "      <td>120° 29' 55.00\"W</td>\n",
       "      <td>2017</td>\n",
       "      <td>2020</td>\n",
       "      <td>36.183333</td>\n",
       "      <td>-120.498611</td>\n",
       "      <td>POINT (-120.49861 36.18333)</td>\n",
       "    </tr>\n",
       "    <tr>\n",
       "      <th>329</th>\n",
       "      <td>Alcalde</td>\n",
       "      <td>ALC</td>\n",
       "      <td>/cgi-bin/rawMAIN.pl?caCALC</td>\n",
       "      <td>36° 11' 00.00\"N</td>\n",
       "      <td>120° 29' 55.00\"W</td>\n",
       "      <td>2017</td>\n",
       "      <td>2020</td>\n",
       "      <td>36.183333</td>\n",
       "      <td>-120.498611</td>\n",
       "      <td>POINT (-120.49861 36.18333)</td>\n",
       "    </tr>\n",
       "    <tr>\n",
       "      <th>2</th>\n",
       "      <td>Alder Point</td>\n",
       "      <td>APT</td>\n",
       "      <td>/cgi-bin/rawMAIN.pl?caCAPT</td>\n",
       "      <td>40° 11' 12.00\"N</td>\n",
       "      <td>123° 35' 25.00\"W</td>\n",
       "      <td>1991</td>\n",
       "      <td>2020</td>\n",
       "      <td>40.186667</td>\n",
       "      <td>-123.590278</td>\n",
       "      <td>POINT (-123.59028 40.18667)</td>\n",
       "    </tr>\n",
       "    <tr>\n",
       "      <th>1</th>\n",
       "      <td>Alder Springs</td>\n",
       "      <td>ALD</td>\n",
       "      <td>/cgi-bin/rawMAIN.pl?caCALD</td>\n",
       "      <td>39° 39' 05.00\"N</td>\n",
       "      <td>122° 43' 25.00\"W</td>\n",
       "      <td>1994</td>\n",
       "      <td>2020</td>\n",
       "      <td>39.651389</td>\n",
       "      <td>-122.723611</td>\n",
       "      <td>POINT (-122.72361 39.65139)</td>\n",
       "    </tr>\n",
       "    <tr>\n",
       "      <th>...</th>\n",
       "      <td>...</td>\n",
       "      <td>...</td>\n",
       "      <td>...</td>\n",
       "      <td>...</td>\n",
       "      <td>...</td>\n",
       "      <td>...</td>\n",
       "      <td>...</td>\n",
       "      <td>...</td>\n",
       "      <td>...</td>\n",
       "      <td>...</td>\n",
       "    </tr>\n",
       "    <tr>\n",
       "      <th>397</th>\n",
       "      <td>Woody</td>\n",
       "      <td>WDY</td>\n",
       "      <td>/cgi-bin/rawMAIN.pl?caCWDY</td>\n",
       "      <td>35° 42' 22.00\"N</td>\n",
       "      <td>118° 49' 57.00\"W</td>\n",
       "      <td>2010</td>\n",
       "      <td>2020</td>\n",
       "      <td>35.706111</td>\n",
       "      <td>-118.832500</td>\n",
       "      <td>POINT (-118.83250 35.70611)</td>\n",
       "    </tr>\n",
       "    <tr>\n",
       "      <th>634</th>\n",
       "      <td>Woody</td>\n",
       "      <td>WDY</td>\n",
       "      <td>/cgi-bin/rawMAIN.pl?caCWDY</td>\n",
       "      <td>35° 42' 22.00\"N</td>\n",
       "      <td>118° 49' 57.00\"W</td>\n",
       "      <td>2010</td>\n",
       "      <td>2020</td>\n",
       "      <td>35.706111</td>\n",
       "      <td>-118.832500</td>\n",
       "      <td>POINT (-118.83250 35.70611)</td>\n",
       "    </tr>\n",
       "    <tr>\n",
       "      <th>188</th>\n",
       "      <td>Yolla Bolla</td>\n",
       "      <td>YOL</td>\n",
       "      <td>/cgi-bin/rawMAIN.pl?caCYOL</td>\n",
       "      <td>40° 20' 18.00\"N</td>\n",
       "      <td>123° 03' 54.00\"W</td>\n",
       "      <td>1990</td>\n",
       "      <td>2020</td>\n",
       "      <td>40.338333</td>\n",
       "      <td>-123.065000</td>\n",
       "      <td>POINT (-123.06500 40.33833)</td>\n",
       "    </tr>\n",
       "    <tr>\n",
       "      <th>643</th>\n",
       "      <td>Yucca Valley</td>\n",
       "      <td>YUC</td>\n",
       "      <td>/cgi-bin/rawMAIN.pl?caCYUC</td>\n",
       "      <td>34° 07' 24.00\"N</td>\n",
       "      <td>116° 24' 28.00\"W</td>\n",
       "      <td>1990</td>\n",
       "      <td>2020</td>\n",
       "      <td>34.123333</td>\n",
       "      <td>-116.407778</td>\n",
       "      <td>POINT (-116.40778 34.12333)</td>\n",
       "    </tr>\n",
       "    <tr>\n",
       "      <th>189</th>\n",
       "      <td>Yurok</td>\n",
       "      <td>YUR</td>\n",
       "      <td>/cgi-bin/rawMAIN.pl?caCYUR</td>\n",
       "      <td>41° 17' 23.00\"N</td>\n",
       "      <td>123° 51' 27.00\"W</td>\n",
       "      <td>2002</td>\n",
       "      <td>2020</td>\n",
       "      <td>41.289722</td>\n",
       "      <td>-123.857500</td>\n",
       "      <td>POINT (-123.85750 41.28972)</td>\n",
       "    </tr>\n",
       "  </tbody>\n",
       "</table>\n",
       "<p>644 rows × 10 columns</p>\n",
       "</div>"
      ],
      "text/plain": [
       "                  station abbrv  ... decimal_long                     geometry\n",
       "403        Acton            ACT  ...  -118.200000  POINT (-118.20000 34.44583)\n",
       "406             Alcalde     ALC  ...  -120.498611  POINT (-120.49861 36.18333)\n",
       "329             Alcalde     ALC  ...  -120.498611  POINT (-120.49861 36.18333)\n",
       "2            Alder Point    APT  ...  -123.590278  POINT (-123.59028 40.18667)\n",
       "1    Alder Springs          ALD  ...  -122.723611  POINT (-122.72361 39.65139)\n",
       "..                    ...   ...  ...          ...                          ...\n",
       "397               Woody     WDY  ...  -118.832500  POINT (-118.83250 35.70611)\n",
       "634               Woody     WDY  ...  -118.832500  POINT (-118.83250 35.70611)\n",
       "188  Yolla Bolla            YOL  ...  -123.065000  POINT (-123.06500 40.33833)\n",
       "643         Yucca Valley    YUC  ...  -116.407778  POINT (-116.40778 34.12333)\n",
       "189               Yurok     YUR  ...  -123.857500  POINT (-123.85750 41.28972)\n",
       "\n",
       "[644 rows x 10 columns]"
      ]
     },
     "execution_count": 131,
     "metadata": {
      "tags": []
     },
     "output_type": "execute_result"
    }
   ],
   "source": [
    "import matplotlib.pyplot as plt\n",
    "import shapely.geometry as geom\n",
    "import numpy as np\n",
    "import pandas as pd\n",
    "import geopandas as gpd\n",
    "\n",
    "geometry = [Point(xy) for xy in zip(raws_info.decimal_long, raws_info.decimal_lat)]\n",
    "crs = {'init': 'epsg:4326'}\n",
    "geo_df = gpd.GeoDataFrame(raws_info, crs=crs, geometry=geometry)\n",
    "geo_df.sort_values(by=['station'])"
   ]
  },
  {
   "cell_type": "code",
   "execution_count": null,
   "metadata": {
    "colab": {},
    "colab_type": "code",
    "id": "65nmUjVUY5BG"
   },
   "outputs": [],
   "source": [
    "fr_per = lstFiles(f'/content/drive/My Drive/California_FireTrends/Products/By_Fire', '.shp')\n",
    "\n",
    "fire_list = []\n",
    "year_list = []\n",
    "\n",
    "for pth in fr_per:\n",
    "  pth_nm = pth.split('/')\n",
    "  nm = os.path.basename(pth)\n",
    "  nm = nm.split('_')\n",
    "  fr = pth_nm[8]\n",
    "  yr = nm[1]\n",
    "  fire_list.append(fr)\n",
    "  year_list.append(yr)"
   ]
  },
  {
   "cell_type": "code",
   "execution_count": null,
   "metadata": {
    "colab": {},
    "colab_type": "code",
    "id": "ToPNo4_5ZxHO"
   },
   "outputs": [],
   "source": [
    "len(list(zip(fire_list, year_list)))\n",
    "list(zip(fire_list, year_list))"
   ]
  },
  {
   "cell_type": "markdown",
   "metadata": {
    "colab_type": "text",
    "id": "TJO9roW835__"
   },
   "source": [
    "## Download RAWS Hourly Data as CSV"
   ]
  },
  {
   "cell_type": "code",
   "execution_count": null,
   "metadata": {
    "colab": {},
    "colab_type": "code",
    "id": "lXWcQmhWrROi"
   },
   "outputs": [],
   "source": [
    "def getPerimeter(fire_nm, year):\n",
    "  fire_nm_B = fire_nm.replace(' ', '')\n",
    "  per_gdf = gpd.read_file(f'/content/drive/My Drive/California_FireTrends/Products/By_Fire/{year}/{fire_nm}/{fire_nm_B}_{year}_NAT.shp')\n",
    "  return per_gdf\n",
    "\n",
    "def getNearestStation(fire_nm, year, raws_gdf):\n",
    "  per_gdf = getPerimeter(fire_nm, year)\n",
    "  per_gdf['geometry'] = per_gdf.buffer(5000)\n",
    "  raws_gdf = raws_gdf.to_crs(per_gdf.crs)\n",
    "  res_intersection = gpd.overlay(raws_gdf, per_gdf, how='intersection', keep_geom_type=True)\n",
    "  return res_intersection['station'].unique().tolist()\n",
    "\n",
    "def getStationInfo(fire_nm, year, raws_gdf):\n",
    "  station_list = getNearestStation(fire_nm, year, raws_gdf)\n",
    "  raws_df = geo_df[geo_df['station'].isin(station_list)].drop_duplicates()\n",
    "  df = getPerimeter(fire_nm, year)\n",
    "  \n",
    "  raws_df['Fire_Start_Date'] = df['Date'].min()\n",
    "  raws_df['Fire_End_Date'] = df['Date'].max()\n",
    "\n",
    "  raws_df['Fire_Start_Date'] =  pd.to_datetime(raws_df['Fire_Start_Date'], format='%Y-%m-%d')\n",
    "  raws_df['Fire_End_Date'] =  pd.to_datetime(raws_df['Fire_End_Date'], format='%Y-%m-%d')\n",
    "\n",
    "  raws_df['Fire'] = fire_nm\n",
    "\n",
    "  return raws_df"
   ]
  },
  {
   "cell_type": "code",
   "execution_count": null,
   "metadata": {
    "colab": {},
    "colab_type": "code",
    "id": "V1s5KgwpANEi"
   },
   "outputs": [],
   "source": [
    "import csv\n",
    "import requests\n",
    "from bs4 import BeautifulSoup"
   ]
  },
  {
   "cell_type": "code",
   "execution_count": null,
   "metadata": {
    "colab": {},
    "colab_type": "code",
    "id": "6PV2hotnATY_"
   },
   "outputs": [],
   "source": [
    "def scrape_data(url, fname, fire_yr, dt, station_name):\n",
    "    response = requests.get(url, timeout=10)\n",
    "    soup = BeautifulSoup(response.content, 'html.parser')\n",
    "    table_rows = soup.find_all(\"tr\",attrs={\"class\": \"data\"})\n",
    "\n",
    "    data_val = []\n",
    "    for dta in table_rows[:-4]: \n",
    "      td = dta.find_all('td')\n",
    "      row = [i.text.replace('\\n', ' ').strip() for i in td]\n",
    "      row_witout_empty = list(filter(lambda x: x != '', row))\n",
    "      \n",
    "      data_val.append(row_witout_empty)\n",
    "\n",
    "    \n",
    "    row_head = ['Hour', 'Total_Solar_Rad', 'Wind_Avg_mph', 'Wind_Dir_Deg', \n",
    "                'Wind_Max_mph', 'Air_Temp_Avg', 'Fuel_Temp_Avg', 'Fuel_Moist_Per',\n",
    "                'Rel_Hum_Per', 'Dew_Point_Deg', 'Wet_Bulb', 'Total_Precip']\n",
    "    \n",
    "    if len(data_val) != 0 and os.path.exists(os.path.join('data/RAWS_CSV', fire_yr, fname, f'{fname}_{dt}_{station_name.strip()}.csv')) == False: \n",
    "      yr_out = createFolder('data/RAWS_CSV', fire_yr)\n",
    "      f_out = createFolder(yr_out, fname)\n",
    "      with open(os.path.join(f_out, f'{fname}_{dt}_{station_name.strip()}.csv'), 'w') as csv_file:\n",
    "          writer = csv.writer(csv_file)\n",
    "          writer.writerow(row_head)\n",
    "          for row in data_val:\n",
    "              writer.writerow(row)"
   ]
  },
  {
   "cell_type": "code",
   "execution_count": null,
   "metadata": {
    "colab": {},
    "colab_type": "code",
    "id": "BzylPPHB5P8c"
   },
   "outputs": [],
   "source": [
    "import datetime\n",
    "from datetime import date\n",
    "\n",
    "def retrieveRAWS_saveIntoCSV(fire_nm, fire_yr, geo_df):\n",
    "  df = getStationInfo(fire_nm, fire_yr, geo_df)\n",
    "  for index, rows in df.iterrows(): \n",
    "    # grab fire, weather station name, url \n",
    "    sta_name = rows.station \n",
    "    start_date = rows.Fire_Start_Date - datetime.timedelta(days=2)\n",
    "    end_date = rows.Fire_End_Date\n",
    "    delta = end_date - start_date\n",
    "\n",
    "    # get range of dates\n",
    "    date_list = [end_date - datetime.timedelta(days=x) for x in range(delta.days)]\n",
    "\n",
    "    for dy in date_list: \n",
    "      if rows.end_year >= dy.year:\n",
    "        # plug into url \n",
    "        dy_str = str(dy.day)\n",
    "        mth_str = str(dy.month).zfill(2)\n",
    "        yr_str = str(dy.year)\n",
    "        print(dy_str, mth_str, yr_str)\n",
    "        url = f'https://raws.dri.edu/cgi-bin/wea_daysum2.pl?stn=c{rows.abbrv.lower()}&day={dy_str}&mon={mth_str}&yea={yr_str[-2:]}&unit=E'\n",
    "        print(url)\n",
    "        \n",
    "        # web scrap \n",
    "        dt = yr_str + mth_str + dy_str\n",
    "        scrape_data(url, rows.Fire, fire_yr, dt, rows.station)"
   ]
  },
  {
   "cell_type": "code",
   "execution_count": null,
   "metadata": {
    "colab": {},
    "colab_type": "code",
    "id": "ZDmb5nx6aTec"
   },
   "outputs": [],
   "source": [
    "for fire_nm, fire_yr in list(zip(fire_list, year_list)):\n",
    "  if os.path.exists(os.path.join('data/RAWS_CSV', fire_yr, fire_nm)) == False:\n",
    "    print(fire_nm, fire_yr)\n",
    "    retrieveRAWS_saveIntoCSV(fire_nm, fire_yr, geo_df)"
   ]
  },
  {
   "cell_type": "markdown",
   "metadata": {
    "colab_type": "text",
    "id": "S0OqRHhgdFaT"
   },
   "source": [
    "### Clean up CSV"
   ]
  },
  {
   "cell_type": "code",
   "execution_count": null,
   "metadata": {
    "colab": {},
    "colab_type": "code",
    "id": "FJunKS8ibl2g"
   },
   "outputs": [],
   "source": [
    "# add fire name, date, datetime, station name\n",
    "csv_list = lstFiles('data/RAWS_CSV', '.csv')\n",
    "\n",
    "def cleanCSV(csv_list):\n",
    "  for csv in csv_list: \n",
    "    try: \n",
    "      nm = os.path.basename(csv)\n",
    "      fr_nm = nm.split('_')[0]\n",
    "      dt = nm.split('_')[1]\n",
    "      st_nm = nm.split('_')[2][:-4]\n",
    "\n",
    "      df = pd.read_csv(csv)\n",
    "      df['Fire'] = fr_nm\n",
    "      df['Date'] = dt\n",
    "\n",
    "      df['Datetime'] = df['Date'].str.cat(df['Hour'],sep=\" \")  \n",
    "      df['Datetime'] =  pd.to_datetime(df['Datetime'], format='%Y%m%d %I %p')\n",
    "\n",
    "      df['station'] = st_nm\n",
    "\n",
    "      df.iloc[-1, df.columns.get_loc('Datetime')] = df.iloc[-1, df.columns.get_loc('Datetime')] + datetime.timedelta(days=1) \n",
    "\n",
    "      df.to_csv(csv)\n",
    "      print(csv)\n",
    "    except: \n",
    "      print('error', csv)\n",
    "      continue"
   ]
  },
  {
   "cell_type": "code",
   "execution_count": null,
   "metadata": {
    "colab": {},
    "colab_type": "code",
    "id": "39DJHUedzDP7"
   },
   "outputs": [],
   "source": [
    "cleanCSV(csv_list)"
   ]
  },
  {
   "cell_type": "markdown",
   "metadata": {
    "colab_type": "text",
    "id": "V9UgUHzTknjR"
   },
   "source": [
    "### Combine CSVS "
   ]
  },
  {
   "cell_type": "code",
   "execution_count": null,
   "metadata": {
    "colab": {},
    "colab_type": "code",
    "id": "t9fwpt_ikosD"
   },
   "outputs": [],
   "source": [
    "raws_df = raws_info[['station', 'decimal_lat',\t'decimal_long',\t'geometry']]\n",
    "raws_df = raws_df.applymap(lambda x: x.strip() if type(x)==str else x)\n",
    "\n",
    "def combineCSV_byFire(fire_nm, fire_yr):\n",
    "  csv_list = lstFiles(f'data/RAWS_CSV/{fire_yr}/{fire_nm}', '.csv')\n",
    "\n",
    "  if len(csv_list) != 0 and os.path.exists(f\"data/Final_CSV/{fire_nm}_{fire_yr}_RAWS.csv\") == False:\n",
    "    #combine all files in the list\n",
    "    combined_csv = pd.concat([pd.read_csv(f, index_col=None) for f in csv_list])\n",
    "    if 'Unnamed: 0' in combined_csv.columns.tolist():\n",
    "      combined_csv = combined_csv.drop(columns=['Unnamed: 0'])\n",
    "    #export to csv\n",
    "    final_df = pd.merge(combined_csv, raws_df, how='left', on='station')\n",
    "    final_df.to_csv( f\"data/Final_CSV/{fire_nm}_{fire_yr}_RAWS.csv\", index=False)\n"
   ]
  },
  {
   "cell_type": "code",
   "execution_count": null,
   "metadata": {
    "colab": {},
    "colab_type": "code",
    "id": "gl47tSs_byzL"
   },
   "outputs": [],
   "source": [
    "for fire_nm, fire_yr in list(zip(fire_list, year_list)):\n",
    "  \n",
    "  try: \n",
    "    combineCSV_byFire(fire_nm, fire_yr)\n",
    "    print(fire_nm, fire_yr)\n",
    "  except: \n",
    "    print('error', fire_nm, fire_yr)"
   ]
  },
  {
   "cell_type": "markdown",
   "metadata": {
    "colab_type": "text",
    "id": "edMagEaYl8UZ"
   },
   "source": [
    "##  Weather Variable Calculations\n",
    "VPD and Temp Conversions"
   ]
  },
  {
   "cell_type": "code",
   "execution_count": null,
   "metadata": {
    "colab": {},
    "colab_type": "code",
    "id": "3KAxfP0cujEP"
   },
   "outputs": [],
   "source": [
    "import math\n",
    "def calculateVPD(Temp_val, RH_val):\n",
    "  '''\n",
    "  returns VPD based on temp and rel humidity values\n",
    "  '''\n",
    "  VP_sat = 0.61078 * math.exp((Temp_val * 17.2694) / (Temp_val + 238.3))\n",
    "  VP_air = (VP_sat * RH_val) / 100 \n",
    "  VPD = VP_sat - VP_air \n",
    "  return VPD"
   ]
  },
  {
   "cell_type": "code",
   "execution_count": null,
   "metadata": {
    "colab": {},
    "colab_type": "code",
    "id": "Ntc68FTqwicf"
   },
   "outputs": [],
   "source": [
    "def convertTemp_FtoC(Temp_val):\n",
    "  '''\n",
    "  converts F to C temperature\n",
    "  '''\n",
    "  C_TEMP = ((Temp_val - 32) * 5 ) / 9 \n",
    "  return C_TEMP"
   ]
  },
  {
   "cell_type": "markdown",
   "metadata": {
    "colab_type": "text",
    "id": "nwpo2W7AmBQR"
   },
   "source": [
    "## From Hourly to Daily Averages \n",
    "Based on time where day = 6am to 6pm and night = 7pm to 5am"
   ]
  },
  {
   "cell_type": "code",
   "execution_count": null,
   "metadata": {
    "colab": {},
    "colab_type": "code",
    "id": "C6Xm6K1pefI4"
   },
   "outputs": [],
   "source": [
    "night_list = ['7 pm', '8 pm', '9 pm', '10 pm','11 pm', '12 am','1 am', '2 am','3 am', '4 am', '5 am']\n",
    "day_list = ['6 am', '7 am', '8 am', '9 am', '10 am','11 am', '12 pm','1 pm', '2 pm','3 pm', '4 pm', '5 pm', '6 pm']\n",
    "\n",
    "def getDailyRAWS(rim_df):\n",
    "  '''\n",
    "  converts hourly RAWS to daily (night vs day). keeps only day.\n",
    "  '''\n",
    "  rim_df = rim_df.dropna(subset=['Date'])\n",
    "  criteria = [rim_df['Hour'].isin(day_list), rim_df['Hour'].isin(night_list)]\n",
    "  values = ['Day', 'Night']\n",
    "  rim_df['Day_Night']  = np.select(criteria, values, 0)\n",
    "  day_raws_df = rim_df.groupby(by=['Day_Night', 'Date', 'Fire']).agg({'Total_Solar_Rad': 'mean', \n",
    "                                                                    'Wind_Avg_mph': 'mean',\n",
    "                                                                    'Wind_Dir_Deg': 'mean',\n",
    "                                                                    'Wind_Max_mph': ['mean', 'max'],\n",
    "                                                                    'Air_Temp_Avg': ['mean', 'max'],\n",
    "                                                                    'Fuel_Temp_Avg': 'mean',\n",
    "                                                                    'Fuel_Moist_Per': 'mean',\n",
    "                                                                    'Rel_Hum_Per': 'mean',\n",
    "                                                                    'Dew_Point_Deg': 'mean',\n",
    "                                                                    'Wet_Bulb': 'mean',\n",
    "                                                                    'Total_Precip': 'mean'}).reset_index()\n",
    "  day_raws_df.columns = ['Day_Night', 'Date', 'Fire', 'Total_Solar_Rad', 'Wind_Avg_mph',\n",
    "       'Wind_Dir_Deg', 'Wind_Max_Avg', 'Wind_Max_mph', 'Air_Temp_Avg', 'Air_Temp_Max',\n",
    "       'Fuel_Temp_Avg', 'Fuel_Moist_Per', 'Rel_Hum_Per', 'Dew_Point_Deg',\n",
    "       'Wet_Bulb', 'Total_Precip']\n",
    "\n",
    "  day_raws_df['Air_Temp_Celcius'] = convertTemp_FtoC(day_raws_df['Air_Temp_Avg'])\n",
    "  day_raws_df['Air_Temp_Max_Celcius'] = convertTemp_FtoC(day_raws_df['Air_Temp_Max'])\n",
    "  day_raws_df['VPD'] = day_raws_df.apply(lambda x: calculateVPD(x['Air_Temp_Celcius'],x['Rel_Hum_Per']),axis=1)\n",
    "  day_raws_df = day_raws_df[day_raws_df['Day_Night'] == 'Day']\n",
    "  day_raws_df['Date'] = day_raws_df['Date'].astype('str')\n",
    "  day_raws_df['Date'] = pd.to_datetime(day_raws_df['Date'], format= '%Y%m%d')\n",
    "  day_raws_df['Date'] =  day_raws_df['Date'].apply(lambda x: x.strftime('%Y-%m-%d'))\n",
    "  return day_raws_df\n",
    "\n",
    "\n",
    "def getDailyRAWS_byFire(fire_nm, fire_yr):\n",
    "  rim_df = pd.read_csv(f\"data/Final_CSV/{fire_nm}_{fire_yr}_RAWS.csv\")\n",
    "  return getDailyRAWS(rim_df)"
   ]
  },
  {
   "cell_type": "markdown",
   "metadata": {
    "colab_type": "text",
    "id": "2pBWdHPe1Fsh"
   },
   "source": [
    "## Get derived perimeter info"
   ]
  },
  {
   "cell_type": "code",
   "execution_count": null,
   "metadata": {
    "colab": {},
    "colab_type": "code",
    "id": "tMfK1nxe1IkG"
   },
   "outputs": [],
   "source": [
    "fl_path = '/content/drive/My Drive/FireDrivers_Paper/FinalCSV_Info'\n",
    "\n",
    "def getDerivedDF(fl_path):\n",
    "  derived_df = pd.read_csv(os.path.join(fl_path, 'FireInfoVar_Final.csv'), index_col=None)\n",
    "  derived_df['YearJD'] = derived_df['Year'].astype('str').str.cat(derived_df['JulianDay'].astype('str'),sep=\"\")  \n",
    "  derived_df['Date'] = pd.to_datetime(derived_df['YearJD'], format= '%Y%j')\n",
    "  derived_df['Date'] =  derived_df['Date'].apply(lambda x: x.strftime('%Y-%m-%d'))\n",
    "  derived_df['Datetime'] = derived_df['Date'] + ' 23:00:00'\n",
    "  derived_df['Area (ha)'] = derived_df['Area (ha)'] / 1000 \n",
    "  return derived_df"
   ]
  },
  {
   "cell_type": "markdown",
   "metadata": {
    "colab_type": "text",
    "id": "UYFYhUcfeA_I"
   },
   "source": [
    "### Visualize Time-series"
   ]
  },
  {
   "cell_type": "code",
   "execution_count": null,
   "metadata": {
    "colab": {},
    "colab_type": "code",
    "id": "nEtyLB7VmTZo"
   },
   "outputs": [],
   "source": [
    "# Get daily RAWS based on fire name and year \n",
    "fire_nm = 'Lnu Lightning'\n",
    "fire_yr = '2020'\n",
    "day_raws_df = getDailyRAWS_byFire(fire_nm, fire_yr)\n",
    "fire_df = getPerimeter(fire_nm, fire_yr)\n",
    "merged_df = pd.merge(day_raws_df, fire_df, how='left', on='Date')"
   ]
  },
  {
   "cell_type": "code",
   "execution_count": null,
   "metadata": {
    "colab": {},
    "colab_type": "code",
    "id": "xswBypP-v6mj"
   },
   "outputs": [],
   "source": [
    "wind_df_plot = merged_df[[\n",
    " 'Date',\n",
    " 'Air_Temp_Avg',\n",
    " 'Wind_Avg_mph'\n",
    " ]]\n",
    "\n",
    "wind_df_plot = wind_df_plot.set_index('Date')\n",
    "wind_df_plot = wind_df_plot.sort_index()\n",
    "\n",
    "area_df_plot = merged_df[[\n",
    " 'Date',\n",
    " 'Area (ha)',\n",
    " ]]\n",
    "area_df_plot = area_df_plot.set_index('Date')\n",
    "area_df_plot = area_df_plot.sort_index()\n",
    "\n",
    "weather_df_plot = merged_df[[\n",
    " 'Date',\n",
    " 'VPD'\n",
    " ]]\n",
    "\n",
    "weather_df_plot = weather_df_plot.set_index('Date')\n",
    "weather_df_plot = weather_df_plot.sort_index()\n",
    "\n",
    "\n",
    "maxWeather_df_plot = merged_df[[\n",
    " 'Date',\n",
    " 'Air_Temp_Max',\n",
    " 'Wind_Max_mph',\n",
    " ]]\n",
    "\n",
    "\n",
    "maxWeather_df_plot = maxWeather_df_plot.set_index('Date')\n",
    "maxWeather_df_plot = maxWeather_df_plot.sort_index()"
   ]
  },
  {
   "cell_type": "code",
   "execution_count": null,
   "metadata": {
    "colab": {
     "base_uri": "https://localhost:8080/",
     "height": 433
    },
    "colab_type": "code",
    "id": "MU8CnovcmKBf",
    "outputId": "6dd3c158-d5ba-4106-a4e8-7f0acab10827"
   },
   "outputs": [
    {
     "data": {
      "text/plain": [
       "<Figure size 432x288 with 0 Axes>"
      ]
     },
     "metadata": {
      "tags": []
     },
     "output_type": "display_data"
    },
    {
     "data": {
      "image/png": "[encoded data removed]",
      "text/plain": [
       "<Figure size 720x432 with 3 Axes>"
      ]
     },
     "metadata": {
      "tags": []
     },
     "output_type": "display_data"
    }
   ],
   "source": [
    "import seaborn as sns\n",
    "sns.set_style('whitegrid', {'legend.frameon':True, 'framealpha':1})\n",
    "sns.despine(offset=10, trim=True);\n",
    "\n",
    "plot_options = {'labelrotation':30}\n",
    "\n",
    "r_color = 'tab:red' # Area, Magnitude\n",
    "g_color = 'tab:green' # Wind \n",
    "o_color = 'tab:orange' # Weather \n",
    "\n",
    "fig, ax1 = plt.subplots(figsize=(10,6))\n",
    "\n",
    "ax1.set_ylabel('Area Burned (ha)', fontsize=16, color=r_color)\n",
    "ax1 = sns.lineplot(data = area_df_plot, markers=True, palette='Reds_r', linewidth = 2)\n",
    "ax1.tick_params(axis='y', color=r_color)\n",
    "ax1.tick_params(axis='x', **plot_options)\n",
    "ax1.legend(loc='upper right') \n",
    "\n",
    "ax2 = ax1.twinx()\n",
    "ax2.set_ylabel('Weather', fontsize=16, color=g_color)\n",
    "ax2 = sns.lineplot(data = wind_df_plot, palette='icefire_r')\n",
    "ax2 = sns.scatterplot(data = maxWeather_df_plot, \n",
    "                      palette='brg_r', \n",
    "                      markers=['+', 4],\n",
    "                      s=50)\n",
    "ax2.legend(loc='upper right') \n",
    "\n",
    "ax3 = ax1.twinx()\n",
    "ax3 = sns.lineplot(data = weather_df_plot, palette='Greys_r')\n",
    "ax3.tick_params(axis='y', color=g_color)\n",
    "\n",
    "lines, labels = ax1.get_legend_handles_labels()\n",
    "lines2, labels2 = ax2.get_legend_handles_labels()\n",
    "lines3, labels3 = ax3.get_legend_handles_labels()\n",
    "\n",
    "ax3.legend(lines + lines2 + lines3, labels + labels2 + labels3, loc='upper right', framealpha=1)\n",
    "\n",
    "fig.savefig(f'Figures/{fire_nm}_{fire_yr}_Wind_RAWSPlot.png', dpi=400)"
   ]
  },
  {
   "cell_type": "markdown",
   "metadata": {
    "colab_type": "text",
    "id": "7GLOSKlfqF3Q"
   },
   "source": [
    "Take Daily Average i.e. Values During DayTime 6am to 6pm "
   ]
  },
  {
   "cell_type": "markdown",
   "metadata": {
    "colab_type": "text",
    "id": "EfP-QgJbqXjQ"
   },
   "source": [
    "### Merge RAWS Daily w/ Fire Perimeter "
   ]
  },
  {
   "cell_type": "code",
   "execution_count": null,
   "metadata": {
    "colab": {},
    "colab_type": "code",
    "id": "KpS37cmVjmC6"
   },
   "outputs": [],
   "source": [
    "# add datetime, round down time \n",
    "# merge hectare with datetime as new column \n",
    "fire_nm = 'Woolsey'\n",
    "fire_yr = '2018'\n",
    "\n",
    "# RAWS \n",
    "day_raws_df = getDailyRAWS_byFire(fire_nm, fire_yr)\n",
    "\n",
    "# PERIMETER\n",
    "fire_df = getPerimeter(fire_nm, fire_yr)\n",
    "\n",
    "# DERIVED\n",
    "derived_df = getDerivedDF(fl_path)\n",
    "derived_df = derived_df[derived_df['FireName'] == fire_nm]"
   ]
  },
  {
   "cell_type": "code",
   "execution_count": null,
   "metadata": {
    "colab": {},
    "colab_type": "code",
    "id": "sjZa2X50DQuy"
   },
   "outputs": [],
   "source": [
    "derived_df = derived_df[['JulianDay', 'Date', 'Datetime', 'Area (ha)', 'DIR_WA', 'DIR_MaxDist', 'DIST_MEDSTD',\n",
    "       'Magnitude (upperQ)', 'Magnitude (median)', 'FireName', 'Year',\n",
    "       'NA_L3NAME', 'NA_L2NAME', 'ecoID', 'CONIFER', 'CONIFER_HA',\n",
    "       'EXOTIC_HER', 'GRASSLAND', 'HARDWOOD', 'RIPARIAN', 'SHRUBLAND',\n",
    "       'SPARSELY_V', 'URBAN', 'BARREN', 'DEVELOPED', 'AGRICULTURE',\n",
    "       'deadfuelmoisture1000hr', 'minimumrelativehumidity','windfromdirection', 'windspeed',\n",
    "       'meanvaporpressuredeficit']]"
   ]
  },
  {
   "cell_type": "code",
   "execution_count": null,
   "metadata": {
    "colab": {},
    "colab_type": "code",
    "id": "CpaxCt10m52m"
   },
   "outputs": [],
   "source": [
    "fire_df['Time'] = fire_df['Time_Max'].astype('str').str.zfill(4)\n",
    "fire_df['Time'] = fire_df['Time'] .map(lambda x: str(x)[:2] + ':00:00')\n",
    "fire_df = fire_df.replace({'Time': '24:00:00'}, '23:00:00')\n",
    "fire_df['Datetime'] = fire_df['Date'].str.cat(fire_df['Time'],sep=\" \")  \n",
    "fire_df['Datetime'] =  pd.to_datetime(fire_df['Datetime'] , format='%Y-%m-%d %H:%M:%S')"
   ]
  },
  {
   "cell_type": "code",
   "execution_count": null,
   "metadata": {
    "colab": {},
    "colab_type": "code",
    "id": "KDCOl-zm4l0E"
   },
   "outputs": [],
   "source": [
    "# day_raws_df['Datetime']=  pd.to_datetime(day_raws_df['Datetime'], format='%Y-%m-%d %H:%M:%S')\n",
    "\n",
    "# fire_df['Datetime'] =  fire_df['Datetime'].apply(lambda x: x.strftime('%Y-%m-%d %H:%M:%S'))\n",
    "# fire_df['Date'] =  fire_df['Date'].apply(lambda x: x.strftime('%Y-%m-%d'))\n",
    "# derived_df['Date'] =  derived_df['Date'].apply(lambda x: x.strftime('%Y-%m-%d'))\n",
    "\n",
    "merged_rim_df = pd.merge(day_raws_df, fire_df, how='left', on='Date')\n",
    "merged_rim_df = pd.merge(merged_rim_df, derived_df, how='left', on='Date')"
   ]
  },
  {
   "cell_type": "code",
   "execution_count": null,
   "metadata": {
    "colab": {},
    "colab_type": "code",
    "id": "jiho7Sov4le7"
   },
   "outputs": [],
   "source": [
    "merged_rim_df['Date']=  pd.to_datetime(merged_rim_df['Date'], format='%Y-%m-%d')\n",
    "merged_rim_df['Interagency (ha)'] = merged_rim_df['Area (ha)_x'] / 1000 "
   ]
  },
  {
   "cell_type": "code",
   "execution_count": null,
   "metadata": {
    "colab": {},
    "colab_type": "code",
    "id": "LMuL5E4Z51Ov"
   },
   "outputs": [],
   "source": [
    "merged_rim_df = merged_rim_df.rename(columns={ 'VPD': 'Vapor Pressure Deficit (kPa)',\n",
    "                                              'windspeed': 'GRID Wind Velocity (mph)', \n",
    "                                              'Magnitude (upperQ)' : 'Magnitude (km)',\n",
    "                                              'Area (ha)_y': 'Area Burned (ha)',\n",
    "                                              'Wind_Avg_mph': 'RAWS Wind Velocity (mph)',\n",
    "                                              'Air_Temp_Max_Celcius' : 'Max Air Temp (C)',\n",
    "                                              'Wind_Max_mph': 'Max Wind Velocity (mph)'                                             \n",
    "                                              })"
   ]
  },
  {
   "cell_type": "markdown",
   "metadata": {
    "colab_type": "text",
    "id": "8kJOJbvQqccF"
   },
   "source": [
    "### Plot Wind"
   ]
  },
  {
   "cell_type": "code",
   "execution_count": null,
   "metadata": {
    "colab": {},
    "colab_type": "code",
    "id": "9MmFxHZ1zML7"
   },
   "outputs": [],
   "source": [
    "wind_df_plot = merged_rim_df[[\n",
    " 'Date',\n",
    " 'GRID Wind Velocity (mph)',\n",
    " 'RAWS Wind Velocity (mph)'\n",
    " ]]\n",
    "\n",
    "wind_df_plot = wind_df_plot.set_index('Date')\n",
    "wind_df_plot = wind_df_plot.sort_index()\n",
    "\n",
    "area_df_plot = merged_rim_df[[\n",
    " 'Date',\n",
    " 'Interagency (ha)',\n",
    " 'Area Burned (ha)',\n",
    " 'Magnitude (km)'\n",
    " ]]\n",
    "area_df_plot = area_df_plot.set_index('Date')\n",
    "area_df_plot = area_df_plot.sort_index()\n",
    "\n",
    "\n",
    "weather_df_plot = merged_rim_df[[\n",
    " 'Date',\n",
    " 'Vapor Pressure Deficit (kPa)'\n",
    " ]]\n",
    "\n",
    "weather_df_plot = weather_df_plot.set_index('Date')\n",
    "weather_df_plot = weather_df_plot.sort_index()\n",
    "\n",
    "\n",
    "maxWeather_df_plot = merged_rim_df[[\n",
    " 'Date',\n",
    " 'Max Air Temp (C)',\n",
    " 'Max Wind Velocity (mph)'\n",
    " ]]\n",
    "\n",
    "\n",
    "maxWeather_df_plot = maxWeather_df_plot.set_index('Date')\n",
    "maxWeather_df_plot = maxWeather_df_plot.sort_index()"
   ]
  },
  {
   "cell_type": "code",
   "execution_count": null,
   "metadata": {
    "colab": {
     "base_uri": "https://localhost:8080/",
     "height": 439
    },
    "colab_type": "code",
    "id": "sICX2wmp1397",
    "outputId": "3546c03b-dcaa-4172-e71b-869aae28de82"
   },
   "outputs": [
    {
     "data": {
      "text/plain": [
       "<matplotlib.legend.Legend at 0x7f3da5bbf1d0>"
      ]
     },
     "execution_count": 100,
     "metadata": {
      "tags": []
     },
     "output_type": "execute_result"
    },
    {
     "data": {
      "text/plain": [
       "<Figure size 432x288 with 0 Axes>"
      ]
     },
     "metadata": {
      "tags": []
     },
     "output_type": "display_data"
    },
    {
     "data": {
      "image/png": "[encoded data removed]",
      "text/plain": [
       "<Figure size 720x432 with 3 Axes>"
      ]
     },
     "metadata": {
      "tags": []
     },
     "output_type": "display_data"
    }
   ],
   "source": [
    "import seaborn as sns\n",
    "sns.set_style('whitegrid', {'legend.frameon':True, 'framealpha':1})\n",
    "sns.despine(offset=10, trim=True);\n",
    "\n",
    "plot_options = {'labelrotation':15}\n",
    "\n",
    "r_color = 'tab:red' # Area, Magnitude\n",
    "g_color = 'tab:green' # Wind \n",
    "o_color = 'tab:orange' # Weather \n",
    "\n",
    "fig, ax1 = plt.subplots(figsize=(10,6))\n",
    "\n",
    "ax1.set_ylabel('Fire Spread', fontsize=16, color=r_color)\n",
    "ax1 = sns.lineplot(data = area_df_plot, markers=True, palette='Reds_r', linewidth = 2)\n",
    "ax1.tick_params(axis='y', color=r_color)\n",
    "ax1.tick_params(axis='x', **plot_options)\n",
    "\n",
    "ax2 = ax1.twinx()\n",
    "ax2.set_ylabel('Weather', fontsize=16, color=g_color)\n",
    "ax2 = sns.lineplot(data = wind_df_plot, palette='icefire_r')\n",
    "ax2 = sns.scatterplot(data = maxWeather_df_plot, \n",
    "                      palette='brg_r', \n",
    "                      markers=['+', 4],\n",
    "                      s=50)\n",
    "\n",
    "ax3 = ax1.twinx()\n",
    "ax3 = sns.lineplot(data = weather_df_plot, palette='Greys_r')\n",
    "ax3.tick_params(axis='y', color=g_color)\n",
    "\n",
    "lines, labels = ax1.get_legend_handles_labels()\n",
    "lines2, labels2 = ax2.get_legend_handles_labels()\n",
    "lines3, labels3 = ax3.get_legend_handles_labels()\n",
    "\n",
    "ax3.legend(lines + lines2 + lines3, labels + labels2 + labels3, loc='upper right', framealpha=1)\n",
    "\n",
    "\n",
    "# fig.savefig(f'Figures/{fire_nm}_{fire_yr}_Wind_RAWSPlot.tif', dpi=400)\n",
    "# fig.savefig(f'Figures/{fire_nm}_{fire_yr}_Wind_RAWSPlot.png', dpi=400)"
   ]
  },
  {
   "cell_type": "markdown",
   "metadata": {
    "colab_type": "text",
    "id": "r4dBJKZs1DK7"
   },
   "source": [
    "### Daily Fuel"
   ]
  },
  {
   "cell_type": "code",
   "execution_count": null,
   "metadata": {
    "colab": {},
    "colab_type": "code",
    "id": "cssnPMsp1C2Q"
   },
   "outputs": [],
   "source": [
    "fire_nm = 'Rim'\n",
    "fire_yr = '2013'\n",
    "derived_df = getDerivedDF(fl_path)\n",
    "derived_df_fr = derived_df[derived_df['FireName'] == fire_nm]\n",
    "\n",
    "fuel_df_plot = derived_df_fr[[\n",
    " 'Date',\n",
    " 'CONIFER', 'CONIFER_HA', 'EXOTIC_HER', 'GRASSLAND', 'HARDWOOD',\n",
    " 'RIPARIAN', 'SHRUBLAND', 'SPARSELY_V', 'URBAN', 'BARREN', 'DEVELOPED',\n",
    " 'AGRICULTURE']]\n",
    "\n",
    "fuel_df_plot = fuel_df_plot.set_index('Date').fillna(0)\n",
    "fuel_df_plot = fuel_df_plot.sort_index()\n",
    "\n",
    "\n",
    "area_df_plot = derived_df_fr[[\n",
    " 'Date',\n",
    " 'Area (ha)',\n",
    " 'Magnitude (upperQ)', \n",
    " 'Magnitude (median)'\n",
    " ]]\n",
    "\n",
    "area_df_plot = area_df_plot.set_index('Date')\n",
    "area_df_plot = area_df_plot.sort_index()"
   ]
  },
  {
   "cell_type": "code",
   "execution_count": null,
   "metadata": {
    "colab": {
     "base_uri": "https://localhost:8080/",
     "height": 297
    },
    "colab_type": "code",
    "id": "124XpRaAA5uC",
    "outputId": "08610382-ea1b-427e-fd2e-70224f7c389a"
   },
   "outputs": [
    {
     "data": {
      "image/png": "[encoded data removed]",
      "text/plain": [
       "<Figure size 432x288 with 2 Axes>"
      ]
     },
     "metadata": {
      "tags": []
     },
     "output_type": "display_data"
    }
   ],
   "source": [
    "#fig, ax1 = plt.subplots(figsize=(10,6))\n",
    "plot_options = {'labelrotation':15}\n",
    "sns.set_style('whitegrid')\n",
    "\n",
    "\n",
    "color = 'tab:green'\n",
    "ax1.set_xlabel('Month', fontsize=16)\n",
    "ax1.set_ylabel('Fuel (%) ', fontsize=16, color=color)\n",
    "ax1 = fuel_df_plot.plot(kind='bar',stacked=True,legend=False, cmap='twilight_shifted', alpha=0.5)\n",
    "ax1.tick_params(axis='y', color=color)\n",
    "ax1.tick_params(axis='x', **plot_options)\n",
    "\n",
    "\n",
    "ax2 = ax1.twinx()\n",
    "color = 'tab:red'\n",
    "#ax2.set_ylabel('Fire Spread', fontsize=16, color=color)\n",
    "ax2 = sns.lineplot(data = area_df_plot, markers=True, legend=False, palette='Reds_r', linewidth = 2)\n",
    "ax2.tick_params(axis='y', color=color)\n",
    "\n",
    "# lines, labels = ax1.get_legend_handles_labels()\n",
    "# lines2, labels2 = ax2.get_legend_handles_labels()\n",
    "# ax2.legend(lines + lines2 , labels + labels2 , bbox_to_anchor=(1.20, 1.05), framealpha=1)\n",
    "\n",
    "plt.tight_layout()\n",
    "plt.savefig(f'Figures/{fire_nm}_{fire_yr}_Fuelplot.png', dpi=400)"
   ]
  },
  {
   "cell_type": "markdown",
   "metadata": {
    "colab_type": "text",
    "id": "XRhBWfLENtbr"
   },
   "source": [
    "## Largest 25 Percentile Fires"
   ]
  },
  {
   "cell_type": "code",
   "execution_count": null,
   "metadata": {
    "colab": {},
    "colab_type": "code",
    "id": "3haKwK-zVRnD"
   },
   "outputs": [],
   "source": [
    "outPath = '/content/drive/My Drive/FireDrivers_Paper/FinalCSV_Info'\n",
    "derived_df = pd.read_csv(os.path.join(outPath, 'FireInfoVar_Final.csv'), index_col=None)"
   ]
  },
  {
   "cell_type": "code",
   "execution_count": null,
   "metadata": {
    "colab": {},
    "colab_type": "code",
    "id": "nO6AHAMNVRnH"
   },
   "outputs": [],
   "source": [
    "derived_df['YearJD'] = derived_df['Year'].astype('str').str.cat(derived_df['JulianDay'].astype('str'),sep=\"\")  \n",
    "derived_df['Date'] = pd.to_datetime(derived_df['YearJD'], format= '%Y%j')\n",
    "derived_df['Date'] =  derived_df['Date'].apply(lambda x: x.strftime('%Y-%m-%d'))\n",
    "derived_df['Datetime'] = derived_df['Date'] + ' 23:00:00'\n",
    "derived_df = derived_df[derived_df['Area (ha)'] != 0]\n",
    "derived_df['Area (ha)'] = np.log(derived_df['Area (ha)'])"
   ]
  },
  {
   "cell_type": "code",
   "execution_count": null,
   "metadata": {
    "colab": {},
    "colab_type": "code",
    "id": "7Xkf85ir0nyn"
   },
   "outputs": [],
   "source": [
    "raws_csv_list = lstFiles(f\"data/Final_CSV\", '.csv')\n",
    "combined_csv = pd.concat([pd.read_csv(f) for f in raws_csv_list ])"
   ]
  },
  {
   "cell_type": "code",
   "execution_count": null,
   "metadata": {
    "colab": {},
    "colab_type": "code",
    "id": "iGoGE44LB4kY"
   },
   "outputs": [],
   "source": [
    "combined_csv = combined_csv[combined_csv['Date'].notna()]\n",
    "combined_csv['Date'] = combined_csv['Date'].astype('int64')"
   ]
  },
  {
   "cell_type": "code",
   "execution_count": null,
   "metadata": {
    "colab": {},
    "colab_type": "code",
    "id": "QiP1hJoH0wv9"
   },
   "outputs": [],
   "source": [
    "filt_raws_daily = getDailyRAWS(combined_csv) #[(combined_csv['Fire'].isin(top25_firenm))]\n",
    "\n",
    "# filt_raws['Date'] = pd.to_datetime(filt_raws['Datetime'], format= '%Y-%m-%d %H:%M:%S')\n",
    "# filt_raws['Date'] =  filt_raws['Date'].apply(lambda x: x.strftime('%Y-%m-%d'))\n",
    "# filt_raws_daily = filt_raws.groupby(by=['Date', 'Fire']).mean().reset_index()"
   ]
  },
  {
   "cell_type": "code",
   "execution_count": null,
   "metadata": {
    "colab": {},
    "colab_type": "code",
    "id": "NFta4OKAKIcg"
   },
   "outputs": [],
   "source": [
    "# response var: 0\n",
    "# topo: 1 \n",
    "# weather : 2 \n",
    "# fuel : 3 \n",
    "# wind : 4\n",
    "# VPD : 5\n",
    "# Temp : 6\n",
    "\n",
    "var_list = {  \n",
    " 'Aspect_x': 1,\n",
    " 'CBD': 3,\n",
    " 'CONIFER': 3,\n",
    " 'CONIFER_HA': 3,\n",
    " 'DEM': 1,\n",
    " 'EVI': 3,\n",
    " 'EXOTIC_HER': 3,\n",
    " 'FBFM1': 3,\n",
    " 'FBFM10': 3,\n",
    " 'FBFM11': 3,\n",
    " 'FBFM12': 3,\n",
    " 'FBFM2': 3,\n",
    " 'FBFM3': 3,\n",
    " 'FBFM4': 3,\n",
    " 'FBFM5': 3,\n",
    " 'FBFM6': 3,\n",
    " 'FBFM7': 3,\n",
    " 'FBFM8': 3,\n",
    " 'FBFM9': 3,\n",
    " 'FFWI': 2,\n",
    " 'GRASSLAND': 3,\n",
    " 'HARDWOOD': 3,\n",
    " 'MaxNDVI': 3,\n",
    " 'NDMI': 3,\n",
    " 'NDMIDelta': 3,\n",
    " 'NDVI': 3,\n",
    " 'RIPARIAN': 3,\n",
    " 'SHRUBLAND': 3,\n",
    " 'SPARSELY_V': 3,\n",
    " 'Slope': 1,\n",
    "#  'URBAN': 3,\n",
    " 'VALUE_108': 3,\n",
    " 'VALUE_109': 3,\n",
    " 'VALUE_110': 3,\n",
    " 'VALUE_111': 3,\n",
    " 'VALUE_112': 3,\n",
    "#  'VALUE_1': 1,\n",
    "#  'VALUE_2': 1,\n",
    "#  'VALUE_3': 1,\n",
    "#  'VALUE_4': 1,\n",
    "#  'VALUE_5': 1,\n",
    " 'burningindexg': 2,\n",
    " 'deadfuelmoisture1000hr': 2,\n",
    " 'deadfuelmoisture100hr': 2,\n",
    " 'energyreleasecomponent': 2,\n",
    " 'maximumairtemperature': 6,\n",
    " 'maximumrelativehumidity': 2,\n",
    " 'meanvaporpressuredeficit': 5,\n",
    " 'minimumairtemperature': 2,\n",
    " 'minimumrelativehumidity': 2,\n",
    " #'precipitationamount': 2,\n",
    " 'referenceevapotranspirationalfalfa': 2,\n",
    " 'referenceevapotranspirationgrass': 2,\n",
    " 'specifichumidity': 2,\n",
    " 'srad': 2,\n",
    " 'surfacedownwellingshortwavefluxinair': 2,\n",
    " 'tmax': 6,\n",
    " 'tmin': 6,\n",
    " #'windfromdirection': 2,\n",
    " 'windspeed': 4,\n",
    " 'BARREN': 3,\n",
    " 'shortHeight': 3,\n",
    " 'medShortHeight': 3,\n",
    " 'medHeight': 3,\n",
    " 'Total_Solar_Rad': 2,\n",
    " 'Wind_Avg_mph': 4,\n",
    " #'Wind_Dir_Deg': 2,\n",
    " 'Wind_Max_mph': 4,\n",
    " 'Air_Temp_Avg': 6,\n",
    " 'Air_Temp_Max': 6,\n",
    " 'Fuel_Temp_Avg': 2,\n",
    " 'Fuel_Moist_Per': 2,\n",
    " 'Rel_Hum_Per': 2,\n",
    " 'VPD' : 5,\n",
    " #'Dew_Point_Deg': 2,\n",
    " #'Wet_Bulb': 2\n",
    " }"
   ]
  },
  {
   "cell_type": "code",
   "execution_count": null,
   "metadata": {
    "colab": {},
    "colab_type": "code",
    "id": "OC7pgYut06Nb"
   },
   "outputs": [],
   "source": [
    "def updateEcoNames(merged_rim_df):\n",
    "  merged_rim_df.loc[merged_rim_df.ecoID == 5, 'NA_L3NAME'] = \"Northern Coastal Sage\"\n",
    "  merged_rim_df.loc[merged_rim_df.ecoID == 11, 'NA_L3NAME'] = \"Southern Coastal Sage\"\n",
    "  merged_rim_df.loc[merged_rim_df.ecoID == 8, 'NA_L3NAME'] = \"Southern/Baja\"\n",
    "  merged_rim_df.loc[merged_rim_df.ecoID == 2, 'NA_L3NAME'] = \"Southern/Baja\"\n",
    "  merged_rim_df.loc[merged_rim_df.ecoID == 2, 'ecoID'] = 8\n",
    "  merged_rim_df.loc[merged_rim_df.ecoID == 1, 'NA_L3NAME'] = \"Northern Coastal Sage\"\n",
    "  merged_rim_df.loc[merged_rim_df.ecoID == 1, 'ecoID'] = 5\n",
    "  merged_rim_df.loc[merged_rim_df.ecoID == 0, 'NA_L3NAME'] = \"Klamath Mountains\"\n",
    "  merged_rim_df.loc[merged_rim_df.ecoID == 0, 'ecoID'] = 7\n",
    "  merged_rim_df.loc[merged_rim_df.ecoID == 12, 'NA_L3NAME'] = \"Cascades\"\n",
    "  merged_rim_df.loc[merged_rim_df.ecoID == 12, 'ecoID'] = 3\n",
    "  return merged_rim_df"
   ]
  },
  {
   "cell_type": "code",
   "execution_count": null,
   "metadata": {
    "colab": {},
    "colab_type": "code",
    "id": "X_wOtpm11zuT"
   },
   "outputs": [],
   "source": [
    "def get_correlation(filt_df, x, response_Var, var_list):\n",
    "  for key in var_list: \n",
    "    df = filt_df[filt_df[x] == key]\n",
    "    corr_val = df[response_Var].corr(df['value'])\n",
    "    eco_region.append(ecoID)\n",
    "    ind.append(ecounique)\n",
    "    var_nm.append(key)\n",
    "    r_val.append(abs(corr_val))\n",
    "    class_val.append(var_list[key])\n",
    "    hue_val.append(q)"
   ]
  },
  {
   "cell_type": "code",
   "execution_count": null,
   "metadata": {
    "colab": {},
    "colab_type": "code",
    "id": "xq3bBX_L0FLJ"
   },
   "outputs": [],
   "source": [
    "eco_region = []\n",
    "r_val = []\n",
    "var_nm = [] \n",
    "class_val = []\n",
    "hue_val = []\n",
    "ind = []\n",
    "\n",
    "response_Var = 'Magnitude (upperQ)'\n",
    "\n",
    "for i in range(0, 90 + 1, 5): #range(0, 100 + 1, 14)\n",
    "  q = i/100\n",
    "  Top25_area_val = derived_df[response_Var].quantile(q)\n",
    "  top25_area = derived_df[derived_df[response_Var] >= Top25_area_val].reset_index()\n",
    "  merged_rim_df = pd.merge(top25_area, filt_raws_daily, how='left', left_on=['Date', 'FireName'], right_on=['Date', 'Fire'])\n",
    "  merged_rim_df = updateEcoNames(merged_rim_df)\n",
    "  ecoID_List = merged_rim_df['NA_L3NAME'].unique().tolist()\n",
    "  ecoID_name = [s + f'_{str(i)}' for s in ecoID_List]\n",
    "  ecoID, ecounique = ('ALL', 'ALL')\n",
    "  for ecoID, ecounique in list(zip(ecoID_List, ecoID_name)): \n",
    "    df  = merged_rim_df[(merged_rim_df['NA_L3NAME'] == ecoID)]\n",
    "    filt_df = pd.melt(df, id_vars=['FireName', 'JulianDay', 'Area (ha)', 'Magnitude (upperQ)'], value_vars=list(var_list.keys())).dropna()\n",
    "    get_correlation(filt_df, 'variable', response_Var, var_list)"
   ]
  },
  {
   "cell_type": "code",
   "execution_count": null,
   "metadata": {
    "colab": {},
    "colab_type": "code",
    "id": "k1FxYTqKiU6h"
   },
   "outputs": [],
   "source": [
    "corr_df = pd.DataFrame({'ind' : ind, 'Ecoregion': eco_region, 'Quantile': hue_val, 'Variable Name': var_nm, 'r-value': r_val, 'Variable Type': class_val})\n",
    "corr_df = corr_df.dropna()"
   ]
  },
  {
   "cell_type": "code",
   "execution_count": null,
   "metadata": {
    "colab": {},
    "colab_type": "code",
    "id": "qAkNjHk0Jbp5"
   },
   "outputs": [],
   "source": [
    "corr_df"
   ]
  },
  {
   "cell_type": "markdown",
   "metadata": {
    "colab_type": "text",
    "id": "NSlUM7kdQ_K2"
   },
   "source": [
    "## Correlate by Fire"
   ]
  },
  {
   "cell_type": "code",
   "execution_count": null,
   "metadata": {
    "colab": {
     "base_uri": "https://localhost:8080/",
     "height": 102
    },
    "colab_type": "code",
    "id": "s3iNCNRUrtk5",
    "outputId": "1e04aeda-8d1f-4539-b7e8-f3966068041a"
   },
   "outputs": [
    {
     "name": "stdout",
     "output_type": "stream",
     "text": [
      "display.max_colwidth : int or None\n",
      "    The maximum width in characters of a column in the repr of\n",
      "    a pandas data structure. When the column overflows, a \"...\"\n",
      "    placeholder is embedded in the output. A 'None' value means unlimited.\n",
      "    [default: 50] [currently: 400]\n"
     ]
    }
   ],
   "source": [
    "pd.set_option('max_rows', 99999)\n",
    "pd.set_option('max_colwidth', 400)\n",
    "pd.describe_option('max_colwidth')"
   ]
  },
  {
   "cell_type": "code",
   "execution_count": null,
   "metadata": {
    "colab": {},
    "colab_type": "code",
    "id": "_96t15Y54SWu"
   },
   "outputs": [],
   "source": [
    "corr_df = corr_df[['ind', 'Ecoregion','Quantile', 'Variable Name', 'r-value','Variable Type']]\n",
    "corr_df = corr_df.loc[corr_df.groupby(['ind', 'Ecoregion', 'Variable Type', 'Quantile'])['r-value'].idxmax()].set_index(['ind']).reset_index()\n",
    "corr_df = corr_df.sort_values(by=['Quantile'])"
   ]
  },
  {
   "cell_type": "code",
   "execution_count": null,
   "metadata": {
    "colab": {},
    "colab_type": "code",
    "id": "TaM9tAGwwB0x"
   },
   "outputs": [],
   "source": [
    "class_val_dict = {\n",
    "1 : 'Topography',\n",
    "2 : 'Weather',\n",
    "3 : 'Fuel' ,\n",
    "4 : 'Wind' ,\n",
    "5 : 'VPD' ,\n",
    "6 : 'Temperature'}\n",
    "\n",
    "corr_df = corr_df.replace({\"Variable Type\": class_val_dict})"
   ]
  },
  {
   "cell_type": "code",
   "execution_count": null,
   "metadata": {
    "colab": {
     "base_uri": "https://localhost:8080/",
     "height": 441
    },
    "colab_type": "code",
    "id": "01F5-LZOtjfj",
    "outputId": "17909a7c-71d0-4c36-e378-576bc817f055"
   },
   "outputs": [
    {
     "data": {
      "image/png": "[encoded data removed]",
      "text/plain": [
       "<Figure size 746.875x432 with 6 Axes>"
      ]
     },
     "metadata": {
      "tags": []
     },
     "output_type": "display_data"
    }
   ],
   "source": [
    "import seaborn as sns\n",
    "sns.set_style('ticks')\n",
    "g = sns.FacetGrid(corr_df, col=\"Ecoregion\", hue=\"Variable Type\", col_wrap=3, palette='gist_earth')\n",
    "g = (g.map(plt.plot, \"Quantile\", \"r-value\", linewidth = 2)\n",
    "     .add_legend()\n",
    "     .set_titles(\"{col_name}\"))\n",
    "\n",
    "plt.savefig(f'Figures/quantile_correlation_facetbyEco_Magnitude.png', dpi=400)"
   ]
  },
  {
   "cell_type": "code",
   "execution_count": null,
   "metadata": {
    "colab": {},
    "colab_type": "code",
    "id": "pZY1bSGh3wRt"
   },
   "outputs": [],
   "source": [
    "x_y_z = corr_df.pivot(index='Ecoregion', columns='Variable Type', values=['r-value', 'Variable Name'])\n",
    "x_y_z.columns = ['ind', 'Topography', 'Weather', 'Fuel', 'Wind', 'VPD', 'Temp_max', 'Topo_Var', 'Weather_Var', 'Fuel_Var', 'Wind_Var', 'VPD_Var', 'Temp_Var']\n",
    "x_y_z[['Ecoregion','Quantile']] = x_y_z.ind.str.split(\"_\",expand=True) "
   ]
  },
  {
   "cell_type": "code",
   "execution_count": null,
   "metadata": {
    "colab": {},
    "colab_type": "code",
    "id": "fM0zBGdwKqZy"
   },
   "outputs": [],
   "source": [
    "corr_df"
   ]
  },
  {
   "cell_type": "code",
   "execution_count": null,
   "metadata": {
    "colab": {},
    "colab_type": "code",
    "id": "Yo49l4iDG0LP"
   },
   "outputs": [],
   "source": [
    "x_y_z"
   ]
  },
  {
   "cell_type": "code",
   "execution_count": null,
   "metadata": {
    "colab": {
     "base_uri": "https://localhost:8080/",
     "height": 542
    },
    "colab_type": "code",
    "id": "djWZfHx9jBil",
    "outputId": "706ee852-3218-4adb-be6b-ac45031dc4a8"
   },
   "outputs": [
    {
     "data": {
      "text/html": [
       "<html>\n",
       "<head><meta charset=\"utf-8\" /></head>\n",
       "<body>\n",
       "    <div>\n",
       "            <script src=\"https://cdnjs.cloudflare.com/ajax/libs/mathjax/2.7.5/MathJax.js?config=TeX-AMS-MML_SVG\"></script><script type=\"text/javascript\">if (window.MathJax) {MathJax.Hub.Config({SVG: {font: \"STIX-Web\"}});}</script>\n",
       "                <script type=\"text/javascript\">window.PlotlyConfig = {MathJaxConfig: 'local'};</script>\n",
       "        <script src=\"https://cdn.plot.ly/plotly-latest.min.js\"></script>    \n",
       "            <div id=\"87d7f2cf-3740-4f55-a106-f8af3ab8673a\" class=\"plotly-graph-div\" style=\"height:525px; width:100%;\"></div>\n",
       "            <script type=\"text/javascript\">\n",
       "                \n",
       "                    window.PLOTLYENV=window.PLOTLYENV || {};\n",
       "                    \n",
       "                if (document.getElementById(\"87d7f2cf-3740-4f55-a106-f8af3ab8673a\")) {\n",
       "                    Plotly.newPlot(\n",
       "                        '87d7f2cf-3740-4f55-a106-f8af3ab8673a',\n",
       "                        [{\"hoverlabel\": {\"namelength\": 0}, \"hovertemplate\": \"<b>%{hovertext}</b><br><br>eco_region=Cascades<br>Topography=%{x}<br>Wind=%{y}<br>Fuel=%{z}<br>hue_val=%{marker.color}\", \"hovertext\": [\"Cascades\", \"Cascades\", \"Cascades\", \"Cascades\", \"Cascades\", \"Cascades\", \"Cascades\", \"Cascades\"], \"legendgroup\": \"eco_region=Cascades\", \"marker\": {\"color\": [0, 14, 28, 42, 56, 70, 84, 98], \"coloraxis\": \"coloraxis\", \"symbol\": \"square\"}, \"mode\": \"markers\", \"name\": \"eco_region=Cascades\", \"scene\": \"scene\", \"showlegend\": true, \"type\": \"scatter3d\", \"x\": [0.29996234161027285, 0.29315722828607227, 0.33525350116769537, 0.37502529761377407, 0.40760721727427907, 0.4275189600111554, 0.6319284454249149, 0.7265351279854797], \"y\": [0.4414865815029318, 0.4414865815029318, 0.4439634332994702, 0.5202366249071151, 0.5872923313091971, 0.5730318060346563, 0.5438409356442893, 0.7781318578156181], \"z\": [0.33753590640708125, 0.3231755062825631, 0.31868478141956363, 0.3701756164311998, 0.36590076564345436, 0.531798071354026, 0.6694265604988485, 0.8835439150397688]}, {\"hoverlabel\": {\"namelength\": 0}, \"hovertemplate\": \"<b>%{hovertext}</b><br><br>eco_region=Klamath Mountains<br>Topography=%{x}<br>Wind=%{y}<br>Fuel=%{z}<br>hue_val=%{marker.color}\", \"hovertext\": [\"Klamath Mountains\", \"Klamath Mountains\", \"Klamath Mountains\", \"Klamath Mountains\", \"Klamath Mountains\", \"Klamath Mountains\", \"Klamath Mountains\", \"Klamath Mountains\"], \"legendgroup\": \"eco_region=Klamath Mountains\", \"marker\": {\"color\": [0, 14, 28, 42, 56, 70, 84, 98], \"coloraxis\": \"coloraxis\", \"symbol\": \"circle-open\"}, \"mode\": \"markers\", \"name\": \"eco_region=Klamath Mountains\", \"scene\": \"scene\", \"showlegend\": true, \"type\": \"scatter3d\", \"x\": [0.12440501267268074, 0.1727522139259353, 0.22717690372220958, 0.2317279859073063, 0.24180763931621815, 0.25455793246270214, 0.23794486539217505, 0.3383356377089615], \"y\": [0.22553894701781296, 0.2107410587818779, 0.19611609377820885, 0.20677629006193002, 0.18651370729444847, 0.17303686746221883, 0.1989869470218462, 0.6133756488476308], \"z\": [0.32013213409172836, 0.3158655829054971, 0.304979410384143, 0.3035314906813338, 0.31801850266085574, 0.32862075990755574, 0.32810910822414335, 0.6815076936410824]}, {\"hoverlabel\": {\"namelength\": 0}, \"hovertemplate\": \"<b>%{hovertext}</b><br><br>eco_region=Northern Coastal Sage<br>Topography=%{x}<br>Wind=%{y}<br>Fuel=%{z}<br>hue_val=%{marker.color}\", \"hovertext\": [\"Northern Coastal Sage\", \"Northern Coastal Sage\", \"Northern Coastal Sage\", \"Northern Coastal Sage\", \"Northern Coastal Sage\", \"Northern Coastal Sage\", \"Northern Coastal Sage\", \"Northern Coastal Sage\"], \"legendgroup\": \"eco_region=Northern Coastal Sage\", \"marker\": {\"color\": [0, 14, 28, 42, 56, 70, 84, 98], \"coloraxis\": \"coloraxis\", \"symbol\": \"diamond\"}, \"mode\": \"markers\", \"name\": \"eco_region=Northern Coastal Sage\", \"scene\": \"scene\", \"showlegend\": true, \"type\": \"scatter3d\", \"x\": [0.26629729559863274, 0.2645890060704831, 0.2884644513840359, 0.2659378261069281, 0.2133407351499136, 0.16913682673300628, 0.19534607006861812, 0.4263988901291919], \"y\": [0.14452410434650043, 0.13455400618695917, 0.1199181466153704, 0.08123064918066585, 0.044984976677406675, 0.08577516415108978, 0.10709605439338979, 0.509093447028505], \"z\": [0.3377989403957217, 0.3448853979594988, 0.3358981386025971, 0.320252442107614, 0.29077248203866807, 0.16972964650814382, 0.21576696632392742, 0.939849772401101]}, {\"hoverlabel\": {\"namelength\": 0}, \"hovertemplate\": \"<b>%{hovertext}</b><br><br>eco_region=Sierra Nevada<br>Topography=%{x}<br>Wind=%{y}<br>Fuel=%{z}<br>hue_val=%{marker.color}\", \"hovertext\": [\"Sierra Nevada\", \"Sierra Nevada\", \"Sierra Nevada\", \"Sierra Nevada\", \"Sierra Nevada\", \"Sierra Nevada\", \"Sierra Nevada\", \"Sierra Nevada\"], \"legendgroup\": \"eco_region=Sierra Nevada\", \"marker\": {\"color\": [0, 14, 28, 42, 56, 70, 84, 98], \"coloraxis\": \"coloraxis\", \"symbol\": \"circle\"}, \"mode\": \"markers\", \"name\": \"eco_region=Sierra Nevada\", \"scene\": \"scene\", \"showlegend\": true, \"type\": \"scatter3d\", \"x\": [0.4365867481070418, 0.35518758781457416, 0.28875702916201884, 0.26037567398516226, 0.23213857831843457, 0.25846736477874144, 0.26884895987172525, 1.0], \"y\": [0.45807444681124965, 0.4028721897023038, 0.4279115427171713, 0.46032596466853404, 0.4930869339399162, 0.5221383554023892, 0.4503058772151307, 1.0], \"z\": [0.4411915182861095, 0.43342083783206276, 0.41759615044657794, 0.420408041283447, 0.3655617299323862, 0.40932246948426937, 0.533957631239734, 1.0]}, {\"hoverlabel\": {\"namelength\": 0}, \"hovertemplate\": \"<b>%{hovertext}</b><br><br>eco_region=Southern Coastal Sage<br>Topography=%{x}<br>Wind=%{y}<br>Fuel=%{z}<br>hue_val=%{marker.color}\", \"hovertext\": [\"Southern Coastal Sage\", \"Southern Coastal Sage\", \"Southern Coastal Sage\", \"Southern Coastal Sage\", \"Southern Coastal Sage\", \"Southern Coastal Sage\", \"Southern Coastal Sage\", \"Southern Coastal Sage\"], \"legendgroup\": \"eco_region=Southern Coastal Sage\", \"marker\": {\"color\": [0, 14, 28, 42, 56, 70, 84, 98], \"coloraxis\": \"coloraxis\", \"symbol\": \"cross\"}, \"mode\": \"markers\", \"name\": \"eco_region=Southern Coastal Sage\", \"scene\": \"scene\", \"showlegend\": true, \"type\": \"scatter3d\", \"x\": [0.2435035827924509, 0.2435035827924509, 0.2435035827924509, 0.2497984289540336, 0.27491974848810435, 0.332091751874287, 0.25824179501493677, 1.0], \"y\": [0.35212097358754085, 0.35212097358754085, 0.35212097358754085, 0.33444623312351895, 0.31728151891992185, 0.47975997925385405, 0.35950831317536136, 1.0], \"z\": [0.4188055374173915, 0.4188055374173915, 0.4188055374173915, 0.4211723451709339, 0.5154829603335115, 0.507493425082148, 0.5159732656135884, 1.0]}, {\"hoverlabel\": {\"namelength\": 0}, \"hovertemplate\": \"<b>%{hovertext}</b><br><br>eco_region=Southern/Baja<br>Topography=%{x}<br>Wind=%{y}<br>Fuel=%{z}<br>hue_val=%{marker.color}\", \"hovertext\": [\"Southern/Baja\", \"Southern/Baja\", \"Southern/Baja\", \"Southern/Baja\", \"Southern/Baja\", \"Southern/Baja\", \"Southern/Baja\", \"Southern/Baja\"], \"legendgroup\": \"eco_region=Southern/Baja\", \"marker\": {\"color\": [0, 14, 28, 42, 56, 70, 84, 98], \"coloraxis\": \"coloraxis\", \"symbol\": \"diamond-open\"}, \"mode\": \"markers\", \"name\": \"eco_region=Southern/Baja\", \"scene\": \"scene\", \"showlegend\": true, \"type\": \"scatter3d\", \"x\": [0.3147749684413624, 0.3147749684413624, 0.2787247449598729, 0.255894521218733, 0.23857108447726472, 0.26925481673533536, 0.2568596717993699, 0.9194281604913722], \"y\": [0.44773832896068616, 0.44773832896068616, 0.45077923082799987, 0.43637154072568884, 0.43224610700190824, 0.41255835191144113, 0.2794217552509806, 0.8614338913469166], \"z\": [0.40875725911778704, 0.40875725911778704, 0.4443008952951767, 0.4613155396170146, 0.41267259903654546, 0.4007181960749445, 0.43506577776501393, 0.9998551864031333]}],\n",
       "                        {\"coloraxis\": {\"colorbar\": {\"title\": {\"text\": \"hue_val\"}}, \"colorscale\": [[0.0, \"rgb(243, 231, 155)\"], [0.16666666666666666, \"rgb(250, 196, 132)\"], [0.3333333333333333, \"rgb(248, 160, 126)\"], [0.5, \"rgb(235, 127, 134)\"], [0.6666666666666666, \"rgb(206, 102, 147)\"], [0.8333333333333334, \"rgb(160, 89, 160)\"], [1.0, \"rgb(92, 83, 165)\"]]}, \"legend\": {\"tracegroupgap\": 0}, \"margin\": {\"t\": 60}, \"scene\": {\"domain\": {\"x\": [0.0, 1.0], \"y\": [0.0, 1.0]}, \"xaxis\": {\"title\": {\"text\": \"Topography\"}}, \"yaxis\": {\"title\": {\"text\": \"Wind\"}}, \"zaxis\": {\"title\": {\"text\": \"Fuel\"}}}, \"showlegend\": false, \"template\": {\"data\": {\"bar\": [{\"error_x\": {\"color\": \"#2a3f5f\"}, \"error_y\": {\"color\": \"#2a3f5f\"}, \"marker\": {\"line\": {\"color\": \"#E5ECF6\", \"width\": 0.5}}, \"type\": \"bar\"}], \"barpolar\": [{\"marker\": {\"line\": {\"color\": \"#E5ECF6\", \"width\": 0.5}}, \"type\": \"barpolar\"}], \"carpet\": [{\"aaxis\": {\"endlinecolor\": \"#2a3f5f\", \"gridcolor\": \"white\", \"linecolor\": \"white\", \"minorgridcolor\": \"white\", \"startlinecolor\": \"#2a3f5f\"}, \"baxis\": {\"endlinecolor\": \"#2a3f5f\", \"gridcolor\": \"white\", \"linecolor\": \"white\", \"minorgridcolor\": \"white\", \"startlinecolor\": \"#2a3f5f\"}, \"type\": \"carpet\"}], \"choropleth\": [{\"colorbar\": {\"outlinewidth\": 0, \"ticks\": \"\"}, \"type\": \"choropleth\"}], \"contour\": [{\"colorbar\": {\"outlinewidth\": 0, \"ticks\": \"\"}, \"colorscale\": [[0.0, \"#0d0887\"], [0.1111111111111111, \"#46039f\"], [0.2222222222222222, \"#7201a8\"], [0.3333333333333333, \"#9c179e\"], [0.4444444444444444, \"#bd3786\"], [0.5555555555555556, \"#d8576b\"], [0.6666666666666666, \"#ed7953\"], [0.7777777777777778, \"#fb9f3a\"], [0.8888888888888888, \"#fdca26\"], [1.0, \"#f0f921\"]], \"type\": \"contour\"}], \"contourcarpet\": [{\"colorbar\": {\"outlinewidth\": 0, \"ticks\": \"\"}, \"type\": \"contourcarpet\"}], \"heatmap\": [{\"colorbar\": {\"outlinewidth\": 0, \"ticks\": \"\"}, \"colorscale\": [[0.0, \"#0d0887\"], [0.1111111111111111, \"#46039f\"], [0.2222222222222222, \"#7201a8\"], [0.3333333333333333, \"#9c179e\"], [0.4444444444444444, \"#bd3786\"], [0.5555555555555556, \"#d8576b\"], [0.6666666666666666, \"#ed7953\"], [0.7777777777777778, \"#fb9f3a\"], [0.8888888888888888, \"#fdca26\"], [1.0, \"#f0f921\"]], \"type\": \"heatmap\"}], \"heatmapgl\": [{\"colorbar\": {\"outlinewidth\": 0, \"ticks\": \"\"}, \"colorscale\": [[0.0, \"#0d0887\"], [0.1111111111111111, \"#46039f\"], [0.2222222222222222, \"#7201a8\"], [0.3333333333333333, \"#9c179e\"], [0.4444444444444444, \"#bd3786\"], [0.5555555555555556, \"#d8576b\"], [0.6666666666666666, \"#ed7953\"], [0.7777777777777778, \"#fb9f3a\"], [0.8888888888888888, \"#fdca26\"], [1.0, \"#f0f921\"]], \"type\": \"heatmapgl\"}], \"histogram\": [{\"marker\": {\"colorbar\": {\"outlinewidth\": 0, \"ticks\": \"\"}}, \"type\": \"histogram\"}], \"histogram2d\": [{\"colorbar\": {\"outlinewidth\": 0, \"ticks\": \"\"}, \"colorscale\": [[0.0, \"#0d0887\"], [0.1111111111111111, \"#46039f\"], [0.2222222222222222, \"#7201a8\"], [0.3333333333333333, \"#9c179e\"], [0.4444444444444444, \"#bd3786\"], [0.5555555555555556, \"#d8576b\"], [0.6666666666666666, \"#ed7953\"], [0.7777777777777778, \"#fb9f3a\"], [0.8888888888888888, \"#fdca26\"], [1.0, \"#f0f921\"]], \"type\": \"histogram2d\"}], \"histogram2dcontour\": [{\"colorbar\": {\"outlinewidth\": 0, \"ticks\": \"\"}, \"colorscale\": [[0.0, \"#0d0887\"], [0.1111111111111111, \"#46039f\"], [0.2222222222222222, \"#7201a8\"], [0.3333333333333333, \"#9c179e\"], [0.4444444444444444, \"#bd3786\"], [0.5555555555555556, \"#d8576b\"], [0.6666666666666666, \"#ed7953\"], [0.7777777777777778, \"#fb9f3a\"], [0.8888888888888888, \"#fdca26\"], [1.0, \"#f0f921\"]], \"type\": \"histogram2dcontour\"}], \"mesh3d\": [{\"colorbar\": {\"outlinewidth\": 0, \"ticks\": \"\"}, \"type\": \"mesh3d\"}], \"parcoords\": [{\"line\": {\"colorbar\": {\"outlinewidth\": 0, \"ticks\": \"\"}}, \"type\": \"parcoords\"}], \"pie\": [{\"automargin\": true, \"type\": \"pie\"}], \"scatter\": [{\"marker\": {\"colorbar\": {\"outlinewidth\": 0, \"ticks\": \"\"}}, \"type\": \"scatter\"}], \"scatter3d\": [{\"line\": {\"colorbar\": {\"outlinewidth\": 0, \"ticks\": \"\"}}, \"marker\": {\"colorbar\": {\"outlinewidth\": 0, \"ticks\": \"\"}}, \"type\": \"scatter3d\"}], \"scattercarpet\": [{\"marker\": {\"colorbar\": {\"outlinewidth\": 0, \"ticks\": \"\"}}, \"type\": \"scattercarpet\"}], \"scattergeo\": [{\"marker\": {\"colorbar\": {\"outlinewidth\": 0, \"ticks\": \"\"}}, \"type\": \"scattergeo\"}], \"scattergl\": [{\"marker\": {\"colorbar\": {\"outlinewidth\": 0, \"ticks\": \"\"}}, \"type\": \"scattergl\"}], \"scattermapbox\": [{\"marker\": {\"colorbar\": {\"outlinewidth\": 0, \"ticks\": \"\"}}, \"type\": \"scattermapbox\"}], \"scatterpolar\": [{\"marker\": {\"colorbar\": {\"outlinewidth\": 0, \"ticks\": \"\"}}, \"type\": \"scatterpolar\"}], \"scatterpolargl\": [{\"marker\": {\"colorbar\": {\"outlinewidth\": 0, \"ticks\": \"\"}}, \"type\": \"scatterpolargl\"}], \"scatterternary\": [{\"marker\": {\"colorbar\": {\"outlinewidth\": 0, \"ticks\": \"\"}}, \"type\": \"scatterternary\"}], \"surface\": [{\"colorbar\": {\"outlinewidth\": 0, \"ticks\": \"\"}, \"colorscale\": [[0.0, \"#0d0887\"], [0.1111111111111111, \"#46039f\"], [0.2222222222222222, \"#7201a8\"], [0.3333333333333333, \"#9c179e\"], [0.4444444444444444, \"#bd3786\"], [0.5555555555555556, \"#d8576b\"], [0.6666666666666666, \"#ed7953\"], [0.7777777777777778, \"#fb9f3a\"], [0.8888888888888888, \"#fdca26\"], [1.0, \"#f0f921\"]], \"type\": \"surface\"}], \"table\": [{\"cells\": {\"fill\": {\"color\": \"#EBF0F8\"}, \"line\": {\"color\": \"white\"}}, \"header\": {\"fill\": {\"color\": \"#C8D4E3\"}, \"line\": {\"color\": \"white\"}}, \"type\": \"table\"}]}, \"layout\": {\"annotationdefaults\": {\"arrowcolor\": \"#2a3f5f\", \"arrowhead\": 0, \"arrowwidth\": 1}, \"coloraxis\": {\"colorbar\": {\"outlinewidth\": 0, \"ticks\": \"\"}}, \"colorscale\": {\"diverging\": [[0, \"#8e0152\"], [0.1, \"#c51b7d\"], [0.2, \"#de77ae\"], [0.3, \"#f1b6da\"], [0.4, \"#fde0ef\"], [0.5, \"#f7f7f7\"], [0.6, \"#e6f5d0\"], [0.7, \"#b8e186\"], [0.8, \"#7fbc41\"], [0.9, \"#4d9221\"], [1, \"#276419\"]], \"sequential\": [[0.0, \"#0d0887\"], [0.1111111111111111, \"#46039f\"], [0.2222222222222222, \"#7201a8\"], [0.3333333333333333, \"#9c179e\"], [0.4444444444444444, \"#bd3786\"], [0.5555555555555556, \"#d8576b\"], [0.6666666666666666, \"#ed7953\"], [0.7777777777777778, \"#fb9f3a\"], [0.8888888888888888, \"#fdca26\"], [1.0, \"#f0f921\"]], \"sequentialminus\": [[0.0, \"#0d0887\"], [0.1111111111111111, \"#46039f\"], [0.2222222222222222, \"#7201a8\"], [0.3333333333333333, \"#9c179e\"], [0.4444444444444444, \"#bd3786\"], [0.5555555555555556, \"#d8576b\"], [0.6666666666666666, \"#ed7953\"], [0.7777777777777778, \"#fb9f3a\"], [0.8888888888888888, \"#fdca26\"], [1.0, \"#f0f921\"]]}, \"colorway\": [\"#636efa\", \"#EF553B\", \"#00cc96\", \"#ab63fa\", \"#FFA15A\", \"#19d3f3\", \"#FF6692\", \"#B6E880\", \"#FF97FF\", \"#FECB52\"], \"font\": {\"color\": \"#2a3f5f\"}, \"geo\": {\"bgcolor\": \"white\", \"lakecolor\": \"white\", \"landcolor\": \"#E5ECF6\", \"showlakes\": true, \"showland\": true, \"subunitcolor\": \"white\"}, \"hoverlabel\": {\"align\": \"left\"}, \"hovermode\": \"closest\", \"mapbox\": {\"style\": \"light\"}, \"paper_bgcolor\": \"white\", \"plot_bgcolor\": \"#E5ECF6\", \"polar\": {\"angularaxis\": {\"gridcolor\": \"white\", \"linecolor\": \"white\", \"ticks\": \"\"}, \"bgcolor\": \"#E5ECF6\", \"radialaxis\": {\"gridcolor\": \"white\", \"linecolor\": \"white\", \"ticks\": \"\"}}, \"scene\": {\"xaxis\": {\"backgroundcolor\": \"#E5ECF6\", \"gridcolor\": \"white\", \"gridwidth\": 2, \"linecolor\": \"white\", \"showbackground\": true, \"ticks\": \"\", \"zerolinecolor\": \"white\"}, \"yaxis\": {\"backgroundcolor\": \"#E5ECF6\", \"gridcolor\": \"white\", \"gridwidth\": 2, \"linecolor\": \"white\", \"showbackground\": true, \"ticks\": \"\", \"zerolinecolor\": \"white\"}, \"zaxis\": {\"backgroundcolor\": \"#E5ECF6\", \"gridcolor\": \"white\", \"gridwidth\": 2, \"linecolor\": \"white\", \"showbackground\": true, \"ticks\": \"\", \"zerolinecolor\": \"white\"}}, \"shapedefaults\": {\"line\": {\"color\": \"#2a3f5f\"}}, \"ternary\": {\"aaxis\": {\"gridcolor\": \"white\", \"linecolor\": \"white\", \"ticks\": \"\"}, \"baxis\": {\"gridcolor\": \"white\", \"linecolor\": \"white\", \"ticks\": \"\"}, \"bgcolor\": \"#E5ECF6\", \"caxis\": {\"gridcolor\": \"white\", \"linecolor\": \"white\", \"ticks\": \"\"}}, \"title\": {\"x\": 0.05}, \"xaxis\": {\"automargin\": true, \"gridcolor\": \"white\", \"linecolor\": \"white\", \"ticks\": \"\", \"title\": {\"standoff\": 15}, \"zerolinecolor\": \"white\", \"zerolinewidth\": 2}, \"yaxis\": {\"automargin\": true, \"gridcolor\": \"white\", \"linecolor\": \"white\", \"ticks\": \"\", \"title\": {\"standoff\": 15}, \"zerolinecolor\": \"white\", \"zerolinewidth\": 2}}}},\n",
       "                        {\"responsive\": true}\n",
       "                    ).then(function(){\n",
       "                            \n",
       "var gd = document.getElementById('87d7f2cf-3740-4f55-a106-f8af3ab8673a');\n",
       "var x = new MutationObserver(function (mutations, observer) {{\n",
       "        var display = window.getComputedStyle(gd).display;\n",
       "        if (!display || display === 'none') {{\n",
       "            console.log([gd, 'removed!']);\n",
       "            Plotly.purge(gd);\n",
       "            observer.disconnect();\n",
       "        }}\n",
       "}});\n",
       "\n",
       "// Listen for the removal of the full notebook cells\n",
       "var notebookContainer = gd.closest('#notebook-container');\n",
       "if (notebookContainer) {{\n",
       "    x.observe(notebookContainer, {childList: true});\n",
       "}}\n",
       "\n",
       "// Listen for the clearing of the current output cell\n",
       "var outputEl = gd.closest('.output');\n",
       "if (outputEl) {{\n",
       "    x.observe(outputEl, {childList: true});\n",
       "}}\n",
       "\n",
       "                        })\n",
       "                };\n",
       "                \n",
       "            </script>\n",
       "        </div>\n",
       "</body>\n",
       "</html>"
      ]
     },
     "metadata": {
      "tags": []
     },
     "output_type": "display_data"
    }
   ],
   "source": [
    "import plotly.express as px\n",
    "df = px.data.election()\n",
    "x_y_z['hue_val'] = x_y_z.hue_val.astype('int64')\n",
    "fig = px.scatter_3d(x_y_z, x=\"Topography\", y=\"Wind\", z=\"Fuel\", hover_name=\"eco_region\", color=\"hue_val\",\n",
    "                  symbol=\"eco_region\", color_continuous_scale='Sunset', \n",
    "                  symbol_map={'Cascades':'square', 'Klamath Mountains': 'circle-open', 'Northern Coastal Sage': 'diamond',\n",
    "                                 'Sierra Nevada':'circle', 'Southern/Baja': 'diamond-open', 'Southern Coastal Sage': 'cross'})\n",
    "fig.update_layout(showlegend=False)\n",
    "fig.show()"
   ]
  },
  {
   "cell_type": "markdown",
   "metadata": {
    "colab_type": "text",
    "id": "D0k8k7f2DXgJ"
   },
   "source": [
    "### Ternary Plot"
   ]
  },
  {
   "cell_type": "code",
   "execution_count": null,
   "metadata": {
    "colab": {},
    "colab_type": "code",
    "id": "Gsl-C6qBBnfG"
   },
   "outputs": [],
   "source": [
    "!  pip install python-ternary"
   ]
  },
  {
   "cell_type": "code",
   "execution_count": null,
   "metadata": {
    "colab": {
     "base_uri": "https://localhost:8080/",
     "height": 542
    },
    "colab_type": "code",
    "id": "Vv-1IkOtDQ8G",
    "outputId": "8b3e6592-9484-45aa-98ae-967bd640daf5"
   },
   "outputs": [
    {
     "data": {
      "text/html": [
       "<html>\n",
       "<head><meta charset=\"utf-8\" /></head>\n",
       "<body>\n",
       "    <div>\n",
       "            <script src=\"https://cdnjs.cloudflare.com/ajax/libs/mathjax/2.7.5/MathJax.js?config=TeX-AMS-MML_SVG\"></script><script type=\"text/javascript\">if (window.MathJax) {MathJax.Hub.Config({SVG: {font: \"STIX-Web\"}});}</script>\n",
       "                <script type=\"text/javascript\">window.PlotlyConfig = {MathJaxConfig: 'local'};</script>\n",
       "        <script src=\"https://cdn.plot.ly/plotly-latest.min.js\"></script>    \n",
       "            <div id=\"dc1a8bef-e149-4d7e-9f34-a295a305c552\" class=\"plotly-graph-div\" style=\"height:525px; width:100%;\"></div>\n",
       "            <script type=\"text/javascript\">\n",
       "                \n",
       "                    window.PLOTLYENV=window.PLOTLYENV || {};\n",
       "                    \n",
       "                if (document.getElementById(\"dc1a8bef-e149-4d7e-9f34-a295a305c552\")) {\n",
       "                    Plotly.newPlot(\n",
       "                        'dc1a8bef-e149-4d7e-9f34-a295a305c552',\n",
       "                        [{\"a\": [0.16372962722133239], \"b\": [0.5025677770869612], \"c\": [0.34423787203988426], \"hoverlabel\": {\"namelength\": 0}, \"hovertemplate\": \"<b>%{hovertext}</b><br><br>eco_region=Cascades<br>hue_val=0<br>Topo_p=%{a}<br>Wind_p=%{b}<br>Fuel_p=%{c}\", \"hovertext\": [\"Cascades\"], \"legendgroup\": \"eco_region=Cascades, hue_val=0\", \"marker\": {\"color\": \"#ab63fa\", \"symbol\": \"circle\"}, \"mode\": \"markers\", \"name\": \"eco_region=Cascades, hue_val=0\", \"showlegend\": true, \"subplot\": \"ternary\", \"type\": \"scatterternary\"}, {\"a\": [0.3398422405333114], \"b\": [0.5654962982065325], \"c\": [0.3612905538365919], \"hoverlabel\": {\"namelength\": 0}, \"hovertemplate\": \"<b>%{hovertext}</b><br><br>eco_region=Cascades<br>hue_val=33<br>Topo_p=%{a}<br>Wind_p=%{b}<br>Fuel_p=%{c}\", \"hovertext\": [\"Cascades\"], \"legendgroup\": \"eco_region=Cascades, hue_val=33\", \"marker\": {\"color\": \"#ab63fa\", \"symbol\": \"diamond\"}, \"mode\": \"markers\", \"name\": \"eco_region=Cascades, hue_val=33\", \"showlegend\": true, \"subplot\": \"ternary\", \"type\": \"scatterternary\"}, {\"a\": [0.5397967197531763], \"b\": [0.7004199826917422], \"c\": [0.6217746563431212], \"hoverlabel\": {\"namelength\": 0}, \"hovertemplate\": \"<b>%{hovertext}</b><br><br>eco_region=Cascades<br>hue_val=66<br>Topo_p=%{a}<br>Wind_p=%{b}<br>Fuel_p=%{c}\", \"hovertext\": [\"Cascades\"], \"legendgroup\": \"eco_region=Cascades, hue_val=66\", \"marker\": {\"color\": \"#ab63fa\", \"symbol\": \"square\"}, \"mode\": \"markers\", \"name\": \"eco_region=Cascades, hue_val=66\", \"showlegend\": true, \"subplot\": \"ternary\", \"type\": \"scatterternary\"}, {\"a\": [0.3350208269785616], \"b\": [0.04201617935659028], \"c\": [0.29264965988753305], \"hoverlabel\": {\"namelength\": 0}, \"hovertemplate\": \"<b>%{hovertext}</b><br><br>eco_region=Klamath Mountains<br>hue_val=0<br>Topo_p=%{a}<br>Wind_p=%{b}<br>Fuel_p=%{c}\", \"hovertext\": [\"Klamath Mountains\"], \"legendgroup\": \"eco_region=Klamath Mountains, hue_val=0\", \"marker\": {\"color\": \"#FFA15A\", \"symbol\": \"circle\"}, \"mode\": \"markers\", \"name\": \"eco_region=Klamath Mountains, hue_val=0\", \"showlegend\": true, \"subplot\": \"ternary\", \"type\": \"scatterternary\"}, {\"a\": [0.28074441771743736], \"b\": [0.18307604538018454], \"c\": [0.3197233611115674], \"hoverlabel\": {\"namelength\": 0}, \"hovertemplate\": \"<b>%{hovertext}</b><br><br>eco_region=Klamath Mountains<br>hue_val=33<br>Topo_p=%{a}<br>Wind_p=%{b}<br>Fuel_p=%{c}\", \"hovertext\": [\"Klamath Mountains\"], \"legendgroup\": \"eco_region=Klamath Mountains, hue_val=33\", \"marker\": {\"color\": \"#FFA15A\", \"symbol\": \"diamond\"}, \"mode\": \"markers\", \"name\": \"eco_region=Klamath Mountains, hue_val=33\", \"showlegend\": true, \"subplot\": \"ternary\", \"type\": \"scatterternary\"}, {\"a\": [0.21892107519934045], \"b\": [0.2786364208353133], \"c\": [0.34823368575673724], \"hoverlabel\": {\"namelength\": 0}, \"hovertemplate\": \"<b>%{hovertext}</b><br><br>eco_region=Klamath Mountains<br>hue_val=66<br>Topo_p=%{a}<br>Wind_p=%{b}<br>Fuel_p=%{c}\", \"hovertext\": [\"Klamath Mountains\"], \"legendgroup\": \"eco_region=Klamath Mountains, hue_val=66\", \"marker\": {\"color\": \"#FFA15A\", \"symbol\": \"square\"}, \"mode\": \"markers\", \"name\": \"eco_region=Klamath Mountains, hue_val=66\", \"showlegend\": true, \"subplot\": \"ternary\", \"type\": \"scatterternary\"}, {\"a\": [0.36399501963719083], \"b\": [0.039070691452492465], \"c\": [0.2306375462222435], \"hoverlabel\": {\"namelength\": 0}, \"hovertemplate\": \"<b>%{hovertext}</b><br><br>eco_region=Northern Coastal Sage<br>hue_val=0<br>Topo_p=%{a}<br>Wind_p=%{b}<br>Fuel_p=%{c}\", \"hovertext\": [\"Northern Coastal Sage\"], \"legendgroup\": \"eco_region=Northern Coastal Sage, hue_val=0\", \"marker\": {\"color\": \"#19d3f3\", \"symbol\": \"circle\"}, \"mode\": \"markers\", \"name\": \"eco_region=Northern Coastal Sage, hue_val=0\", \"showlegend\": true, \"subplot\": \"ternary\", \"type\": \"scatterternary\"}, {\"a\": [0.28587631326138285], \"b\": [0.04078578863053457], \"c\": [0.3079600653800696], \"hoverlabel\": {\"namelength\": 0}, \"hovertemplate\": \"<b>%{hovertext}</b><br><br>eco_region=Northern Coastal Sage<br>hue_val=33<br>Topo_p=%{a}<br>Wind_p=%{b}<br>Fuel_p=%{c}\", \"hovertext\": [\"Northern Coastal Sage\"], \"legendgroup\": \"eco_region=Northern Coastal Sage, hue_val=33\", \"marker\": {\"color\": \"#19d3f3\", \"symbol\": \"diamond\"}, \"mode\": \"markers\", \"name\": \"eco_region=Northern Coastal Sage, hue_val=33\", \"showlegend\": true, \"subplot\": \"ternary\", \"type\": \"scatterternary\"}, {\"a\": [0.22725394980687277], \"b\": [0.09242838511519433], \"c\": [0.2815740498143944], \"hoverlabel\": {\"namelength\": 0}, \"hovertemplate\": \"<b>%{hovertext}</b><br><br>eco_region=Northern Coastal Sage<br>hue_val=66<br>Topo_p=%{a}<br>Wind_p=%{b}<br>Fuel_p=%{c}\", \"hovertext\": [\"Northern Coastal Sage\"], \"legendgroup\": \"eco_region=Northern Coastal Sage, hue_val=66\", \"marker\": {\"color\": \"#19d3f3\", \"symbol\": \"square\"}, \"mode\": \"markers\", \"name\": \"eco_region=Northern Coastal Sage, hue_val=66\", \"showlegend\": true, \"subplot\": \"ternary\", \"type\": \"scatterternary\"}, {\"a\": [0.5549944740711871], \"b\": [0.31427720488606475], \"c\": [0.7101440515652616], \"hoverlabel\": {\"namelength\": 0}, \"hovertemplate\": \"<b>%{hovertext}</b><br><br>eco_region=Northern Coastal Sage<br>hue_val=99<br>Topo_p=%{a}<br>Wind_p=%{b}<br>Fuel_p=%{c}\", \"hovertext\": [\"Northern Coastal Sage\"], \"legendgroup\": \"eco_region=Northern Coastal Sage, hue_val=99\", \"marker\": {\"color\": \"#19d3f3\", \"symbol\": \"x\"}, \"mode\": \"markers\", \"name\": \"eco_region=Northern Coastal Sage, hue_val=99\", \"showlegend\": true, \"subplot\": \"ternary\", \"type\": \"scatterternary\"}, {\"a\": [0.5550315525102686], \"b\": [0.11252736601310165], \"c\": [0.481550670096452], \"hoverlabel\": {\"namelength\": 0}, \"hovertemplate\": \"<b>%{hovertext}</b><br><br>eco_region=Sierra Nevada<br>hue_val=0<br>Topo_p=%{a}<br>Wind_p=%{b}<br>Fuel_p=%{c}\", \"hovertext\": [\"Sierra Nevada\"], \"legendgroup\": \"eco_region=Sierra Nevada, hue_val=0\", \"marker\": {\"color\": \"#FF6692\", \"symbol\": \"circle\"}, \"mode\": \"markers\", \"name\": \"eco_region=Sierra Nevada, hue_val=0\", \"showlegend\": true, \"subplot\": \"ternary\", \"type\": \"scatterternary\"}, {\"a\": [0.32828860757553574], \"b\": [0.11482047122450405], \"c\": [0.3097826387671554], \"hoverlabel\": {\"namelength\": 0}, \"hovertemplate\": \"<b>%{hovertext}</b><br><br>eco_region=Sierra Nevada<br>hue_val=33<br>Topo_p=%{a}<br>Wind_p=%{b}<br>Fuel_p=%{c}\", \"hovertext\": [\"Sierra Nevada\"], \"legendgroup\": \"eco_region=Sierra Nevada, hue_val=33\", \"marker\": {\"color\": \"#FF6692\", \"symbol\": \"diamond\"}, \"mode\": \"markers\", \"name\": \"eco_region=Sierra Nevada, hue_val=33\", \"showlegend\": true, \"subplot\": \"ternary\", \"type\": \"scatterternary\"}, {\"a\": [0.28092700343193083], \"b\": [0.34363930572959867], \"c\": [0.42170667515492266], \"hoverlabel\": {\"namelength\": 0}, \"hovertemplate\": \"<b>%{hovertext}</b><br><br>eco_region=Sierra Nevada<br>hue_val=66<br>Topo_p=%{a}<br>Wind_p=%{b}<br>Fuel_p=%{c}\", \"hovertext\": [\"Sierra Nevada\"], \"legendgroup\": \"eco_region=Sierra Nevada, hue_val=66\", \"marker\": {\"color\": \"#FF6692\", \"symbol\": \"square\"}, \"mode\": \"markers\", \"name\": \"eco_region=Sierra Nevada, hue_val=66\", \"showlegend\": true, \"subplot\": \"ternary\", \"type\": \"scatterternary\"}, {\"a\": [0.7726578434910524], \"b\": [0.7280189648268414], \"c\": [0.9963401076813361], \"hoverlabel\": {\"namelength\": 0}, \"hovertemplate\": \"<b>%{hovertext}</b><br><br>eco_region=Sierra Nevada<br>hue_val=99<br>Topo_p=%{a}<br>Wind_p=%{b}<br>Fuel_p=%{c}\", \"hovertext\": [\"Sierra Nevada\"], \"legendgroup\": \"eco_region=Sierra Nevada, hue_val=99\", \"marker\": {\"color\": \"#FF6692\", \"symbol\": \"x\"}, \"mode\": \"markers\", \"name\": \"eco_region=Sierra Nevada, hue_val=99\", \"showlegend\": true, \"subplot\": \"ternary\", \"type\": \"scatterternary\"}, {\"a\": [0.3610480279084842], \"b\": [0.15213004301944574], \"c\": [0.40840738058921283], \"hoverlabel\": {\"namelength\": 0}, \"hovertemplate\": \"<b>%{hovertext}</b><br><br>eco_region=Southern Coastal Sage<br>hue_val=0<br>Topo_p=%{a}<br>Wind_p=%{b}<br>Fuel_p=%{c}\", \"hovertext\": [\"Southern Coastal Sage\"], \"legendgroup\": \"eco_region=Southern Coastal Sage, hue_val=0\", \"marker\": {\"color\": \"#B6E880\", \"symbol\": \"circle\"}, \"mode\": \"markers\", \"name\": \"eco_region=Southern Coastal Sage, hue_val=0\", \"showlegend\": true, \"subplot\": \"ternary\", \"type\": \"scatterternary\"}, {\"a\": [0.3504711112989846], \"b\": [0.4088508190769114], \"c\": [0.4311296838916015], \"hoverlabel\": {\"namelength\": 0}, \"hovertemplate\": \"<b>%{hovertext}</b><br><br>eco_region=Southern Coastal Sage<br>hue_val=33<br>Topo_p=%{a}<br>Wind_p=%{b}<br>Fuel_p=%{c}\", \"hovertext\": [\"Southern Coastal Sage\"], \"legendgroup\": \"eco_region=Southern Coastal Sage, hue_val=33\", \"marker\": {\"color\": \"#B6E880\", \"symbol\": \"diamond\"}, \"mode\": \"markers\", \"name\": \"eco_region=Southern Coastal Sage, hue_val=33\", \"showlegend\": true, \"subplot\": \"ternary\", \"type\": \"scatterternary\"}, {\"a\": [0.24148984002014232], \"b\": [0.23608775347720662], \"c\": [0.4495803144898043], \"hoverlabel\": {\"namelength\": 0}, \"hovertemplate\": \"<b>%{hovertext}</b><br><br>eco_region=Southern Coastal Sage<br>hue_val=66<br>Topo_p=%{a}<br>Wind_p=%{b}<br>Fuel_p=%{c}\", \"hovertext\": [\"Southern Coastal Sage\"], \"legendgroup\": \"eco_region=Southern Coastal Sage, hue_val=66\", \"marker\": {\"color\": \"#B6E880\", \"symbol\": \"square\"}, \"mode\": \"markers\", \"name\": \"eco_region=Southern Coastal Sage, hue_val=66\", \"showlegend\": true, \"subplot\": \"ternary\", \"type\": \"scatterternary\"}, {\"a\": [0.2816751520941219], \"b\": [0.24207897733348316], \"c\": [0.5408309695993487], \"hoverlabel\": {\"namelength\": 0}, \"hovertemplate\": \"<b>%{hovertext}</b><br><br>eco_region=Southern/Baja<br>hue_val=0<br>Topo_p=%{a}<br>Wind_p=%{b}<br>Fuel_p=%{c}\", \"hovertext\": [\"Southern/Baja\"], \"legendgroup\": \"eco_region=Southern/Baja, hue_val=0\", \"marker\": {\"color\": \"#FF97FF\", \"symbol\": \"circle\"}, \"mode\": \"markers\", \"name\": \"eco_region=Southern/Baja, hue_val=0\", \"showlegend\": true, \"subplot\": \"ternary\", \"type\": \"scatterternary\"}, {\"a\": [0.23610288053949943], \"b\": [0.38675416160837284], \"c\": [0.6577096264398471], \"hoverlabel\": {\"namelength\": 0}, \"hovertemplate\": \"<b>%{hovertext}</b><br><br>eco_region=Southern/Baja<br>hue_val=33<br>Topo_p=%{a}<br>Wind_p=%{b}<br>Fuel_p=%{c}\", \"hovertext\": [\"Southern/Baja\"], \"legendgroup\": \"eco_region=Southern/Baja, hue_val=33\", \"marker\": {\"color\": \"#FF97FF\", \"symbol\": \"diamond\"}, \"mode\": \"markers\", \"name\": \"eco_region=Southern/Baja, hue_val=33\", \"showlegend\": true, \"subplot\": \"ternary\", \"type\": \"scatterternary\"}, {\"a\": [0.3014485324530108], \"b\": [0.2134402481810232], \"c\": [0.7133913969458855], \"hoverlabel\": {\"namelength\": 0}, \"hovertemplate\": \"<b>%{hovertext}</b><br><br>eco_region=Southern/Baja<br>hue_val=66<br>Topo_p=%{a}<br>Wind_p=%{b}<br>Fuel_p=%{c}\", \"hovertext\": [\"Southern/Baja\"], \"legendgroup\": \"eco_region=Southern/Baja, hue_val=66\", \"marker\": {\"color\": \"#FF97FF\", \"symbol\": \"square\"}, \"mode\": \"markers\", \"name\": \"eco_region=Southern/Baja, hue_val=66\", \"showlegend\": true, \"subplot\": \"ternary\", \"type\": \"scatterternary\"}, {\"a\": [1.0], \"b\": [1.0], \"c\": [1.0], \"hoverlabel\": {\"namelength\": 0}, \"hovertemplate\": \"<b>%{hovertext}</b><br><br>eco_region=Southern/Baja<br>hue_val=99<br>Topo_p=%{a}<br>Wind_p=%{b}<br>Fuel_p=%{c}\", \"hovertext\": [\"Southern/Baja\"], \"legendgroup\": \"eco_region=Southern/Baja, hue_val=99\", \"marker\": {\"color\": \"#FF97FF\", \"symbol\": \"x\"}, \"mode\": \"markers\", \"name\": \"eco_region=Southern/Baja, hue_val=99\", \"showlegend\": true, \"subplot\": \"ternary\", \"type\": \"scatterternary\"}],\n",
       "                        {\"legend\": {\"tracegroupgap\": 0}, \"margin\": {\"t\": 60}, \"template\": {\"data\": {\"bar\": [{\"error_x\": {\"color\": \"#2a3f5f\"}, \"error_y\": {\"color\": \"#2a3f5f\"}, \"marker\": {\"line\": {\"color\": \"#E5ECF6\", \"width\": 0.5}}, \"type\": \"bar\"}], \"barpolar\": [{\"marker\": {\"line\": {\"color\": \"#E5ECF6\", \"width\": 0.5}}, \"type\": \"barpolar\"}], \"carpet\": [{\"aaxis\": {\"endlinecolor\": \"#2a3f5f\", \"gridcolor\": \"white\", \"linecolor\": \"white\", \"minorgridcolor\": \"white\", \"startlinecolor\": \"#2a3f5f\"}, \"baxis\": {\"endlinecolor\": \"#2a3f5f\", \"gridcolor\": \"white\", \"linecolor\": \"white\", \"minorgridcolor\": \"white\", \"startlinecolor\": \"#2a3f5f\"}, \"type\": \"carpet\"}], \"choropleth\": [{\"colorbar\": {\"outlinewidth\": 0, \"ticks\": \"\"}, \"type\": \"choropleth\"}], \"contour\": [{\"colorbar\": {\"outlinewidth\": 0, \"ticks\": \"\"}, \"colorscale\": [[0.0, \"#0d0887\"], [0.1111111111111111, \"#46039f\"], [0.2222222222222222, \"#7201a8\"], [0.3333333333333333, \"#9c179e\"], [0.4444444444444444, \"#bd3786\"], [0.5555555555555556, \"#d8576b\"], [0.6666666666666666, \"#ed7953\"], [0.7777777777777778, \"#fb9f3a\"], [0.8888888888888888, \"#fdca26\"], [1.0, \"#f0f921\"]], \"type\": \"contour\"}], \"contourcarpet\": [{\"colorbar\": {\"outlinewidth\": 0, \"ticks\": \"\"}, \"type\": \"contourcarpet\"}], \"heatmap\": [{\"colorbar\": {\"outlinewidth\": 0, \"ticks\": \"\"}, \"colorscale\": [[0.0, \"#0d0887\"], [0.1111111111111111, \"#46039f\"], [0.2222222222222222, \"#7201a8\"], [0.3333333333333333, \"#9c179e\"], [0.4444444444444444, \"#bd3786\"], [0.5555555555555556, \"#d8576b\"], [0.6666666666666666, \"#ed7953\"], [0.7777777777777778, \"#fb9f3a\"], [0.8888888888888888, \"#fdca26\"], [1.0, \"#f0f921\"]], \"type\": \"heatmap\"}], \"heatmapgl\": [{\"colorbar\": {\"outlinewidth\": 0, \"ticks\": \"\"}, \"colorscale\": [[0.0, \"#0d0887\"], [0.1111111111111111, \"#46039f\"], [0.2222222222222222, \"#7201a8\"], [0.3333333333333333, \"#9c179e\"], [0.4444444444444444, \"#bd3786\"], [0.5555555555555556, \"#d8576b\"], [0.6666666666666666, \"#ed7953\"], [0.7777777777777778, \"#fb9f3a\"], [0.8888888888888888, \"#fdca26\"], [1.0, \"#f0f921\"]], \"type\": \"heatmapgl\"}], \"histogram\": [{\"marker\": {\"colorbar\": {\"outlinewidth\": 0, \"ticks\": \"\"}}, \"type\": \"histogram\"}], \"histogram2d\": [{\"colorbar\": {\"outlinewidth\": 0, \"ticks\": \"\"}, \"colorscale\": [[0.0, \"#0d0887\"], [0.1111111111111111, \"#46039f\"], [0.2222222222222222, \"#7201a8\"], [0.3333333333333333, \"#9c179e\"], [0.4444444444444444, \"#bd3786\"], [0.5555555555555556, \"#d8576b\"], [0.6666666666666666, \"#ed7953\"], [0.7777777777777778, \"#fb9f3a\"], [0.8888888888888888, \"#fdca26\"], [1.0, \"#f0f921\"]], \"type\": \"histogram2d\"}], \"histogram2dcontour\": [{\"colorbar\": {\"outlinewidth\": 0, \"ticks\": \"\"}, \"colorscale\": [[0.0, \"#0d0887\"], [0.1111111111111111, \"#46039f\"], [0.2222222222222222, \"#7201a8\"], [0.3333333333333333, \"#9c179e\"], [0.4444444444444444, \"#bd3786\"], [0.5555555555555556, \"#d8576b\"], [0.6666666666666666, \"#ed7953\"], [0.7777777777777778, \"#fb9f3a\"], [0.8888888888888888, \"#fdca26\"], [1.0, \"#f0f921\"]], \"type\": \"histogram2dcontour\"}], \"mesh3d\": [{\"colorbar\": {\"outlinewidth\": 0, \"ticks\": \"\"}, \"type\": \"mesh3d\"}], \"parcoords\": [{\"line\": {\"colorbar\": {\"outlinewidth\": 0, \"ticks\": \"\"}}, \"type\": \"parcoords\"}], \"pie\": [{\"automargin\": true, \"type\": \"pie\"}], \"scatter\": [{\"marker\": {\"colorbar\": {\"outlinewidth\": 0, \"ticks\": \"\"}}, \"type\": \"scatter\"}], \"scatter3d\": [{\"line\": {\"colorbar\": {\"outlinewidth\": 0, \"ticks\": \"\"}}, \"marker\": {\"colorbar\": {\"outlinewidth\": 0, \"ticks\": \"\"}}, \"type\": \"scatter3d\"}], \"scattercarpet\": [{\"marker\": {\"colorbar\": {\"outlinewidth\": 0, \"ticks\": \"\"}}, \"type\": \"scattercarpet\"}], \"scattergeo\": [{\"marker\": {\"colorbar\": {\"outlinewidth\": 0, \"ticks\": \"\"}}, \"type\": \"scattergeo\"}], \"scattergl\": [{\"marker\": {\"colorbar\": {\"outlinewidth\": 0, \"ticks\": \"\"}}, \"type\": \"scattergl\"}], \"scattermapbox\": [{\"marker\": {\"colorbar\": {\"outlinewidth\": 0, \"ticks\": \"\"}}, \"type\": \"scattermapbox\"}], \"scatterpolar\": [{\"marker\": {\"colorbar\": {\"outlinewidth\": 0, \"ticks\": \"\"}}, \"type\": \"scatterpolar\"}], \"scatterpolargl\": [{\"marker\": {\"colorbar\": {\"outlinewidth\": 0, \"ticks\": \"\"}}, \"type\": \"scatterpolargl\"}], \"scatterternary\": [{\"marker\": {\"colorbar\": {\"outlinewidth\": 0, \"ticks\": \"\"}}, \"type\": \"scatterternary\"}], \"surface\": [{\"colorbar\": {\"outlinewidth\": 0, \"ticks\": \"\"}, \"colorscale\": [[0.0, \"#0d0887\"], [0.1111111111111111, \"#46039f\"], [0.2222222222222222, \"#7201a8\"], [0.3333333333333333, \"#9c179e\"], [0.4444444444444444, \"#bd3786\"], [0.5555555555555556, \"#d8576b\"], [0.6666666666666666, \"#ed7953\"], [0.7777777777777778, \"#fb9f3a\"], [0.8888888888888888, \"#fdca26\"], [1.0, \"#f0f921\"]], \"type\": \"surface\"}], \"table\": [{\"cells\": {\"fill\": {\"color\": \"#EBF0F8\"}, \"line\": {\"color\": \"white\"}}, \"header\": {\"fill\": {\"color\": \"#C8D4E3\"}, \"line\": {\"color\": \"white\"}}, \"type\": \"table\"}]}, \"layout\": {\"annotationdefaults\": {\"arrowcolor\": \"#2a3f5f\", \"arrowhead\": 0, \"arrowwidth\": 1}, \"coloraxis\": {\"colorbar\": {\"outlinewidth\": 0, \"ticks\": \"\"}}, \"colorscale\": {\"diverging\": [[0, \"#8e0152\"], [0.1, \"#c51b7d\"], [0.2, \"#de77ae\"], [0.3, \"#f1b6da\"], [0.4, \"#fde0ef\"], [0.5, \"#f7f7f7\"], [0.6, \"#e6f5d0\"], [0.7, \"#b8e186\"], [0.8, \"#7fbc41\"], [0.9, \"#4d9221\"], [1, \"#276419\"]], \"sequential\": [[0.0, \"#0d0887\"], [0.1111111111111111, \"#46039f\"], [0.2222222222222222, \"#7201a8\"], [0.3333333333333333, \"#9c179e\"], [0.4444444444444444, \"#bd3786\"], [0.5555555555555556, \"#d8576b\"], [0.6666666666666666, \"#ed7953\"], [0.7777777777777778, \"#fb9f3a\"], [0.8888888888888888, \"#fdca26\"], [1.0, \"#f0f921\"]], \"sequentialminus\": [[0.0, \"#0d0887\"], [0.1111111111111111, \"#46039f\"], [0.2222222222222222, \"#7201a8\"], [0.3333333333333333, \"#9c179e\"], [0.4444444444444444, \"#bd3786\"], [0.5555555555555556, \"#d8576b\"], [0.6666666666666666, \"#ed7953\"], [0.7777777777777778, \"#fb9f3a\"], [0.8888888888888888, \"#fdca26\"], [1.0, \"#f0f921\"]]}, \"colorway\": [\"#636efa\", \"#EF553B\", \"#00cc96\", \"#ab63fa\", \"#FFA15A\", \"#19d3f3\", \"#FF6692\", \"#B6E880\", \"#FF97FF\", \"#FECB52\"], \"font\": {\"color\": \"#2a3f5f\"}, \"geo\": {\"bgcolor\": \"white\", \"lakecolor\": \"white\", \"landcolor\": \"#E5ECF6\", \"showlakes\": true, \"showland\": true, \"subunitcolor\": \"white\"}, \"hoverlabel\": {\"align\": \"left\"}, \"hovermode\": \"closest\", \"mapbox\": {\"style\": \"light\"}, \"paper_bgcolor\": \"white\", \"plot_bgcolor\": \"#E5ECF6\", \"polar\": {\"angularaxis\": {\"gridcolor\": \"white\", \"linecolor\": \"white\", \"ticks\": \"\"}, \"bgcolor\": \"#E5ECF6\", \"radialaxis\": {\"gridcolor\": \"white\", \"linecolor\": \"white\", \"ticks\": \"\"}}, \"scene\": {\"xaxis\": {\"backgroundcolor\": \"#E5ECF6\", \"gridcolor\": \"white\", \"gridwidth\": 2, \"linecolor\": \"white\", \"showbackground\": true, \"ticks\": \"\", \"zerolinecolor\": \"white\"}, \"yaxis\": {\"backgroundcolor\": \"#E5ECF6\", \"gridcolor\": \"white\", \"gridwidth\": 2, \"linecolor\": \"white\", \"showbackground\": true, \"ticks\": \"\", \"zerolinecolor\": \"white\"}, \"zaxis\": {\"backgroundcolor\": \"#E5ECF6\", \"gridcolor\": \"white\", \"gridwidth\": 2, \"linecolor\": \"white\", \"showbackground\": true, \"ticks\": \"\", \"zerolinecolor\": \"white\"}}, \"shapedefaults\": {\"line\": {\"color\": \"#2a3f5f\"}}, \"ternary\": {\"aaxis\": {\"gridcolor\": \"white\", \"linecolor\": \"white\", \"ticks\": \"\"}, \"baxis\": {\"gridcolor\": \"white\", \"linecolor\": \"white\", \"ticks\": \"\"}, \"bgcolor\": \"#E5ECF6\", \"caxis\": {\"gridcolor\": \"white\", \"linecolor\": \"white\", \"ticks\": \"\"}}, \"title\": {\"x\": 0.05}, \"xaxis\": {\"automargin\": true, \"gridcolor\": \"white\", \"linecolor\": \"white\", \"ticks\": \"\", \"title\": {\"standoff\": 15}, \"zerolinecolor\": \"white\", \"zerolinewidth\": 2}, \"yaxis\": {\"automargin\": true, \"gridcolor\": \"white\", \"linecolor\": \"white\", \"ticks\": \"\", \"title\": {\"standoff\": 15}, \"zerolinecolor\": \"white\", \"zerolinewidth\": 2}}}, \"ternary\": {\"aaxis\": {\"title\": {\"text\": \"Topo_p\"}}, \"baxis\": {\"title\": {\"text\": \"Wind_p\"}}, \"caxis\": {\"title\": {\"text\": \"Fuel_p\"}}, \"domain\": {\"x\": [0.0, 1.0], \"y\": [0.0, 1.0]}}},\n",
       "                        {\"responsive\": true}\n",
       "                    ).then(function(){\n",
       "                            \n",
       "var gd = document.getElementById('dc1a8bef-e149-4d7e-9f34-a295a305c552');\n",
       "var x = new MutationObserver(function (mutations, observer) {{\n",
       "        var display = window.getComputedStyle(gd).display;\n",
       "        if (!display || display === 'none') {{\n",
       "            console.log([gd, 'removed!']);\n",
       "            Plotly.purge(gd);\n",
       "            observer.disconnect();\n",
       "        }}\n",
       "}});\n",
       "\n",
       "// Listen for the removal of the full notebook cells\n",
       "var notebookContainer = gd.closest('#notebook-container');\n",
       "if (notebookContainer) {{\n",
       "    x.observe(notebookContainer, {childList: true});\n",
       "}}\n",
       "\n",
       "// Listen for the clearing of the current output cell\n",
       "var outputEl = gd.closest('.output');\n",
       "if (outputEl) {{\n",
       "    x.observe(outputEl, {childList: true});\n",
       "}}\n",
       "\n",
       "                        })\n",
       "                };\n",
       "                \n",
       "            </script>\n",
       "        </div>\n",
       "</body>\n",
       "</html>"
      ]
     },
     "metadata": {
      "tags": []
     },
     "output_type": "display_data"
    }
   ],
   "source": [
    "import ternary\n",
    "\n",
    "import plotly.express as px\n",
    "df = px.data.election()\n",
    "fig = px.scatter_ternary(x_y_z, a='Topo_p', b='Wind_p', c='Fuel_p',  hover_name=\"eco_region\", color=\"eco_region\", symbol=\"hue_val\",\n",
    "                   size_max=100, color_discrete_map = {'Topo': \"blue\", 'Weather': \"green\", 'Fuel':\"red\"} )\n",
    "fig.show()"
   ]
  },
  {
   "cell_type": "code",
   "execution_count": null,
   "metadata": {
    "colab": {},
    "colab_type": "code",
    "id": "N3OSB3HDDiNN"
   },
   "outputs": [],
   "source": []
  }
 ],
 "metadata": {
  "colab": {
   "collapsed_sections": [],
   "machine_shape": "hm",
   "name": "RAWS_Fire.ipynb",
   "provenance": [],
   "toc_visible": true
  },
  "kernelspec": {
   "display_name": "Python 3",
   "language": "python",
   "name": "python3"
  },
  "language_info": {
   "codemirror_mode": {
    "name": "ipython",
    "version": 3
   },
   "file_extension": ".py",
   "mimetype": "text/x-python",
   "name": "python",
   "nbconvert_exporter": "python",
   "pygments_lexer": "ipython3",
   "version": "3.7.6"
  }
 },
 "nbformat": 4,
 "nbformat_minor": 1
}
